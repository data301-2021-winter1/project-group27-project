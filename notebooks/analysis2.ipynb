{
 "cells": [
  {
   "cell_type": "markdown",
   "metadata": {},
   "source": [
<<<<<<< HEAD
    "# Rebecca Godard"
=======
    "# Andry Ramorasata"
>>>>>>> 1653ce843fe8ca11daa676dc9a84073fcecc15ff
   ]
  },
  {
   "cell_type": "markdown",
   "metadata": {},
   "source": [
<<<<<<< HEAD
    "## Research question/interests\n",
    "\n",
    "I am interested in factors that predict length of treatment among incarcerated patients. In particular, I'd like to run a survival analysis on this data to predict either length of treatment using diagnosis, type of crime, demographic factors, etc. "
   ]
=======
    "## Research question/interests\r\n",
    "If there is a significant correlation between a demographic factor and a crime? Disorder and a crime?\n",
    "What are the statistics of somebody to commit a specific crime based off certain demographic characterisics?e."
   ]
  },
  {
   "cell_type": "code",
   "execution_count": null,
   "metadata": {},
   "outputs": [],
   "source": []
>>>>>>> 1653ce843fe8ca11daa676dc9a84073fcecc15ff
  }
 ],
 "metadata": {
  "kernelspec": {
   "display_name": "Python 3",
   "language": "python",
   "name": "python3"
  },
  "language_info": {
   "codemirror_mode": {
    "name": "ipython",
    "version": 3
   },
   "file_extension": ".py",
   "mimetype": "text/x-python",
   "name": "python",
   "nbconvert_exporter": "python",
   "pygments_lexer": "ipython3",
   "version": "3.9.5"
  }
 },
 "nbformat": 4,
<<<<<<< HEAD
 "nbformat_minor": 2
=======
 "nbformat_minor": 4
>>>>>>> 1653ce843fe8ca11daa676dc9a84073fcecc15ff
}
