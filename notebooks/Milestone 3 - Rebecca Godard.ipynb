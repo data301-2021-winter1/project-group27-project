{
 "cells": [
  {
   "cell_type": "markdown",
   "id": "3060acde",
   "metadata": {},
   "source": [
    "# Exploratory Data Analysis"
   ]
  },
  {
   "cell_type": "code",
   "execution_count": 1,
   "id": "e2878728",
   "metadata": {},
   "outputs": [],
   "source": [
    "# Importing libraries\n",
    "import pandas as pd\n",
    "import numpy as np"
   ]
  },
  {
   "cell_type": "markdown",
   "id": "24ecf267",
   "metadata": {},
   "source": [
    "## Record 1 Data"
   ]
  },
  {
   "cell_type": "code",
   "execution_count": 55,
   "id": "a59cddc7",
   "metadata": {},
   "outputs": [
    {
     "name": "stdout",
     "output_type": "stream",
     "text": [
      "<class 'pandas.core.frame.DataFrame'>\n",
      "RangeIndex: 1003 entries, 0 to 1002\n",
      "Data columns (total 26 columns):\n",
      " #   Column      Non-Null Count  Dtype\n",
      "---  ------      --------------  -----\n",
      " 0   Unnamed: 0  1003 non-null   int64\n",
      " 1   id          1003 non-null   int64\n",
      " 2   rid         1003 non-null   int64\n",
      " 3   sex         1003 non-null   int64\n",
      " 4   birth       1003 non-null   int64\n",
      " 5   race        1003 non-null   int64\n",
      " 6   educ        1003 non-null   int64\n",
      " 7   marital     1003 non-null   int64\n",
      " 8   children    1003 non-null   int64\n",
      " 9   occupat     1003 non-null   int64\n",
      " 10  arrests     1003 non-null   int64\n",
      " 11  jail        1003 non-null   int64\n",
      " 12  crime01     1003 non-null   int64\n",
      " 13  crime02     1003 non-null   int64\n",
      " 14  crime03     1003 non-null   int64\n",
      " 15  crime04     1003 non-null   int64\n",
      " 16  crime05     1003 non-null   int64\n",
      " 17  crime06     1003 non-null   int64\n",
      " 18  crime07     1003 non-null   int64\n",
      " 19  crime08     1003 non-null   int64\n",
      " 20  crime09     1003 non-null   int64\n",
      " 21  crime10     1003 non-null   int64\n",
      " 22  crime11     1003 non-null   int64\n",
      " 23  crime12     1003 non-null   int64\n",
      " 24  crime13     1003 non-null   int64\n",
      " 25  crime14     1003 non-null   int64\n",
      "dtypes: int64(26)\n",
      "memory usage: 203.9 KB\n"
     ]
    },
    {
     "data": {
      "text/html": [
       "<div>\n",
       "<style scoped>\n",
       "    .dataframe tbody tr th:only-of-type {\n",
       "        vertical-align: middle;\n",
       "    }\n",
       "\n",
       "    .dataframe tbody tr th {\n",
       "        vertical-align: top;\n",
       "    }\n",
       "\n",
       "    .dataframe thead th {\n",
       "        text-align: right;\n",
       "    }\n",
       "</style>\n",
       "<table border=\"1\" class=\"dataframe\">\n",
       "  <thead>\n",
       "    <tr style=\"text-align: right;\">\n",
       "      <th></th>\n",
       "      <th>Unnamed: 0</th>\n",
       "      <th>id</th>\n",
       "      <th>rid</th>\n",
       "      <th>sex</th>\n",
       "      <th>birth</th>\n",
       "      <th>race</th>\n",
       "      <th>educ</th>\n",
       "      <th>marital</th>\n",
       "      <th>children</th>\n",
       "      <th>occupat</th>\n",
       "      <th>...</th>\n",
       "      <th>crime05</th>\n",
       "      <th>crime06</th>\n",
       "      <th>crime07</th>\n",
       "      <th>crime08</th>\n",
       "      <th>crime09</th>\n",
       "      <th>crime10</th>\n",
       "      <th>crime11</th>\n",
       "      <th>crime12</th>\n",
       "      <th>crime13</th>\n",
       "      <th>crime14</th>\n",
       "    </tr>\n",
       "  </thead>\n",
       "  <tbody>\n",
       "    <tr>\n",
       "      <th>998</th>\n",
       "      <td>999</td>\n",
       "      <td>999</td>\n",
       "      <td>991</td>\n",
       "      <td>1</td>\n",
       "      <td>21</td>\n",
       "      <td>1</td>\n",
       "      <td>0</td>\n",
       "      <td>1</td>\n",
       "      <td>0</td>\n",
       "      <td>0</td>\n",
       "      <td>...</td>\n",
       "      <td>0</td>\n",
       "      <td>0</td>\n",
       "      <td>0</td>\n",
       "      <td>0</td>\n",
       "      <td>0</td>\n",
       "      <td>0</td>\n",
       "      <td>0</td>\n",
       "      <td>0</td>\n",
       "      <td>0</td>\n",
       "      <td>0</td>\n",
       "    </tr>\n",
       "    <tr>\n",
       "      <th>999</th>\n",
       "      <td>1000</td>\n",
       "      <td>1000</td>\n",
       "      <td>991</td>\n",
       "      <td>1</td>\n",
       "      <td>48</td>\n",
       "      <td>1</td>\n",
       "      <td>0</td>\n",
       "      <td>4</td>\n",
       "      <td>0</td>\n",
       "      <td>0</td>\n",
       "      <td>...</td>\n",
       "      <td>0</td>\n",
       "      <td>0</td>\n",
       "      <td>0</td>\n",
       "      <td>0</td>\n",
       "      <td>0</td>\n",
       "      <td>0</td>\n",
       "      <td>0</td>\n",
       "      <td>0</td>\n",
       "      <td>0</td>\n",
       "      <td>0</td>\n",
       "    </tr>\n",
       "    <tr>\n",
       "      <th>1000</th>\n",
       "      <td>1001</td>\n",
       "      <td>1001</td>\n",
       "      <td>991</td>\n",
       "      <td>1</td>\n",
       "      <td>46</td>\n",
       "      <td>2</td>\n",
       "      <td>0</td>\n",
       "      <td>1</td>\n",
       "      <td>0</td>\n",
       "      <td>0</td>\n",
       "      <td>...</td>\n",
       "      <td>0</td>\n",
       "      <td>0</td>\n",
       "      <td>0</td>\n",
       "      <td>0</td>\n",
       "      <td>0</td>\n",
       "      <td>0</td>\n",
       "      <td>0</td>\n",
       "      <td>0</td>\n",
       "      <td>0</td>\n",
       "      <td>0</td>\n",
       "    </tr>\n",
       "    <tr>\n",
       "      <th>1001</th>\n",
       "      <td>1002</td>\n",
       "      <td>1002</td>\n",
       "      <td>991</td>\n",
       "      <td>1</td>\n",
       "      <td>42</td>\n",
       "      <td>2</td>\n",
       "      <td>0</td>\n",
       "      <td>3</td>\n",
       "      <td>0</td>\n",
       "      <td>0</td>\n",
       "      <td>...</td>\n",
       "      <td>0</td>\n",
       "      <td>0</td>\n",
       "      <td>0</td>\n",
       "      <td>0</td>\n",
       "      <td>0</td>\n",
       "      <td>0</td>\n",
       "      <td>0</td>\n",
       "      <td>0</td>\n",
       "      <td>0</td>\n",
       "      <td>0</td>\n",
       "    </tr>\n",
       "    <tr>\n",
       "      <th>1002</th>\n",
       "      <td>1003</td>\n",
       "      <td>1003</td>\n",
       "      <td>991</td>\n",
       "      <td>1</td>\n",
       "      <td>30</td>\n",
       "      <td>2</td>\n",
       "      <td>0</td>\n",
       "      <td>2</td>\n",
       "      <td>0</td>\n",
       "      <td>0</td>\n",
       "      <td>...</td>\n",
       "      <td>0</td>\n",
       "      <td>0</td>\n",
       "      <td>0</td>\n",
       "      <td>0</td>\n",
       "      <td>0</td>\n",
       "      <td>0</td>\n",
       "      <td>0</td>\n",
       "      <td>0</td>\n",
       "      <td>0</td>\n",
       "      <td>0</td>\n",
       "    </tr>\n",
       "  </tbody>\n",
       "</table>\n",
       "<p>5 rows × 26 columns</p>\n",
       "</div>"
      ],
      "text/plain": [
       "      Unnamed: 0    id  rid  sex  birth  race  educ  marital  children  \\\n",
       "998          999   999  991    1     21     1     0        1         0   \n",
       "999         1000  1000  991    1     48     1     0        4         0   \n",
       "1000        1001  1001  991    1     46     2     0        1         0   \n",
       "1001        1002  1002  991    1     42     2     0        3         0   \n",
       "1002        1003  1003  991    1     30     2     0        2         0   \n",
       "\n",
       "      occupat  ...  crime05  crime06  crime07  crime08  crime09  crime10  \\\n",
       "998         0  ...        0        0        0        0        0        0   \n",
       "999         0  ...        0        0        0        0        0        0   \n",
       "1000        0  ...        0        0        0        0        0        0   \n",
       "1001        0  ...        0        0        0        0        0        0   \n",
       "1002        0  ...        0        0        0        0        0        0   \n",
       "\n",
       "      crime11  crime12  crime13  crime14  \n",
       "998         0        0        0        0  \n",
       "999         0        0        0        0  \n",
       "1000        0        0        0        0  \n",
       "1001        0        0        0        0  \n",
       "1002        0        0        0        0  \n",
       "\n",
       "[5 rows x 26 columns]"
      ]
     },
     "execution_count": 55,
     "metadata": {},
     "output_type": "execute_result"
    }
   ],
   "source": [
    "rec1data = pd.read_csv(\"../data/processed/rec1data.csv\")\n",
    "rec1data.info()\n",
    "rec1data.head()"
   ]
  },
  {
   "cell_type": "code",
   "execution_count": 17,
   "id": "57068b58",
   "metadata": {},
   "outputs": [
    {
     "data": {
      "text/plain": [
       "count    1003.000000\n",
       "mean        0.816550\n",
       "std         1.115239\n",
       "min         0.000000\n",
       "25%         0.000000\n",
       "50%         1.000000\n",
       "75%         1.000000\n",
       "max        13.000000\n",
       "Name: crime_num, dtype: float64"
      ]
     },
     "execution_count": 17,
     "metadata": {},
     "output_type": "execute_result"
    }
   ],
   "source": [
    "# Adding a column for total number of crimes\n",
    "# Each case has at least 1 crime, but I want to know the average and maximum\n",
    "# Crime variables contain 0s if the person didn't commit that many crimes\n",
    "\n",
    "rec1data['crime_num'] = (rec1data.iloc[:,12:25] != 0).sum(axis=1)\n",
    "rec1data['crime_num'].describe()\n",
    "\n",
    "\n",
    "# The majority of prisoners had 1 or 0 crimes, but the maximum is 13. \n",
    "# This is a very positively skewed variable."
   ]
  },
  {
   "cell_type": "code",
   "execution_count": 27,
   "id": "bf8b6b17",
   "metadata": {},
   "outputs": [
    {
     "data": {
      "text/plain": [
       "array([[<AxesSubplot:title={'center':'crime_num'}>]], dtype=object)"
      ]
     },
     "execution_count": 27,
     "metadata": {},
     "output_type": "execute_result"
    },
    {
     "data": {
      "image/png": "[encoded data removed]",
      "text/plain": [
       "<Figure size 432x288 with 1 Axes>"
      ]
     },
     "metadata": {
      "needs_background": "light"
     },
     "output_type": "display_data"
    }
   ],
   "source": [
    "rec1data.hist(column = \"crime_num\", bins = range(14))\n"
   ]
  },
  {
   "cell_type": "code",
   "execution_count": 30,
   "id": "772f0204",
   "metadata": {},
   "outputs": [
    {
     "data": {
      "text/plain": [
       "0.6151545363908275"
      ]
     },
     "execution_count": 30,
     "metadata": {},
     "output_type": "execute_result"
    }
   ],
   "source": [
    "(rec1data['crime_num'] > 0).sum() / 1003\n",
    "\n",
    "# Only 62% of the prisoners have a crime record. This seems strange! \n",
    "# Maybe something is going on with record 2."
   ]
  },
  {
   "cell_type": "markdown",
   "id": "a56daf33",
   "metadata": {},
   "source": [
    "## Record 2"
   ]
  },
  {
   "cell_type": "code",
   "execution_count": 54,
   "id": "74de0d26",
   "metadata": {},
   "outputs": [
    {
     "name": "stdout",
     "output_type": "stream",
     "text": [
      "<class 'pandas.core.frame.DataFrame'>\n",
      "RangeIndex: 1003 entries, 0 to 1002\n",
      "Data columns (total 30 columns):\n",
      " #   Column            Non-Null Count  Dtype\n",
      "---  ------            --------------  -----\n",
      " 0   Unnamed: 0        1003 non-null   int64\n",
      " 1   id                1003 non-null   int64\n",
      " 2   rid               1003 non-null   int64\n",
      " 3   pub_intox         1003 non-null   int64\n",
      " 4   pet_larc          1003 non-null   int64\n",
      " 5   misc              1003 non-null   int64\n",
      " 6   assault           1003 non-null   int64\n",
      " 7   arson             1003 non-null   int64\n",
      " 8   rape              1003 non-null   int64\n",
      " 9   forgery           1003 non-null   int64\n",
      " 10  consp             1003 non-null   int64\n",
      " 11  mvv               1003 non-null   int64\n",
      " 12  narc              1003 non-null   int64\n",
      " 13  viol_prob         1003 non-null   int64\n",
      " 14  viol_parole       1003 non-null   int64\n",
      " 15  gambling          1003 non-null   int64\n",
      " 16  grand_larc        1003 non-null   int64\n",
      " 17  robbery           1003 non-null   int64\n",
      " 18  burglary          1003 non-null   int64\n",
      " 19  sex_off           1003 non-null   int64\n",
      " 20  crim_poss_weap    1003 non-null   int64\n",
      " 21  crim_poss_instr   1003 non-null   int64\n",
      " 22  obst_gov          1003 non-null   int64\n",
      " 23  res_arrest        1003 non-null   int64\n",
      " 24  escape            1003 non-null   int64\n",
      " 25  crim_poss_stolen  1003 non-null   int64\n",
      " 26  reck_endanger     1003 non-null   int64\n",
      " 27  crim_neg_hom      1003 non-null   int64\n",
      " 28  youth_off         1003 non-null   int64\n",
      " 29  crim_tresspasss   1003 non-null   int64\n",
      "dtypes: int64(30)\n",
      "memory usage: 235.2 KB\n"
     ]
    },
    {
     "data": {
      "text/html": [
       "<div>\n",
       "<style scoped>\n",
       "    .dataframe tbody tr th:only-of-type {\n",
       "        vertical-align: middle;\n",
       "    }\n",
       "\n",
       "    .dataframe tbody tr th {\n",
       "        vertical-align: top;\n",
       "    }\n",
       "\n",
       "    .dataframe thead th {\n",
       "        text-align: right;\n",
       "    }\n",
       "</style>\n",
       "<table border=\"1\" class=\"dataframe\">\n",
       "  <thead>\n",
       "    <tr style=\"text-align: right;\">\n",
       "      <th></th>\n",
       "      <th>Unnamed: 0</th>\n",
       "      <th>id</th>\n",
       "      <th>rid</th>\n",
       "      <th>pub_intox</th>\n",
       "      <th>pet_larc</th>\n",
       "      <th>misc</th>\n",
       "      <th>assault</th>\n",
       "      <th>arson</th>\n",
       "      <th>rape</th>\n",
       "      <th>forgery</th>\n",
       "      <th>...</th>\n",
       "      <th>crim_poss_weap</th>\n",
       "      <th>crim_poss_instr</th>\n",
       "      <th>obst_gov</th>\n",
       "      <th>res_arrest</th>\n",
       "      <th>escape</th>\n",
       "      <th>crim_poss_stolen</th>\n",
       "      <th>reck_endanger</th>\n",
       "      <th>crim_neg_hom</th>\n",
       "      <th>youth_off</th>\n",
       "      <th>crim_tresspasss</th>\n",
       "    </tr>\n",
       "  </thead>\n",
       "  <tbody>\n",
       "    <tr>\n",
       "      <th>998</th>\n",
       "      <td>999</td>\n",
       "      <td>999</td>\n",
       "      <td>992</td>\n",
       "      <td>0</td>\n",
       "      <td>0</td>\n",
       "      <td>0</td>\n",
       "      <td>0</td>\n",
       "      <td>0</td>\n",
       "      <td>0</td>\n",
       "      <td>0</td>\n",
       "      <td>...</td>\n",
       "      <td>0</td>\n",
       "      <td>0</td>\n",
       "      <td>0</td>\n",
       "      <td>0</td>\n",
       "      <td>0</td>\n",
       "      <td>0</td>\n",
       "      <td>0</td>\n",
       "      <td>0</td>\n",
       "      <td>0</td>\n",
       "      <td>0</td>\n",
       "    </tr>\n",
       "    <tr>\n",
       "      <th>999</th>\n",
       "      <td>1000</td>\n",
       "      <td>1000</td>\n",
       "      <td>992</td>\n",
       "      <td>0</td>\n",
       "      <td>0</td>\n",
       "      <td>0</td>\n",
       "      <td>0</td>\n",
       "      <td>0</td>\n",
       "      <td>0</td>\n",
       "      <td>0</td>\n",
       "      <td>...</td>\n",
       "      <td>0</td>\n",
       "      <td>0</td>\n",
       "      <td>0</td>\n",
       "      <td>0</td>\n",
       "      <td>0</td>\n",
       "      <td>0</td>\n",
       "      <td>0</td>\n",
       "      <td>0</td>\n",
       "      <td>0</td>\n",
       "      <td>0</td>\n",
       "    </tr>\n",
       "    <tr>\n",
       "      <th>1000</th>\n",
       "      <td>1001</td>\n",
       "      <td>1001</td>\n",
       "      <td>992</td>\n",
       "      <td>0</td>\n",
       "      <td>0</td>\n",
       "      <td>0</td>\n",
       "      <td>0</td>\n",
       "      <td>0</td>\n",
       "      <td>0</td>\n",
       "      <td>0</td>\n",
       "      <td>...</td>\n",
       "      <td>0</td>\n",
       "      <td>0</td>\n",
       "      <td>0</td>\n",
       "      <td>0</td>\n",
       "      <td>0</td>\n",
       "      <td>0</td>\n",
       "      <td>0</td>\n",
       "      <td>0</td>\n",
       "      <td>0</td>\n",
       "      <td>0</td>\n",
       "    </tr>\n",
       "    <tr>\n",
       "      <th>1001</th>\n",
       "      <td>1002</td>\n",
       "      <td>1002</td>\n",
       "      <td>992</td>\n",
       "      <td>0</td>\n",
       "      <td>0</td>\n",
       "      <td>0</td>\n",
       "      <td>0</td>\n",
       "      <td>0</td>\n",
       "      <td>0</td>\n",
       "      <td>0</td>\n",
       "      <td>...</td>\n",
       "      <td>0</td>\n",
       "      <td>0</td>\n",
       "      <td>0</td>\n",
       "      <td>0</td>\n",
       "      <td>0</td>\n",
       "      <td>0</td>\n",
       "      <td>0</td>\n",
       "      <td>0</td>\n",
       "      <td>0</td>\n",
       "      <td>0</td>\n",
       "    </tr>\n",
       "    <tr>\n",
       "      <th>1002</th>\n",
       "      <td>1003</td>\n",
       "      <td>1003</td>\n",
       "      <td>992</td>\n",
       "      <td>0</td>\n",
       "      <td>0</td>\n",
       "      <td>0</td>\n",
       "      <td>0</td>\n",
       "      <td>0</td>\n",
       "      <td>0</td>\n",
       "      <td>0</td>\n",
       "      <td>...</td>\n",
       "      <td>0</td>\n",
       "      <td>0</td>\n",
       "      <td>0</td>\n",
       "      <td>0</td>\n",
       "      <td>0</td>\n",
       "      <td>0</td>\n",
       "      <td>0</td>\n",
       "      <td>0</td>\n",
       "      <td>0</td>\n",
       "      <td>0</td>\n",
       "    </tr>\n",
       "  </tbody>\n",
       "</table>\n",
       "<p>5 rows × 30 columns</p>\n",
       "</div>"
      ],
      "text/plain": [
       "      Unnamed: 0    id  rid  pub_intox  pet_larc  misc  assault  arson  rape  \\\n",
       "998          999   999  992          0         0     0        0      0     0   \n",
       "999         1000  1000  992          0         0     0        0      0     0   \n",
       "1000        1001  1001  992          0         0     0        0      0     0   \n",
       "1001        1002  1002  992          0         0     0        0      0     0   \n",
       "1002        1003  1003  992          0         0     0        0      0     0   \n",
       "\n",
       "      forgery  ...  crim_poss_weap  crim_poss_instr  obst_gov  res_arrest  \\\n",
       "998         0  ...               0                0         0           0   \n",
       "999         0  ...               0                0         0           0   \n",
       "1000        0  ...               0                0         0           0   \n",
       "1001        0  ...               0                0         0           0   \n",
       "1002        0  ...               0                0         0           0   \n",
       "\n",
       "      escape  crim_poss_stolen  reck_endanger  crim_neg_hom  youth_off  \\\n",
       "998        0                 0              0             0          0   \n",
       "999        0                 0              0             0          0   \n",
       "1000       0                 0              0             0          0   \n",
       "1001       0                 0              0             0          0   \n",
       "1002       0                 0              0             0          0   \n",
       "\n",
       "      crim_tresspasss  \n",
       "998                 0  \n",
       "999                 0  \n",
       "1000                0  \n",
       "1001                0  \n",
       "1002                0  \n",
       "\n",
       "[5 rows x 30 columns]"
      ]
     },
     "execution_count": 54,
     "metadata": {},
     "output_type": "execute_result"
    }
   ],
   "source": [
    "rec2data = pd.read_csv(\"../data/processed/rec2data.csv\")\n",
    "rec2data.info()\n",
    "rec2data.tail()"
   ]
  },
  {
   "cell_type": "code",
   "execution_count": 32,
   "id": "0beb53ed",
   "metadata": {},
   "outputs": [
    {
     "data": {
      "text/plain": [
       "count    1003.000000\n",
       "mean        0.959123\n",
       "std         1.735885\n",
       "min         0.000000\n",
       "25%         0.000000\n",
       "50%         0.000000\n",
       "75%         1.000000\n",
       "max         9.000000\n",
       "Name: crime_num, dtype: float64"
      ]
     },
     "execution_count": 32,
     "metadata": {},
     "output_type": "execute_result"
    }
   ],
   "source": [
    "rec2data['crime_num'] = (rec2data.iloc[:,3:29] != 0).sum(axis=1)\n",
    "rec2data['crime_num'].describe()"
   ]
  },
  {
   "cell_type": "code",
   "execution_count": 33,
   "id": "a0c362e5",
   "metadata": {},
   "outputs": [
    {
     "data": {
      "text/plain": [
       "array([[<AxesSubplot:title={'center':'crime_num'}>]], dtype=object)"
      ]
     },
     "execution_count": 33,
     "metadata": {},
     "output_type": "execute_result"
    },
    {
     "data": {
      "image/png": "[encoded data removed]",
      "text/plain": [
       "<Figure size 432x288 with 1 Axes>"
      ]
     },
     "metadata": {
      "needs_background": "light"
     },
     "output_type": "display_data"
    }
   ],
   "source": [
    "rec2data.hist(column = \"crime_num\", bins = range(10))"
   ]
  },
  {
   "cell_type": "code",
   "execution_count": 35,
   "id": "fde17f5d",
   "metadata": {},
   "outputs": [
    {
     "data": {
      "text/plain": [
       "0.9531405782652044"
      ]
     },
     "execution_count": 35,
     "metadata": {},
     "output_type": "execute_result"
    }
   ],
   "source": [
    "(rec2data['crime_num'] > 0).sum() / 1003\n",
    "\n",
    "# Even fewer crime records here. Maybe I need to merge these data frames to get the whole picture."
   ]
  },
  {
   "cell_type": "code",
   "execution_count": null,
   "id": "594a8e0c",
   "metadata": {},
   "outputs": [],
   "source": [
    "(rec1data['crime_num'] > 0).sum() / 1003 + (rec2data['crime_num'] > 0).sum() / 1003\n",
    "\n",
    "# This is close enough to 1 that I'm wondering if each prisoner only has a crime record in \n",
    "# one of the two datasets."
   ]
  },
  {
   "cell_type": "code",
   "execution_count": 52,
   "id": "bc3fc55a",
   "metadata": {},
   "outputs": [
    {
     "data": {
      "text/html": [
       "<div>\n",
       "<style scoped>\n",
       "    .dataframe tbody tr th:only-of-type {\n",
       "        vertical-align: middle;\n",
       "    }\n",
       "\n",
       "    .dataframe tbody tr th {\n",
       "        vertical-align: top;\n",
       "    }\n",
       "\n",
       "    .dataframe thead th {\n",
       "        text-align: right;\n",
       "    }\n",
       "</style>\n",
       "<table border=\"1\" class=\"dataframe\">\n",
       "  <thead>\n",
       "    <tr style=\"text-align: right;\">\n",
       "      <th></th>\n",
       "      <th>id</th>\n",
       "      <th>crime_num_1</th>\n",
       "      <th>crime_num_2</th>\n",
       "      <th>crime_num_tot</th>\n",
       "    </tr>\n",
       "  </thead>\n",
       "  <tbody>\n",
       "    <tr>\n",
       "      <th>0</th>\n",
       "      <td>1</td>\n",
       "      <td>1</td>\n",
       "      <td>4</td>\n",
       "      <td>5</td>\n",
       "    </tr>\n",
       "    <tr>\n",
       "      <th>1</th>\n",
       "      <td>2</td>\n",
       "      <td>1</td>\n",
       "      <td>0</td>\n",
       "      <td>1</td>\n",
       "    </tr>\n",
       "    <tr>\n",
       "      <th>2</th>\n",
       "      <td>3</td>\n",
       "      <td>1</td>\n",
       "      <td>2</td>\n",
       "      <td>3</td>\n",
       "    </tr>\n",
       "    <tr>\n",
       "      <th>3</th>\n",
       "      <td>4</td>\n",
       "      <td>1</td>\n",
       "      <td>0</td>\n",
       "      <td>1</td>\n",
       "    </tr>\n",
       "    <tr>\n",
       "      <th>4</th>\n",
       "      <td>5</td>\n",
       "      <td>1</td>\n",
       "      <td>3</td>\n",
       "      <td>4</td>\n",
       "    </tr>\n",
       "  </tbody>\n",
       "</table>\n",
       "</div>"
      ],
      "text/plain": [
       "   id  crime_num_1  crime_num_2  crime_num_tot\n",
       "0   1            1            4              5\n",
       "1   2            1            0              1\n",
       "2   3            1            2              3\n",
       "3   4            1            0              1\n",
       "4   5            1            3              4"
      ]
     },
     "execution_count": 52,
     "metadata": {},
     "output_type": "execute_result"
    }
   ],
   "source": [
    "# calculating the number of crimes across both datasets for each prisoner\n",
    "rec1_crimenum = rec1data[[\"id\",\"crime_num\"]]\n",
    "rec2_crimenum = rec2data[[\"id\", \"crime_num\"]]\n",
    "comb_data = rec1_crimenum.merge(rec2_crimenum, on = \"id\", how = \"outer\")\n",
    "comb_data.columns = [\"id\", \"crime_num_1\", \"crime_num_2\"]\n",
    "comb_data['crime_num_tot'] = comb_data[\"crime_num_1\"] + comb_data[\"crime_num_2\"]\n",
    "comb_data.head()\n"
   ]
  },
  {
   "cell_type": "code",
   "execution_count": 56,
   "id": "c8358a3d",
   "metadata": {},
   "outputs": [
    {
     "data": {
      "text/plain": [
       "617"
      ]
     },
     "execution_count": 56,
     "metadata": {},
     "output_type": "execute_result"
    }
   ],
   "source": [
    "(comb_data[\"crime_num_tot\"] > 0).sum() / 1003\n",
    "\n",
    "# Ok, so my initial hypothesis was wrong. I don't know why there are prisoners \n",
    "# who weren't convicted of a crime - maybe they were in jail awaiting trial?\n",
    "# In any case, I'll likely just use the ones who were convicted. "
   ]
  },
  {
   "cell_type": "markdown",
   "id": "64a0cd6e",
   "metadata": {},
   "source": [
    "## Psychiatric Contact data"
   ]
  },
  {
   "cell_type": "code",
   "execution_count": 78,
   "id": "14a2d80f",
   "metadata": {},
   "outputs": [
    {
     "name": "stdout",
     "output_type": "stream",
     "text": [
      "<class 'pandas.core.frame.DataFrame'>\n",
      "RangeIndex: 4548 entries, 0 to 4547\n",
      "Data columns (total 10 columns):\n",
      " #   Column        Non-Null Count  Dtype \n",
      "---  ------        --------------  ----- \n",
      " 0   Unnamed: 0    4548 non-null   int64 \n",
      " 1   id            4548 non-null   int64 \n",
      " 2   contact       4548 non-null   int64 \n",
      " 3   date_contact  4548 non-null   int64 \n",
      " 4   facility      4548 non-null   int64 \n",
      " 5   address       4548 non-null   object\n",
      " 6   diagnosis     4548 non-null   object\n",
      " 7   service       4548 non-null   int64 \n",
      " 8   date_term     4548 non-null   int64 \n",
      " 9   reason_term   4548 non-null   int64 \n",
      "dtypes: int64(8), object(2)\n",
      "memory usage: 355.4+ KB\n"
     ]
    },
    {
     "data": {
      "text/html": [
       "<div>\n",
       "<style scoped>\n",
       "    .dataframe tbody tr th:only-of-type {\n",
       "        vertical-align: middle;\n",
       "    }\n",
       "\n",
       "    .dataframe tbody tr th {\n",
       "        vertical-align: top;\n",
       "    }\n",
       "\n",
       "    .dataframe thead th {\n",
       "        text-align: right;\n",
       "    }\n",
       "</style>\n",
       "<table border=\"1\" class=\"dataframe\">\n",
       "  <thead>\n",
       "    <tr style=\"text-align: right;\">\n",
       "      <th></th>\n",
       "      <th>Unnamed: 0</th>\n",
       "      <th>id</th>\n",
       "      <th>contact</th>\n",
       "      <th>date_contact</th>\n",
       "      <th>facility</th>\n",
       "      <th>address</th>\n",
       "      <th>diagnosis</th>\n",
       "      <th>service</th>\n",
       "      <th>date_term</th>\n",
       "      <th>reason_term</th>\n",
       "    </tr>\n",
       "  </thead>\n",
       "  <tbody>\n",
       "    <tr>\n",
       "      <th>0</th>\n",
       "      <td>1</td>\n",
       "      <td>1</td>\n",
       "      <td>1</td>\n",
       "      <td>600804</td>\n",
       "      <td>1</td>\n",
       "      <td>100</td>\n",
       "      <td>103</td>\n",
       "      <td>0</td>\n",
       "      <td>600808</td>\n",
       "      <td>0</td>\n",
       "    </tr>\n",
       "    <tr>\n",
       "      <th>1</th>\n",
       "      <td>2</td>\n",
       "      <td>1</td>\n",
       "      <td>2</td>\n",
       "      <td>600809</td>\n",
       "      <td>2</td>\n",
       "      <td>100</td>\n",
       "      <td>715</td>\n",
       "      <td>1</td>\n",
       "      <td>601130</td>\n",
       "      <td>9</td>\n",
       "    </tr>\n",
       "    <tr>\n",
       "      <th>2</th>\n",
       "      <td>3</td>\n",
       "      <td>1</td>\n",
       "      <td>3</td>\n",
       "      <td>640320</td>\n",
       "      <td>1</td>\n",
       "      <td>100</td>\n",
       "      <td>715</td>\n",
       "      <td>0</td>\n",
       "      <td>640401</td>\n",
       "      <td>0</td>\n",
       "    </tr>\n",
       "    <tr>\n",
       "      <th>3</th>\n",
       "      <td>4</td>\n",
       "      <td>1</td>\n",
       "      <td>4</td>\n",
       "      <td>640910</td>\n",
       "      <td>2</td>\n",
       "      <td>100</td>\n",
       "      <td>715</td>\n",
       "      <td>0</td>\n",
       "      <td>641027</td>\n",
       "      <td>9</td>\n",
       "    </tr>\n",
       "    <tr>\n",
       "      <th>4</th>\n",
       "      <td>5</td>\n",
       "      <td>1</td>\n",
       "      <td>5</td>\n",
       "      <td>641109</td>\n",
       "      <td>1</td>\n",
       "      <td>100</td>\n",
       "      <td>103</td>\n",
       "      <td>0</td>\n",
       "      <td>641113</td>\n",
       "      <td>0</td>\n",
       "    </tr>\n",
       "  </tbody>\n",
       "</table>\n",
       "</div>"
      ],
      "text/plain": [
       "   Unnamed: 0  id  contact  date_contact  facility address diagnosis  service  \\\n",
       "0           1   1        1        600804         1     100       103        0   \n",
       "1           2   1        2        600809         2     100       715        1   \n",
       "2           3   1        3        640320         1     100       715        0   \n",
       "3           4   1        4        640910         2     100       715        0   \n",
       "4           5   1        5        641109         1     100       103        0   \n",
       "\n",
       "   date_term  reason_term  \n",
       "0     600808            0  \n",
       "1     601130            9  \n",
       "2     640401            0  \n",
       "3     641027            9  \n",
       "4     641113            0  "
      ]
     },
     "execution_count": 78,
     "metadata": {},
     "output_type": "execute_result"
    }
   ],
   "source": [
    "psychdata = pd.read_csv(\"../data/processed/psychdata.csv\")\n",
    "psychdata.info()\n",
    "psychdata.head()"
   ]
  },
  {
   "cell_type": "code",
   "execution_count": 79,
   "id": "247bfb6a",
   "metadata": {},
   "outputs": [
    {
     "ename": "ValueError",
     "evalue": "day is out of range for month",
     "output_type": "error",
     "traceback": [
      "\u001b[0;31m---------------------------------------------------------------------------\u001b[0m",
      "\u001b[0;31mTypeError\u001b[0m                                 Traceback (most recent call last)",
      "\u001b[0;32m~/opt/miniconda3/lib/python3.9/site-packages/pandas/core/tools/datetimes.py\u001b[0m in \u001b[0;36m_to_datetime_with_format\u001b[0;34m(arg, orig_arg, name, tz, fmt, exact, errors, infer_datetime_format)\u001b[0m\n\u001b[1;32m    508\u001b[0m         \u001b[0;32mtry\u001b[0m\u001b[0;34m:\u001b[0m\u001b[0;34m\u001b[0m\u001b[0;34m\u001b[0m\u001b[0m\n\u001b[0;32m--> 509\u001b[0;31m             \u001b[0mvalues\u001b[0m\u001b[0;34m,\u001b[0m \u001b[0mtz\u001b[0m \u001b[0;34m=\u001b[0m \u001b[0mconversion\u001b[0m\u001b[0;34m.\u001b[0m\u001b[0mdatetime_to_datetime64\u001b[0m\u001b[0;34m(\u001b[0m\u001b[0marg\u001b[0m\u001b[0;34m)\u001b[0m\u001b[0;34m\u001b[0m\u001b[0;34m\u001b[0m\u001b[0m\n\u001b[0m\u001b[1;32m    510\u001b[0m             \u001b[0mdta\u001b[0m \u001b[0;34m=\u001b[0m \u001b[0mDatetimeArray\u001b[0m\u001b[0;34m(\u001b[0m\u001b[0mvalues\u001b[0m\u001b[0;34m,\u001b[0m \u001b[0mdtype\u001b[0m\u001b[0;34m=\u001b[0m\u001b[0mtz_to_dtype\u001b[0m\u001b[0;34m(\u001b[0m\u001b[0mtz\u001b[0m\u001b[0;34m)\u001b[0m\u001b[0;34m)\u001b[0m\u001b[0;34m\u001b[0m\u001b[0;34m\u001b[0m\u001b[0m\n",
      "\u001b[0;32m~/opt/miniconda3/lib/python3.9/site-packages/pandas/_libs/tslibs/conversion.pyx\u001b[0m in \u001b[0;36mpandas._libs.tslibs.conversion.datetime_to_datetime64\u001b[0;34m()\u001b[0m\n",
      "\u001b[0;31mTypeError\u001b[0m: Unrecognized value type: <class 'str'>",
      "\nDuring handling of the above exception, another exception occurred:\n",
      "\u001b[0;31mValueError\u001b[0m                                Traceback (most recent call last)",
      "\u001b[0;32m<ipython-input-79-f6fb5686ada5>\u001b[0m in \u001b[0;36m<module>\u001b[0;34m\u001b[0m\n\u001b[1;32m      6\u001b[0m \u001b[0mpsychdata\u001b[0m\u001b[0;34m.\u001b[0m\u001b[0mhead\u001b[0m\u001b[0;34m(\u001b[0m\u001b[0;34m)\u001b[0m\u001b[0;34m\u001b[0m\u001b[0;34m\u001b[0m\u001b[0m\n\u001b[1;32m      7\u001b[0m \u001b[0;34m\u001b[0m\u001b[0m\n\u001b[0;32m----> 8\u001b[0;31m \u001b[0mpd\u001b[0m\u001b[0;34m.\u001b[0m\u001b[0mto_datetime\u001b[0m\u001b[0;34m(\u001b[0m\u001b[0mpsychdata\u001b[0m\u001b[0;34m[\u001b[0m\u001b[0;34m\"date_contact\"\u001b[0m\u001b[0;34m]\u001b[0m\u001b[0;34m.\u001b[0m\u001b[0mastype\u001b[0m\u001b[0;34m(\u001b[0m\u001b[0mstr\u001b[0m\u001b[0;34m)\u001b[0m\u001b[0;34m,\u001b[0m \u001b[0mformat\u001b[0m\u001b[0;34m=\u001b[0m\u001b[0;34m'%Y%m%d'\u001b[0m\u001b[0;34m)\u001b[0m\u001b[0;34m\u001b[0m\u001b[0;34m\u001b[0m\u001b[0m\n\u001b[0m",
      "\u001b[0;32m~/opt/miniconda3/lib/python3.9/site-packages/pandas/core/tools/datetimes.py\u001b[0m in \u001b[0;36mto_datetime\u001b[0;34m(arg, errors, dayfirst, yearfirst, utc, format, exact, unit, infer_datetime_format, origin, cache)\u001b[0m\n\u001b[1;32m    885\u001b[0m             \u001b[0mresult\u001b[0m \u001b[0;34m=\u001b[0m \u001b[0marg\u001b[0m\u001b[0;34m.\u001b[0m\u001b[0mmap\u001b[0m\u001b[0;34m(\u001b[0m\u001b[0mcache_array\u001b[0m\u001b[0;34m)\u001b[0m\u001b[0;34m\u001b[0m\u001b[0;34m\u001b[0m\u001b[0m\n\u001b[1;32m    886\u001b[0m         \u001b[0;32melse\u001b[0m\u001b[0;34m:\u001b[0m\u001b[0;34m\u001b[0m\u001b[0;34m\u001b[0m\u001b[0m\n\u001b[0;32m--> 887\u001b[0;31m             \u001b[0mvalues\u001b[0m \u001b[0;34m=\u001b[0m \u001b[0mconvert_listlike\u001b[0m\u001b[0;34m(\u001b[0m\u001b[0marg\u001b[0m\u001b[0;34m.\u001b[0m\u001b[0m_values\u001b[0m\u001b[0;34m,\u001b[0m \u001b[0mformat\u001b[0m\u001b[0;34m)\u001b[0m\u001b[0;34m\u001b[0m\u001b[0;34m\u001b[0m\u001b[0m\n\u001b[0m\u001b[1;32m    888\u001b[0m             \u001b[0mresult\u001b[0m \u001b[0;34m=\u001b[0m \u001b[0marg\u001b[0m\u001b[0;34m.\u001b[0m\u001b[0m_constructor\u001b[0m\u001b[0;34m(\u001b[0m\u001b[0mvalues\u001b[0m\u001b[0;34m,\u001b[0m \u001b[0mindex\u001b[0m\u001b[0;34m=\u001b[0m\u001b[0marg\u001b[0m\u001b[0;34m.\u001b[0m\u001b[0mindex\u001b[0m\u001b[0;34m,\u001b[0m \u001b[0mname\u001b[0m\u001b[0;34m=\u001b[0m\u001b[0marg\u001b[0m\u001b[0;34m.\u001b[0m\u001b[0mname\u001b[0m\u001b[0;34m)\u001b[0m\u001b[0;34m\u001b[0m\u001b[0;34m\u001b[0m\u001b[0m\n\u001b[1;32m    889\u001b[0m     \u001b[0;32melif\u001b[0m \u001b[0misinstance\u001b[0m\u001b[0;34m(\u001b[0m\u001b[0marg\u001b[0m\u001b[0;34m,\u001b[0m \u001b[0;34m(\u001b[0m\u001b[0mABCDataFrame\u001b[0m\u001b[0;34m,\u001b[0m \u001b[0mabc\u001b[0m\u001b[0;34m.\u001b[0m\u001b[0mMutableMapping\u001b[0m\u001b[0;34m)\u001b[0m\u001b[0;34m)\u001b[0m\u001b[0;34m:\u001b[0m\u001b[0;34m\u001b[0m\u001b[0;34m\u001b[0m\u001b[0m\n",
      "\u001b[0;32m~/opt/miniconda3/lib/python3.9/site-packages/pandas/core/tools/datetimes.py\u001b[0m in \u001b[0;36m_convert_listlike_datetimes\u001b[0;34m(arg, format, name, tz, unit, errors, infer_datetime_format, dayfirst, yearfirst, exact)\u001b[0m\n\u001b[1;32m    391\u001b[0m \u001b[0;34m\u001b[0m\u001b[0m\n\u001b[1;32m    392\u001b[0m     \u001b[0;32mif\u001b[0m \u001b[0mformat\u001b[0m \u001b[0;32mis\u001b[0m \u001b[0;32mnot\u001b[0m \u001b[0;32mNone\u001b[0m\u001b[0;34m:\u001b[0m\u001b[0;34m\u001b[0m\u001b[0;34m\u001b[0m\u001b[0m\n\u001b[0;32m--> 393\u001b[0;31m         res = _to_datetime_with_format(\n\u001b[0m\u001b[1;32m    394\u001b[0m             \u001b[0marg\u001b[0m\u001b[0;34m,\u001b[0m \u001b[0morig_arg\u001b[0m\u001b[0;34m,\u001b[0m \u001b[0mname\u001b[0m\u001b[0;34m,\u001b[0m \u001b[0mtz\u001b[0m\u001b[0;34m,\u001b[0m \u001b[0mformat\u001b[0m\u001b[0;34m,\u001b[0m \u001b[0mexact\u001b[0m\u001b[0;34m,\u001b[0m \u001b[0merrors\u001b[0m\u001b[0;34m,\u001b[0m \u001b[0minfer_datetime_format\u001b[0m\u001b[0;34m\u001b[0m\u001b[0;34m\u001b[0m\u001b[0m\n\u001b[1;32m    395\u001b[0m         )\n",
      "\u001b[0;32m~/opt/miniconda3/lib/python3.9/site-packages/pandas/core/tools/datetimes.py\u001b[0m in \u001b[0;36m_to_datetime_with_format\u001b[0;34m(arg, orig_arg, name, tz, fmt, exact, errors, infer_datetime_format)\u001b[0m\n\u001b[1;32m    511\u001b[0m             \u001b[0;32mreturn\u001b[0m \u001b[0mDatetimeIndex\u001b[0m\u001b[0;34m.\u001b[0m\u001b[0m_simple_new\u001b[0m\u001b[0;34m(\u001b[0m\u001b[0mdta\u001b[0m\u001b[0;34m,\u001b[0m \u001b[0mname\u001b[0m\u001b[0;34m=\u001b[0m\u001b[0mname\u001b[0m\u001b[0;34m)\u001b[0m\u001b[0;34m\u001b[0m\u001b[0;34m\u001b[0m\u001b[0m\n\u001b[1;32m    512\u001b[0m         \u001b[0;32mexcept\u001b[0m \u001b[0;34m(\u001b[0m\u001b[0mValueError\u001b[0m\u001b[0;34m,\u001b[0m \u001b[0mTypeError\u001b[0m\u001b[0;34m)\u001b[0m\u001b[0;34m:\u001b[0m\u001b[0;34m\u001b[0m\u001b[0;34m\u001b[0m\u001b[0m\n\u001b[0;32m--> 513\u001b[0;31m             \u001b[0;32mraise\u001b[0m \u001b[0merr\u001b[0m\u001b[0;34m\u001b[0m\u001b[0;34m\u001b[0m\u001b[0m\n\u001b[0m\u001b[1;32m    514\u001b[0m \u001b[0;34m\u001b[0m\u001b[0m\n\u001b[1;32m    515\u001b[0m \u001b[0;34m\u001b[0m\u001b[0m\n",
      "\u001b[0;32m~/opt/miniconda3/lib/python3.9/site-packages/pandas/core/tools/datetimes.py\u001b[0m in \u001b[0;36m_to_datetime_with_format\u001b[0;34m(arg, orig_arg, name, tz, fmt, exact, errors, infer_datetime_format)\u001b[0m\n\u001b[1;32m    498\u001b[0m \u001b[0;34m\u001b[0m\u001b[0m\n\u001b[1;32m    499\u001b[0m         \u001b[0;31m# fallback\u001b[0m\u001b[0;34m\u001b[0m\u001b[0;34m\u001b[0m\u001b[0;34m\u001b[0m\u001b[0m\n\u001b[0;32m--> 500\u001b[0;31m         res = _array_strptime_with_fallback(\n\u001b[0m\u001b[1;32m    501\u001b[0m             \u001b[0marg\u001b[0m\u001b[0;34m,\u001b[0m \u001b[0mname\u001b[0m\u001b[0;34m,\u001b[0m \u001b[0mtz\u001b[0m\u001b[0;34m,\u001b[0m \u001b[0mfmt\u001b[0m\u001b[0;34m,\u001b[0m \u001b[0mexact\u001b[0m\u001b[0;34m,\u001b[0m \u001b[0merrors\u001b[0m\u001b[0;34m,\u001b[0m \u001b[0minfer_datetime_format\u001b[0m\u001b[0;34m\u001b[0m\u001b[0;34m\u001b[0m\u001b[0m\n\u001b[1;32m    502\u001b[0m         )\n",
      "\u001b[0;32m~/opt/miniconda3/lib/python3.9/site-packages/pandas/core/tools/datetimes.py\u001b[0m in \u001b[0;36m_array_strptime_with_fallback\u001b[0;34m(arg, name, tz, fmt, exact, errors, infer_datetime_format)\u001b[0m\n\u001b[1;32m    434\u001b[0m \u001b[0;34m\u001b[0m\u001b[0m\n\u001b[1;32m    435\u001b[0m     \u001b[0;32mtry\u001b[0m\u001b[0;34m:\u001b[0m\u001b[0;34m\u001b[0m\u001b[0;34m\u001b[0m\u001b[0m\n\u001b[0;32m--> 436\u001b[0;31m         \u001b[0mresult\u001b[0m\u001b[0;34m,\u001b[0m \u001b[0mtimezones\u001b[0m \u001b[0;34m=\u001b[0m \u001b[0marray_strptime\u001b[0m\u001b[0;34m(\u001b[0m\u001b[0marg\u001b[0m\u001b[0;34m,\u001b[0m \u001b[0mfmt\u001b[0m\u001b[0;34m,\u001b[0m \u001b[0mexact\u001b[0m\u001b[0;34m=\u001b[0m\u001b[0mexact\u001b[0m\u001b[0;34m,\u001b[0m \u001b[0merrors\u001b[0m\u001b[0;34m=\u001b[0m\u001b[0merrors\u001b[0m\u001b[0;34m)\u001b[0m\u001b[0;34m\u001b[0m\u001b[0;34m\u001b[0m\u001b[0m\n\u001b[0m\u001b[1;32m    437\u001b[0m         \u001b[0;32mif\u001b[0m \u001b[0;34m\"%Z\"\u001b[0m \u001b[0;32min\u001b[0m \u001b[0mfmt\u001b[0m \u001b[0;32mor\u001b[0m \u001b[0;34m\"%z\"\u001b[0m \u001b[0;32min\u001b[0m \u001b[0mfmt\u001b[0m\u001b[0;34m:\u001b[0m\u001b[0;34m\u001b[0m\u001b[0;34m\u001b[0m\u001b[0m\n\u001b[1;32m    438\u001b[0m             \u001b[0;32mreturn\u001b[0m \u001b[0m_return_parsed_timezone_results\u001b[0m\u001b[0;34m(\u001b[0m\u001b[0mresult\u001b[0m\u001b[0;34m,\u001b[0m \u001b[0mtimezones\u001b[0m\u001b[0;34m,\u001b[0m \u001b[0mtz\u001b[0m\u001b[0;34m,\u001b[0m \u001b[0mname\u001b[0m\u001b[0;34m)\u001b[0m\u001b[0;34m\u001b[0m\u001b[0;34m\u001b[0m\u001b[0m\n",
      "\u001b[0;32m~/opt/miniconda3/lib/python3.9/site-packages/pandas/_libs/tslibs/strptime.pyx\u001b[0m in \u001b[0;36mpandas._libs.tslibs.strptime.array_strptime\u001b[0;34m()\u001b[0m\n",
      "\u001b[0;32m~/opt/miniconda3/lib/python3.9/site-packages/pandas/_libs/tslibs/strptime.pyx\u001b[0m in \u001b[0;36mpandas._libs.tslibs.strptime.array_strptime\u001b[0;34m()\u001b[0m\n",
      "\u001b[0;31mValueError\u001b[0m: day is out of range for month"
     ]
    }
   ],
   "source": [
    "# I want to convert the date columns to datetime objects\n",
    "\n",
    "# first have to add a 19 to each of them for as_datetime to work\n",
    "psychdata[\"date_contact\"] = psychdata[\"date_contact\"] + 19000000\n",
    "psychdata[\"date_term\"] = psychdata[\"date_term\"] + 19000000\n",
    "psychdata.head()\n"
   ]
  },
  {
   "cell_type": "code",
   "execution_count": 85,
   "id": "7b646d20",
   "metadata": {},
   "outputs": [
    {
     "name": "stdout",
     "output_type": "stream",
     "text": [
      "<class 'pandas.core.frame.DataFrame'>\n",
      "RangeIndex: 4548 entries, 0 to 4547\n",
      "Data columns (total 10 columns):\n",
      " #   Column        Non-Null Count  Dtype         \n",
      "---  ------        --------------  -----         \n",
      " 0   Unnamed: 0    4548 non-null   int64         \n",
      " 1   id            4548 non-null   int64         \n",
      " 2   contact       4548 non-null   int64         \n",
      " 3   date_contact  4545 non-null   datetime64[ns]\n",
      " 4   facility      4548 non-null   int64         \n",
      " 5   address       4548 non-null   object        \n",
      " 6   diagnosis     4548 non-null   object        \n",
      " 7   service       4548 non-null   int64         \n",
      " 8   date_term     4394 non-null   datetime64[ns]\n",
      " 9   reason_term   4548 non-null   int64         \n",
      "dtypes: datetime64[ns](2), int64(6), object(2)\n",
      "memory usage: 355.4+ KB\n"
     ]
    }
   ],
   "source": [
    "# Converting to datetime\n",
    "psychdata[\"date_contact\"] = pd.to_datetime(psychdata[\"date_contact\"], format='%Y%m%d', errors = \"coerce\")\n",
    "psychdata[\"date_term\"] = pd.to_datetime(psychdata[\"date_term\"], format='%Y%m%d', errors = \"coerce\")\n",
    "psychdata.info()"
   ]
  },
  {
   "cell_type": "code",
   "execution_count": 92,
   "id": "465cbf2f",
   "metadata": {},
   "outputs": [
    {
     "data": {
      "text/html": [
       "<div>\n",
       "<style scoped>\n",
       "    .dataframe tbody tr th:only-of-type {\n",
       "        vertical-align: middle;\n",
       "    }\n",
       "\n",
       "    .dataframe tbody tr th {\n",
       "        vertical-align: top;\n",
       "    }\n",
       "\n",
       "    .dataframe thead th {\n",
       "        text-align: right;\n",
       "    }\n",
       "</style>\n",
       "<table border=\"1\" class=\"dataframe\">\n",
       "  <thead>\n",
       "    <tr style=\"text-align: right;\">\n",
       "      <th></th>\n",
       "      <th>Unnamed: 0</th>\n",
       "      <th>id</th>\n",
       "      <th>contact</th>\n",
       "      <th>date_contact</th>\n",
       "      <th>facility</th>\n",
       "      <th>address</th>\n",
       "      <th>diagnosis</th>\n",
       "      <th>service</th>\n",
       "      <th>date_term</th>\n",
       "      <th>reason_term</th>\n",
       "      <th>length_treat</th>\n",
       "    </tr>\n",
       "  </thead>\n",
       "  <tbody>\n",
       "    <tr>\n",
       "      <th>0</th>\n",
       "      <td>1</td>\n",
       "      <td>1</td>\n",
       "      <td>1</td>\n",
       "      <td>1960-08-04</td>\n",
       "      <td>1</td>\n",
       "      <td>100</td>\n",
       "      <td>103</td>\n",
       "      <td>0</td>\n",
       "      <td>1960-08-08</td>\n",
       "      <td>0</td>\n",
       "      <td>4.0</td>\n",
       "    </tr>\n",
       "    <tr>\n",
       "      <th>1</th>\n",
       "      <td>2</td>\n",
       "      <td>1</td>\n",
       "      <td>2</td>\n",
       "      <td>1960-08-09</td>\n",
       "      <td>2</td>\n",
       "      <td>100</td>\n",
       "      <td>715</td>\n",
       "      <td>1</td>\n",
       "      <td>1960-11-30</td>\n",
       "      <td>9</td>\n",
       "      <td>113.0</td>\n",
       "    </tr>\n",
       "    <tr>\n",
       "      <th>2</th>\n",
       "      <td>3</td>\n",
       "      <td>1</td>\n",
       "      <td>3</td>\n",
       "      <td>1964-03-20</td>\n",
       "      <td>1</td>\n",
       "      <td>100</td>\n",
       "      <td>715</td>\n",
       "      <td>0</td>\n",
       "      <td>1964-04-01</td>\n",
       "      <td>0</td>\n",
       "      <td>12.0</td>\n",
       "    </tr>\n",
       "    <tr>\n",
       "      <th>3</th>\n",
       "      <td>4</td>\n",
       "      <td>1</td>\n",
       "      <td>4</td>\n",
       "      <td>1964-09-10</td>\n",
       "      <td>2</td>\n",
       "      <td>100</td>\n",
       "      <td>715</td>\n",
       "      <td>0</td>\n",
       "      <td>1964-10-27</td>\n",
       "      <td>9</td>\n",
       "      <td>47.0</td>\n",
       "    </tr>\n",
       "    <tr>\n",
       "      <th>4</th>\n",
       "      <td>5</td>\n",
       "      <td>1</td>\n",
       "      <td>5</td>\n",
       "      <td>1964-11-09</td>\n",
       "      <td>1</td>\n",
       "      <td>100</td>\n",
       "      <td>103</td>\n",
       "      <td>0</td>\n",
       "      <td>1964-11-13</td>\n",
       "      <td>0</td>\n",
       "      <td>4.0</td>\n",
       "    </tr>\n",
       "  </tbody>\n",
       "</table>\n",
       "</div>"
      ],
      "text/plain": [
       "   Unnamed: 0  id  contact date_contact  facility address diagnosis  service  \\\n",
       "0           1   1        1   1960-08-04         1     100       103        0   \n",
       "1           2   1        2   1960-08-09         2     100       715        1   \n",
       "2           3   1        3   1964-03-20         1     100       715        0   \n",
       "3           4   1        4   1964-09-10         2     100       715        0   \n",
       "4           5   1        5   1964-11-09         1     100       103        0   \n",
       "\n",
       "   date_term  reason_term  length_treat  \n",
       "0 1960-08-08            0           4.0  \n",
       "1 1960-11-30            9         113.0  \n",
       "2 1964-04-01            0          12.0  \n",
       "3 1964-10-27            9          47.0  \n",
       "4 1964-11-13            0           4.0  "
      ]
     },
     "execution_count": 92,
     "metadata": {},
     "output_type": "execute_result"
    }
   ],
   "source": [
    "# Adding new variable for length of treatment\n",
    "psychdata[\"length_treat\"] = (psychdata[\"date_term\"] - psychdata[\"date_contact\"]).dt.days\n",
    "psychdata.head()"
   ]
  },
  {
   "cell_type": "code",
   "execution_count": 114,
   "id": "f1011352",
   "metadata": {},
   "outputs": [
    {
     "name": "stdout",
     "output_type": "stream",
     "text": [
      "680828\n"
     ]
    },
    {
     "name": "stderr",
     "output_type": "stream",
     "text": [
      "<ipython-input-114-98c4920d2bea>:13: SettingWithCopyWarning: \n",
      "A value is trying to be set on a copy of a slice from a DataFrame\n",
      "\n",
      "See the caveats in the documentation: https://pandas.pydata.org/pandas-docs/stable/user_guide/indexing.html#returning-a-view-versus-a-copy\n",
      "  psychdata[\"length_treat\"][3597] = None\n",
      "<ipython-input-114-98c4920d2bea>:14: SettingWithCopyWarning: \n",
      "A value is trying to be set on a copy of a slice from a DataFrame\n",
      "\n",
      "See the caveats in the documentation: https://pandas.pydata.org/pandas-docs/stable/user_guide/indexing.html#returning-a-view-versus-a-copy\n",
      "  psychdata[\"date_contact\"][3597] = None\n",
      "<ipython-input-114-98c4920d2bea>:15: SettingWithCopyWarning: \n",
      "A value is trying to be set on a copy of a slice from a DataFrame\n",
      "\n",
      "See the caveats in the documentation: https://pandas.pydata.org/pandas-docs/stable/user_guide/indexing.html#returning-a-view-versus-a-copy\n",
      "  psychdata[\"date_term\"][3597] = None\n"
     ]
    }
   ],
   "source": [
    "# Something is weird here!  \n",
    "\n",
    "(psychdata[\"length_treat\"] < 0).sum()\n",
    "np.argmin(psychdata[\"length_treat\"])\n",
    "\n",
    "# I've modified the original data frame so will have to import it again\n",
    "psychdata_org = pd.read_csv(\"../data/processed/psychdata.csv\")\n",
    "print(psychdata_org[\"date_contact\"][3597])\n",
    "print(psychdata_org[\"date_term\"][3597])\n",
    "\n",
    "# Looks like this is an error in the data. I will just delete that value.\n",
    "\n",
    "psychdata[\"length_treat\"][3597] = None\n",
    "psychdata[\"date_contact\"][3597] = None\n",
    "psychdata[\"date_term\"][3597] = None"
   ]
  },
  {
   "cell_type": "code",
   "execution_count": 115,
   "id": "4631a290",
   "metadata": {},
   "outputs": [
    {
     "data": {
      "text/plain": [
       "array([[<AxesSubplot:title={'center':'length_treat'}>]], dtype=object)"
      ]
     },
     "execution_count": 115,
     "metadata": {},
     "output_type": "execute_result"
    },
    {
     "data": {
      "image/png": "[encoded data removed]",
      "text/plain": [
       "<Figure size 432x288 with 1 Axes>"
      ]
     },
     "metadata": {
      "needs_background": "light"
     },
     "output_type": "display_data"
    }
   ],
   "source": [
    "# Histogram of treatment length\n",
    "psychdata.hist(column = \"length_treat\")"
   ]
  },
  {
   "cell_type": "code",
   "execution_count": 116,
   "id": "fa8f4401",
   "metadata": {},
   "outputs": [
    {
     "data": {
      "text/plain": [
       "count    4392.000000\n",
       "mean       45.910974\n",
       "std       144.634461\n",
       "min         0.000000\n",
       "25%         0.000000\n",
       "50%         5.000000\n",
       "75%        21.000000\n",
       "max      2590.000000\n",
       "Name: length_treat, dtype: float64"
      ]
     },
     "execution_count": 116,
     "metadata": {},
     "output_type": "execute_result"
    }
   ],
   "source": [
    "psychdata[\"length_treat\"].describe()\n",
    "\n",
    "# Much better. Wow, someone was in treatment for over 7 years "
   ]
  },
  {
   "cell_type": "markdown",
   "id": "a04d1af8",
   "metadata": {},
   "source": [
    "# Analysis Pipeline"
   ]
  },
  {
   "cell_type": "markdown",
   "id": "7a7926bf",
   "metadata": {},
   "source": [
    "## Step 1: Load data"
   ]
  },
  {
   "cell_type": "code",
   "execution_count": 2,
   "id": "64075765",
   "metadata": {},
   "outputs": [],
   "source": [
    "import pandas as pd\n",
    "import numpy as np"
   ]
  },
  {
   "cell_type": "code",
   "execution_count": 3,
   "id": "6054e424",
   "metadata": {},
   "outputs": [],
   "source": [
    "rec1data = pd.read_csv(\"../data/processed/rec1data.csv\")\n",
    "psychdata = pd.read_csv(\"../data/processed/psychdata.csv\")"
   ]
  },
  {
   "cell_type": "markdown",
   "id": "e47ab60a",
   "metadata": {},
   "source": [
    "## Step 2: Clean data"
   ]
  },
  {
   "cell_type": "code",
   "execution_count": 4,
   "id": "09e6ab0e",
   "metadata": {},
   "outputs": [
    {
     "name": "stderr",
     "output_type": "stream",
     "text": [
      "<ipython-input-4-4450631df2b6>:2: SettingWithCopyWarning: \n",
      "A value is trying to be set on a copy of a slice from a DataFrame\n",
      "\n",
      "See the caveats in the documentation: https://pandas.pydata.org/pandas-docs/stable/user_guide/indexing.html#returning-a-view-versus-a-copy\n",
      "  psychdata[\"date_contact\"][3597] = None\n",
      "<ipython-input-4-4450631df2b6>:3: SettingWithCopyWarning: \n",
      "A value is trying to be set on a copy of a slice from a DataFrame\n",
      "\n",
      "See the caveats in the documentation: https://pandas.pydata.org/pandas-docs/stable/user_guide/indexing.html#returning-a-view-versus-a-copy\n",
      "  psychdata[\"date_term\"][3597] = None\n"
     ]
    }
   ],
   "source": [
    "# Incorrect data\n",
    "psychdata[\"date_contact\"][3597] = None\n",
    "psychdata[\"date_term\"][3597] = None"
   ]
  },
  {
   "cell_type": "code",
   "execution_count": 5,
   "id": "2cd2d4e1",
   "metadata": {},
   "outputs": [],
   "source": [
    "# Convert dates to usable format\n",
    "psychdata[\"date_contact\"] = psychdata[\"date_contact\"] + 19000000\n",
    "psychdata[\"date_term\"] = psychdata[\"date_term\"] + 19000000"
   ]
  },
  {
   "cell_type": "code",
   "execution_count": 6,
   "id": "982dc3c9",
   "metadata": {},
   "outputs": [],
   "source": [
    "# Remove unneeded columns\n",
    "psychdata = psychdata[[\"id\", \"contact\", \"date_contact\", \"diagnosis\", \"service\", \"date_term\", \"reason_term\"]]\n",
    "del rec1data[\"rid\"]"
   ]
  },
  {
   "cell_type": "code",
   "execution_count": 7,
   "id": "8b7c81ca",
   "metadata": {},
   "outputs": [],
   "source": [
    "# Remove unneeded rows from matched non-prisoner cases\n",
    "rec1data = rec1data[rec1data[\"crime01\"] > 0]"
   ]
  },
  {
   "cell_type": "code",
   "execution_count": 9,
   "id": "e1a1a707",
   "metadata": {},
   "outputs": [
    {
     "name": "stdout",
     "output_type": "stream",
     "text": [
      "<class 'pandas.core.frame.DataFrame'>\n",
      "Int64Index: 3479 entries, 0 to 3478\n",
      "Data columns (total 31 columns):\n",
      " #   Column        Non-Null Count  Dtype  \n",
      "---  ------        --------------  -----  \n",
      " 0   Unnamed: 0    3479 non-null   int64  \n",
      " 1   id            3479 non-null   int64  \n",
      " 2   sex           3479 non-null   int64  \n",
      " 3   birth         3479 non-null   int64  \n",
      " 4   race          3479 non-null   int64  \n",
      " 5   educ          3479 non-null   int64  \n",
      " 6   marital       3479 non-null   int64  \n",
      " 7   children      3479 non-null   int64  \n",
      " 8   occupat       3479 non-null   int64  \n",
      " 9   arrests       3479 non-null   int64  \n",
      " 10  jail          3479 non-null   int64  \n",
      " 11  crime01       3479 non-null   int64  \n",
      " 12  crime02       3479 non-null   int64  \n",
      " 13  crime03       3479 non-null   int64  \n",
      " 14  crime04       3479 non-null   int64  \n",
      " 15  crime05       3479 non-null   int64  \n",
      " 16  crime06       3479 non-null   int64  \n",
      " 17  crime07       3479 non-null   int64  \n",
      " 18  crime08       3479 non-null   int64  \n",
      " 19  crime09       3479 non-null   int64  \n",
      " 20  crime10       3479 non-null   int64  \n",
      " 21  crime11       3479 non-null   int64  \n",
      " 22  crime12       3479 non-null   int64  \n",
      " 23  crime13       3479 non-null   int64  \n",
      " 24  crime14       3479 non-null   int64  \n",
      " 25  contact       3248 non-null   float64\n",
      " 26  date_contact  3248 non-null   float64\n",
      " 27  diagnosis     3248 non-null   object \n",
      " 28  service       3248 non-null   float64\n",
      " 29  date_term     3248 non-null   float64\n",
      " 30  reason_term   3248 non-null   float64\n",
      "dtypes: float64(5), int64(25), object(1)\n",
      "memory usage: 869.8+ KB\n"
     ]
    }
   ],
   "source": [
    "# Merge with psychdata, which will delete rows from non-prisoner cases\n",
    "dta = rec1data.merge(psychdata, on = \"id\", how = \"left\")\n",
    "dta.info()"
   ]
  },
  {
   "cell_type": "markdown",
   "id": "ad7e1ce1",
   "metadata": {},
   "source": [
    "## Step 3: Process data"
   ]
  },
  {
   "cell_type": "code",
   "execution_count": 11,
   "id": "38828241",
   "metadata": {},
   "outputs": [
    {
     "data": {
      "text/plain": [
       "count    3155.000000\n",
       "mean       37.560697\n",
       "std       118.498069\n",
       "min         0.000000\n",
       "25%         0.000000\n",
       "50%         5.000000\n",
       "75%        16.000000\n",
       "max      2590.000000\n",
       "Name: length_treat, dtype: float64"
      ]
     },
     "execution_count": 11,
     "metadata": {},
     "output_type": "execute_result"
    }
   ],
   "source": [
    "# Create length of treatment variable\n",
    "dta[\"date_contact\"] = pd.to_datetime(dta[\"date_contact\"], format='%Y%m%d', errors = \"coerce\")\n",
    "dta[\"date_term\"] = pd.to_datetime(dta[\"date_term\"], format='%Y%m%d', errors = \"coerce\")\n",
    "dta[\"length_treat\"] = (dta[\"date_term\"] - dta[\"date_contact\"]).dt.days\n",
    "dta[\"length_treat\"].describe()"
   ]
  },
  {
   "cell_type": "code",
   "execution_count": 10,
   "id": "416730b4",
   "metadata": {},
   "outputs": [
    {
     "data": {
      "text/plain": [
       "count    3479.000000\n",
       "mean        1.791894\n",
       "std         2.000096\n",
       "min         1.000000\n",
       "25%         1.000000\n",
       "50%         1.000000\n",
       "75%         2.000000\n",
       "max        13.000000\n",
       "Name: crime_num, dtype: float64"
      ]
     },
     "execution_count": 10,
     "metadata": {},
     "output_type": "execute_result"
    }
   ],
   "source": [
    "# Create number of crimes variable\n",
    "dta['crime_num'] = (dta.iloc[:,11:24] != 0).sum(axis=1)\n",
    "dta[\"crime_num\"].describe()"
   ]
  },
  {
   "cell_type": "markdown",
   "id": "e6bce1c9",
   "metadata": {},
   "source": [
    "## Step 4: Wrangle data"
   ]
  },
  {
   "cell_type": "markdown",
   "id": "6fffddf1",
   "metadata": {},
   "source": [
    "I had to do this step earlier to remove the rows that I'm not using."
   ]
  }
 ],
 "metadata": {
  "kernelspec": {
   "display_name": "Python 3",
   "language": "python",
   "name": "python3"
  },
  "language_info": {
   "codemirror_mode": {
    "name": "ipython",
    "version": 3
   },
   "file_extension": ".py",
   "mimetype": "text/x-python",
   "name": "python",
   "nbconvert_exporter": "python",
   "pygments_lexer": "ipython3",
   "version": "3.9.5"
  }
 },
 "nbformat": 4,
 "nbformat_minor": 5
}
