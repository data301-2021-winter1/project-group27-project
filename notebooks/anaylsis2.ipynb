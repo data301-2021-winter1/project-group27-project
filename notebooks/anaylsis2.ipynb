{
 "cells": [
  {
   "cell_type": "markdown",
   "id": "bb238936",
   "metadata": {},
   "source": [
    "# Andry Ramorasata"
   ]
  },
  {
   "cell_type": "markdown",
   "id": "8b265988",
   "metadata": {},
   "source": [
    "## Research questions/interests\n",
    "\n",
    "If there is a significant correlation between a demographic factor and a crime? Disorder and a crime?\n",
    "What are the statistics of somebody to commit a specific crime based off certain demographic characterisics?\""
   ]
  }
 ],
 "metadata": {
  "kernelspec": {
   "display_name": "Python 3",
   "language": "python",
   "name": "python3"
  },
  "language_info": {
   "codemirror_mode": {
    "name": "ipython",
    "version": 3
   },
   "file_extension": ".py",
   "mimetype": "text/x-python",
   "name": "python",
   "nbconvert_exporter": "python",
   "pygments_lexer": "ipython3",
   "version": "3.9.5"
  }
 },
 "nbformat": 4,
 "nbformat_minor": 5
}
