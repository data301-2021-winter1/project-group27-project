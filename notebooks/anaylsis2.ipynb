{
 "cells": [
  {
   "cell_type": "markdown",
   "id": "bb238936",
   "metadata": {},
   "source": [
    "# Andry Ramorasata"
   ]
  },
  {
   "cell_type": "markdown",
   "id": "8b265988",
   "metadata": {},
   "source": [
    "## Research questions/interests\n",
    "\n",
    "If there is a significant correlation between a demographic factor and a crime? Disorder and a crime?\n",
    "What are the statistics of somebody to commit a specific crime based off certain demographic characterisics?\n",
    "\n",
    "Revamped questions, October 31, 2021.  \n",
    "Order of questions:  \n",
    "Relation between one of the top ten disorders and number of sentences?\n",
    "Disorder and most common type of crime?  \n",
    "If I am given a certain disorder, could I predict the probability of the type of crimes based on certain factors?\n",
    "If I am given a crime, can I figure out the probability of certain demographic characteristics?\n",
    "Can disorder play a role with demographic characteristics?\n",
    "\n",
    "Final question(s):   \n",
    "1. Do individual demographic characteristics play a role in crime frequency?\n",
    "2. Does crime frequency increase when two or more demographic characteristics are included?\n",
    "3. Which crime is most associated with the most frequent demographic characteristics observed?"
   ]
  },
  {
   "cell_type": "markdown",
   "id": "d3501859-9d9a-4a1c-b320-86225e55cdf6",
   "metadata": {
    "tags": []
   },
   "source": [
    "# Milestone 3"
   ]
  },
  {
   "cell_type": "markdown",
   "id": "b88cbbb2-ef15-4932-9421-4bb6476cdd65",
   "metadata": {
    "jp-MarkdownHeadingCollapsed": true,
    "tags": []
   },
   "source": [
    "### Task 1:"
   ]
  },
  {
   "cell_type": "markdown",
   "id": "23f9fbd2-506c-4746-884d-733bbe1e25f6",
   "metadata": {
    "tags": []
   },
   "source": [
    "#### Exploratory Data Analysis"
   ]
  },
  {
   "cell_type": "code",
   "execution_count": 9,
   "id": "1383c91c-a7b0-4c51-b828-1590966f8eb6",
   "metadata": {},
   "outputs": [],
   "source": [
    "#importing library\n",
    "import pandas as pd\n",
    "import numpy as np\n",
    "import seaborn as sns\n",
    "import matplotlib\n",
    "import matplotlib.pyplot as plt"
   ]
  },
  {
   "cell_type": "code",
   "execution_count": 2,
   "id": "1289d17b-0806-4357-9a14-68dff208e28e",
   "metadata": {},
   "outputs": [
    {
     "name": "stdout",
     "output_type": "stream",
     "text": [
      "<class 'pandas.core.frame.DataFrame'>\n",
      "RangeIndex: 1003 entries, 0 to 1002\n",
      "Data columns (total 26 columns):\n",
      " #   Column      Non-Null Count  Dtype\n",
      "---  ------      --------------  -----\n",
      " 0   Unnamed: 0  1003 non-null   int64\n",
      " 1   id          1003 non-null   int64\n",
      " 2   rid         1003 non-null   int64\n",
      " 3   sex         1003 non-null   int64\n",
      " 4   birth       1003 non-null   int64\n",
      " 5   race        1003 non-null   int64\n",
      " 6   educ        1003 non-null   int64\n",
      " 7   marital     1003 non-null   int64\n",
      " 8   children    1003 non-null   int64\n",
      " 9   occupat     1003 non-null   int64\n",
      " 10  arrests     1003 non-null   int64\n",
      " 11  jail        1003 non-null   int64\n",
      " 12  crime01     1003 non-null   int64\n",
      " 13  crime02     1003 non-null   int64\n",
      " 14  crime03     1003 non-null   int64\n",
      " 15  crime04     1003 non-null   int64\n",
      " 16  crime05     1003 non-null   int64\n",
      " 17  crime06     1003 non-null   int64\n",
      " 18  crime07     1003 non-null   int64\n",
      " 19  crime08     1003 non-null   int64\n",
      " 20  crime09     1003 non-null   int64\n",
      " 21  crime10     1003 non-null   int64\n",
      " 22  crime11     1003 non-null   int64\n",
      " 23  crime12     1003 non-null   int64\n",
      " 24  crime13     1003 non-null   int64\n",
      " 25  crime14     1003 non-null   int64\n",
      "dtypes: int64(26)\n",
      "memory usage: 203.9 KB\n"
     ]
    },
    {
     "data": {
      "text/html": [
       "<div>\n",
       "<style scoped>\n",
       "    .dataframe tbody tr th:only-of-type {\n",
       "        vertical-align: middle;\n",
       "    }\n",
       "\n",
       "    .dataframe tbody tr th {\n",
       "        vertical-align: top;\n",
       "    }\n",
       "\n",
       "    .dataframe thead th {\n",
       "        text-align: right;\n",
       "    }\n",
       "</style>\n",
       "<table border=\"1\" class=\"dataframe\">\n",
       "  <thead>\n",
       "    <tr style=\"text-align: right;\">\n",
       "      <th></th>\n",
       "      <th>Unnamed: 0</th>\n",
       "      <th>id</th>\n",
       "      <th>rid</th>\n",
       "      <th>sex</th>\n",
       "      <th>birth</th>\n",
       "      <th>race</th>\n",
       "      <th>educ</th>\n",
       "      <th>marital</th>\n",
       "      <th>children</th>\n",
       "      <th>occupat</th>\n",
       "      <th>...</th>\n",
       "      <th>crime05</th>\n",
       "      <th>crime06</th>\n",
       "      <th>crime07</th>\n",
       "      <th>crime08</th>\n",
       "      <th>crime09</th>\n",
       "      <th>crime10</th>\n",
       "      <th>crime11</th>\n",
       "      <th>crime12</th>\n",
       "      <th>crime13</th>\n",
       "      <th>crime14</th>\n",
       "    </tr>\n",
       "  </thead>\n",
       "  <tbody>\n",
       "    <tr>\n",
       "      <th>0</th>\n",
       "      <td>1</td>\n",
       "      <td>1</td>\n",
       "      <td>991</td>\n",
       "      <td>1</td>\n",
       "      <td>18</td>\n",
       "      <td>1</td>\n",
       "      <td>10</td>\n",
       "      <td>4</td>\n",
       "      <td>1</td>\n",
       "      <td>0</td>\n",
       "      <td>...</td>\n",
       "      <td>0</td>\n",
       "      <td>0</td>\n",
       "      <td>0</td>\n",
       "      <td>0</td>\n",
       "      <td>0</td>\n",
       "      <td>0</td>\n",
       "      <td>0</td>\n",
       "      <td>0</td>\n",
       "      <td>0</td>\n",
       "      <td>0</td>\n",
       "    </tr>\n",
       "    <tr>\n",
       "      <th>1</th>\n",
       "      <td>2</td>\n",
       "      <td>2</td>\n",
       "      <td>991</td>\n",
       "      <td>1</td>\n",
       "      <td>16</td>\n",
       "      <td>1</td>\n",
       "      <td>10</td>\n",
       "      <td>2</td>\n",
       "      <td>3</td>\n",
       "      <td>20</td>\n",
       "      <td>...</td>\n",
       "      <td>0</td>\n",
       "      <td>0</td>\n",
       "      <td>0</td>\n",
       "      <td>0</td>\n",
       "      <td>0</td>\n",
       "      <td>0</td>\n",
       "      <td>0</td>\n",
       "      <td>0</td>\n",
       "      <td>0</td>\n",
       "      <td>0</td>\n",
       "    </tr>\n",
       "    <tr>\n",
       "      <th>2</th>\n",
       "      <td>3</td>\n",
       "      <td>3</td>\n",
       "      <td>991</td>\n",
       "      <td>1</td>\n",
       "      <td>21</td>\n",
       "      <td>1</td>\n",
       "      <td>7</td>\n",
       "      <td>1</td>\n",
       "      <td>0</td>\n",
       "      <td>10</td>\n",
       "      <td>...</td>\n",
       "      <td>0</td>\n",
       "      <td>0</td>\n",
       "      <td>0</td>\n",
       "      <td>0</td>\n",
       "      <td>0</td>\n",
       "      <td>0</td>\n",
       "      <td>0</td>\n",
       "      <td>0</td>\n",
       "      <td>0</td>\n",
       "      <td>0</td>\n",
       "    </tr>\n",
       "    <tr>\n",
       "      <th>3</th>\n",
       "      <td>4</td>\n",
       "      <td>4</td>\n",
       "      <td>991</td>\n",
       "      <td>1</td>\n",
       "      <td>32</td>\n",
       "      <td>1</td>\n",
       "      <td>7</td>\n",
       "      <td>1</td>\n",
       "      <td>0</td>\n",
       "      <td>10</td>\n",
       "      <td>...</td>\n",
       "      <td>0</td>\n",
       "      <td>0</td>\n",
       "      <td>0</td>\n",
       "      <td>0</td>\n",
       "      <td>0</td>\n",
       "      <td>0</td>\n",
       "      <td>0</td>\n",
       "      <td>0</td>\n",
       "      <td>0</td>\n",
       "      <td>0</td>\n",
       "    </tr>\n",
       "    <tr>\n",
       "      <th>4</th>\n",
       "      <td>5</td>\n",
       "      <td>5</td>\n",
       "      <td>991</td>\n",
       "      <td>1</td>\n",
       "      <td>53</td>\n",
       "      <td>2</td>\n",
       "      <td>11</td>\n",
       "      <td>1</td>\n",
       "      <td>0</td>\n",
       "      <td>10</td>\n",
       "      <td>...</td>\n",
       "      <td>0</td>\n",
       "      <td>0</td>\n",
       "      <td>0</td>\n",
       "      <td>0</td>\n",
       "      <td>0</td>\n",
       "      <td>0</td>\n",
       "      <td>0</td>\n",
       "      <td>0</td>\n",
       "      <td>0</td>\n",
       "      <td>0</td>\n",
       "    </tr>\n",
       "  </tbody>\n",
       "</table>\n",
       "<p>5 rows × 26 columns</p>\n",
       "</div>"
      ],
      "text/plain": [
       "   Unnamed: 0  id  rid  sex  birth  race  educ  marital  children  occupat  \\\n",
       "0           1   1  991    1     18     1    10        4         1        0   \n",
       "1           2   2  991    1     16     1    10        2         3       20   \n",
       "2           3   3  991    1     21     1     7        1         0       10   \n",
       "3           4   4  991    1     32     1     7        1         0       10   \n",
       "4           5   5  991    1     53     2    11        1         0       10   \n",
       "\n",
       "   ...  crime05  crime06  crime07  crime08  crime09  crime10  crime11  \\\n",
       "0  ...        0        0        0        0        0        0        0   \n",
       "1  ...        0        0        0        0        0        0        0   \n",
       "2  ...        0        0        0        0        0        0        0   \n",
       "3  ...        0        0        0        0        0        0        0   \n",
       "4  ...        0        0        0        0        0        0        0   \n",
       "\n",
       "   crime12  crime13  crime14  \n",
       "0        0        0        0  \n",
       "1        0        0        0  \n",
       "2        0        0        0  \n",
       "3        0        0        0  \n",
       "4        0        0        0  \n",
       "\n",
       "[5 rows x 26 columns]"
      ]
     },
     "execution_count": 2,
     "metadata": {},
     "output_type": "execute_result"
    }
   ],
   "source": [
    "# Read data\n",
    "Data1 = pd.read_csv(\"../data/processed/rec1data.csv\")\n",
    "\n",
    "# Data content\n",
    "Data1.info() \n",
    "Data1.head()"
   ]
  },
  {
   "cell_type": "code",
   "execution_count": 3,
   "id": "4f4eb763-7890-41ec-8740-7cd45768bceb",
   "metadata": {},
   "outputs": [
    {
     "ename": "NameError",
     "evalue": "name 'rec1data' is not defined",
     "output_type": "error",
     "traceback": [
      "\u001b[0;31m---------------------------------------------------------------------------\u001b[0m",
      "\u001b[0;31mNameError\u001b[0m                                 Traceback (most recent call last)",
      "\u001b[0;32m<ipython-input-3-5da5d0086c55>\u001b[0m in \u001b[0;36m<module>\u001b[0;34m\u001b[0m\n\u001b[1;32m      1\u001b[0m \u001b[0;31m# Visualize the data better\u001b[0m\u001b[0;34m\u001b[0m\u001b[0;34m\u001b[0m\u001b[0;34m\u001b[0m\u001b[0m\n\u001b[0;32m----> 2\u001b[0;31m \u001b[0mpd\u001b[0m\u001b[0;34m.\u001b[0m\u001b[0mset_option\u001b[0m\u001b[0;34m(\u001b[0m\u001b[0;34m'display.max_rows'\u001b[0m\u001b[0;34m,\u001b[0m \u001b[0mrec1data\u001b[0m\u001b[0;34m.\u001b[0m\u001b[0mshape\u001b[0m\u001b[0;34m[\u001b[0m\u001b[0;36m0\u001b[0m\u001b[0;34m]\u001b[0m\u001b[0;34m+\u001b[0m\u001b[0;36m1\u001b[0m\u001b[0;34m)\u001b[0m \u001b[0;31m# Command blocks adapted by Andryw Marques (https://towardsdatascience.com/how-to-show-all-columns-rows-of-a-pandas-dataframe-c49d4507fcf)\u001b[0m\u001b[0;34m\u001b[0m\u001b[0;34m\u001b[0m\u001b[0m\n\u001b[0m\u001b[1;32m      3\u001b[0m \u001b[0mpd\u001b[0m\u001b[0;34m.\u001b[0m\u001b[0mset_option\u001b[0m\u001b[0;34m(\u001b[0m\u001b[0;34m'display.max_columns'\u001b[0m\u001b[0;34m,\u001b[0m \u001b[0;32mNone\u001b[0m\u001b[0;34m)\u001b[0m\u001b[0;34m\u001b[0m\u001b[0;34m\u001b[0m\u001b[0m\n\u001b[1;32m      4\u001b[0m \u001b[0;31m# Insert here 'Data1' for full table.\u001b[0m\u001b[0;34m\u001b[0m\u001b[0;34m\u001b[0m\u001b[0;34m\u001b[0m\u001b[0m\n",
      "\u001b[0;31mNameError\u001b[0m: name 'rec1data' is not defined"
     ]
    }
   ],
   "source": [
    "# Visualize the data better \n",
    "pd.set_option('display.max_rows', rec1data.shape[0]+1) # Command blocks adapted by Andryw Marques (https://towardsdatascience.com/how-to-show-all-columns-rows-of-a-pandas-dataframe-c49d4507fcf)\n",
    "pd.set_option('display.max_columns', None)\n",
    "# Insert here 'Data1' for full table."
   ]
  },
  {
   "cell_type": "code",
   "execution_count": 4,
   "id": "716ffa82-3d35-4887-9538-8aa687b38829",
   "metadata": {},
   "outputs": [
    {
     "data": {
      "text/html": [
       "<div>\n",
       "<style scoped>\n",
       "    .dataframe tbody tr th:only-of-type {\n",
       "        vertical-align: middle;\n",
       "    }\n",
       "\n",
       "    .dataframe tbody tr th {\n",
       "        vertical-align: top;\n",
       "    }\n",
       "\n",
       "    .dataframe thead th {\n",
       "        text-align: right;\n",
       "    }\n",
       "</style>\n",
       "<table border=\"1\" class=\"dataframe\">\n",
       "  <thead>\n",
       "    <tr style=\"text-align: right;\">\n",
       "      <th></th>\n",
       "      <th>Unnamed: 0</th>\n",
       "      <th>id</th>\n",
       "      <th>rid</th>\n",
       "      <th>sex</th>\n",
       "      <th>birth</th>\n",
       "      <th>race</th>\n",
       "      <th>educ</th>\n",
       "      <th>marital</th>\n",
       "      <th>children</th>\n",
       "      <th>occupat</th>\n",
       "      <th>...</th>\n",
       "      <th>crime05</th>\n",
       "      <th>crime06</th>\n",
       "      <th>crime07</th>\n",
       "      <th>crime08</th>\n",
       "      <th>crime09</th>\n",
       "      <th>crime10</th>\n",
       "      <th>crime11</th>\n",
       "      <th>crime12</th>\n",
       "      <th>crime13</th>\n",
       "      <th>crime14</th>\n",
       "    </tr>\n",
       "  </thead>\n",
       "  <tbody>\n",
       "    <tr>\n",
       "      <th>0</th>\n",
       "      <td>1</td>\n",
       "      <td>1</td>\n",
       "      <td>991</td>\n",
       "      <td>1</td>\n",
       "      <td>18</td>\n",
       "      <td>1</td>\n",
       "      <td>10</td>\n",
       "      <td>4</td>\n",
       "      <td>1</td>\n",
       "      <td>0</td>\n",
       "      <td>...</td>\n",
       "      <td>0</td>\n",
       "      <td>0</td>\n",
       "      <td>0</td>\n",
       "      <td>0</td>\n",
       "      <td>0</td>\n",
       "      <td>0</td>\n",
       "      <td>0</td>\n",
       "      <td>0</td>\n",
       "      <td>0</td>\n",
       "      <td>0</td>\n",
       "    </tr>\n",
       "    <tr>\n",
       "      <th>1</th>\n",
       "      <td>2</td>\n",
       "      <td>2</td>\n",
       "      <td>991</td>\n",
       "      <td>1</td>\n",
       "      <td>16</td>\n",
       "      <td>1</td>\n",
       "      <td>10</td>\n",
       "      <td>2</td>\n",
       "      <td>3</td>\n",
       "      <td>20</td>\n",
       "      <td>...</td>\n",
       "      <td>0</td>\n",
       "      <td>0</td>\n",
       "      <td>0</td>\n",
       "      <td>0</td>\n",
       "      <td>0</td>\n",
       "      <td>0</td>\n",
       "      <td>0</td>\n",
       "      <td>0</td>\n",
       "      <td>0</td>\n",
       "      <td>0</td>\n",
       "    </tr>\n",
       "    <tr>\n",
       "      <th>2</th>\n",
       "      <td>3</td>\n",
       "      <td>3</td>\n",
       "      <td>991</td>\n",
       "      <td>1</td>\n",
       "      <td>21</td>\n",
       "      <td>1</td>\n",
       "      <td>7</td>\n",
       "      <td>1</td>\n",
       "      <td>0</td>\n",
       "      <td>10</td>\n",
       "      <td>...</td>\n",
       "      <td>0</td>\n",
       "      <td>0</td>\n",
       "      <td>0</td>\n",
       "      <td>0</td>\n",
       "      <td>0</td>\n",
       "      <td>0</td>\n",
       "      <td>0</td>\n",
       "      <td>0</td>\n",
       "      <td>0</td>\n",
       "      <td>0</td>\n",
       "    </tr>\n",
       "    <tr>\n",
       "      <th>3</th>\n",
       "      <td>4</td>\n",
       "      <td>4</td>\n",
       "      <td>991</td>\n",
       "      <td>1</td>\n",
       "      <td>32</td>\n",
       "      <td>1</td>\n",
       "      <td>7</td>\n",
       "      <td>1</td>\n",
       "      <td>0</td>\n",
       "      <td>10</td>\n",
       "      <td>...</td>\n",
       "      <td>0</td>\n",
       "      <td>0</td>\n",
       "      <td>0</td>\n",
       "      <td>0</td>\n",
       "      <td>0</td>\n",
       "      <td>0</td>\n",
       "      <td>0</td>\n",
       "      <td>0</td>\n",
       "      <td>0</td>\n",
       "      <td>0</td>\n",
       "    </tr>\n",
       "    <tr>\n",
       "      <th>4</th>\n",
       "      <td>5</td>\n",
       "      <td>5</td>\n",
       "      <td>991</td>\n",
       "      <td>1</td>\n",
       "      <td>53</td>\n",
       "      <td>2</td>\n",
       "      <td>11</td>\n",
       "      <td>1</td>\n",
       "      <td>0</td>\n",
       "      <td>10</td>\n",
       "      <td>...</td>\n",
       "      <td>0</td>\n",
       "      <td>0</td>\n",
       "      <td>0</td>\n",
       "      <td>0</td>\n",
       "      <td>0</td>\n",
       "      <td>0</td>\n",
       "      <td>0</td>\n",
       "      <td>0</td>\n",
       "      <td>0</td>\n",
       "      <td>0</td>\n",
       "    </tr>\n",
       "    <tr>\n",
       "      <th>...</th>\n",
       "      <td>...</td>\n",
       "      <td>...</td>\n",
       "      <td>...</td>\n",
       "      <td>...</td>\n",
       "      <td>...</td>\n",
       "      <td>...</td>\n",
       "      <td>...</td>\n",
       "      <td>...</td>\n",
       "      <td>...</td>\n",
       "      <td>...</td>\n",
       "      <td>...</td>\n",
       "      <td>...</td>\n",
       "      <td>...</td>\n",
       "      <td>...</td>\n",
       "      <td>...</td>\n",
       "      <td>...</td>\n",
       "      <td>...</td>\n",
       "      <td>...</td>\n",
       "      <td>...</td>\n",
       "      <td>...</td>\n",
       "      <td>...</td>\n",
       "    </tr>\n",
       "    <tr>\n",
       "      <th>998</th>\n",
       "      <td>999</td>\n",
       "      <td>999</td>\n",
       "      <td>991</td>\n",
       "      <td>1</td>\n",
       "      <td>21</td>\n",
       "      <td>1</td>\n",
       "      <td>0</td>\n",
       "      <td>1</td>\n",
       "      <td>0</td>\n",
       "      <td>0</td>\n",
       "      <td>...</td>\n",
       "      <td>0</td>\n",
       "      <td>0</td>\n",
       "      <td>0</td>\n",
       "      <td>0</td>\n",
       "      <td>0</td>\n",
       "      <td>0</td>\n",
       "      <td>0</td>\n",
       "      <td>0</td>\n",
       "      <td>0</td>\n",
       "      <td>0</td>\n",
       "    </tr>\n",
       "    <tr>\n",
       "      <th>999</th>\n",
       "      <td>1000</td>\n",
       "      <td>1000</td>\n",
       "      <td>991</td>\n",
       "      <td>1</td>\n",
       "      <td>48</td>\n",
       "      <td>1</td>\n",
       "      <td>0</td>\n",
       "      <td>4</td>\n",
       "      <td>0</td>\n",
       "      <td>0</td>\n",
       "      <td>...</td>\n",
       "      <td>0</td>\n",
       "      <td>0</td>\n",
       "      <td>0</td>\n",
       "      <td>0</td>\n",
       "      <td>0</td>\n",
       "      <td>0</td>\n",
       "      <td>0</td>\n",
       "      <td>0</td>\n",
       "      <td>0</td>\n",
       "      <td>0</td>\n",
       "    </tr>\n",
       "    <tr>\n",
       "      <th>1000</th>\n",
       "      <td>1001</td>\n",
       "      <td>1001</td>\n",
       "      <td>991</td>\n",
       "      <td>1</td>\n",
       "      <td>46</td>\n",
       "      <td>2</td>\n",
       "      <td>0</td>\n",
       "      <td>1</td>\n",
       "      <td>0</td>\n",
       "      <td>0</td>\n",
       "      <td>...</td>\n",
       "      <td>0</td>\n",
       "      <td>0</td>\n",
       "      <td>0</td>\n",
       "      <td>0</td>\n",
       "      <td>0</td>\n",
       "      <td>0</td>\n",
       "      <td>0</td>\n",
       "      <td>0</td>\n",
       "      <td>0</td>\n",
       "      <td>0</td>\n",
       "    </tr>\n",
       "    <tr>\n",
       "      <th>1001</th>\n",
       "      <td>1002</td>\n",
       "      <td>1002</td>\n",
       "      <td>991</td>\n",
       "      <td>1</td>\n",
       "      <td>42</td>\n",
       "      <td>2</td>\n",
       "      <td>0</td>\n",
       "      <td>3</td>\n",
       "      <td>0</td>\n",
       "      <td>0</td>\n",
       "      <td>...</td>\n",
       "      <td>0</td>\n",
       "      <td>0</td>\n",
       "      <td>0</td>\n",
       "      <td>0</td>\n",
       "      <td>0</td>\n",
       "      <td>0</td>\n",
       "      <td>0</td>\n",
       "      <td>0</td>\n",
       "      <td>0</td>\n",
       "      <td>0</td>\n",
       "    </tr>\n",
       "    <tr>\n",
       "      <th>1002</th>\n",
       "      <td>1003</td>\n",
       "      <td>1003</td>\n",
       "      <td>991</td>\n",
       "      <td>1</td>\n",
       "      <td>30</td>\n",
       "      <td>2</td>\n",
       "      <td>0</td>\n",
       "      <td>2</td>\n",
       "      <td>0</td>\n",
       "      <td>0</td>\n",
       "      <td>...</td>\n",
       "      <td>0</td>\n",
       "      <td>0</td>\n",
       "      <td>0</td>\n",
       "      <td>0</td>\n",
       "      <td>0</td>\n",
       "      <td>0</td>\n",
       "      <td>0</td>\n",
       "      <td>0</td>\n",
       "      <td>0</td>\n",
       "      <td>0</td>\n",
       "    </tr>\n",
       "  </tbody>\n",
       "</table>\n",
       "<p>1003 rows × 26 columns</p>\n",
       "</div>"
      ],
      "text/plain": [
       "      Unnamed: 0    id  rid  sex  birth  race  educ  marital  children  \\\n",
       "0              1     1  991    1     18     1    10        4         1   \n",
       "1              2     2  991    1     16     1    10        2         3   \n",
       "2              3     3  991    1     21     1     7        1         0   \n",
       "3              4     4  991    1     32     1     7        1         0   \n",
       "4              5     5  991    1     53     2    11        1         0   \n",
       "...          ...   ...  ...  ...    ...   ...   ...      ...       ...   \n",
       "998          999   999  991    1     21     1     0        1         0   \n",
       "999         1000  1000  991    1     48     1     0        4         0   \n",
       "1000        1001  1001  991    1     46     2     0        1         0   \n",
       "1001        1002  1002  991    1     42     2     0        3         0   \n",
       "1002        1003  1003  991    1     30     2     0        2         0   \n",
       "\n",
       "      occupat  ...  crime05  crime06  crime07  crime08  crime09  crime10  \\\n",
       "0           0  ...        0        0        0        0        0        0   \n",
       "1          20  ...        0        0        0        0        0        0   \n",
       "2          10  ...        0        0        0        0        0        0   \n",
       "3          10  ...        0        0        0        0        0        0   \n",
       "4          10  ...        0        0        0        0        0        0   \n",
       "...       ...  ...      ...      ...      ...      ...      ...      ...   \n",
       "998         0  ...        0        0        0        0        0        0   \n",
       "999         0  ...        0        0        0        0        0        0   \n",
       "1000        0  ...        0        0        0        0        0        0   \n",
       "1001        0  ...        0        0        0        0        0        0   \n",
       "1002        0  ...        0        0        0        0        0        0   \n",
       "\n",
       "      crime11  crime12  crime13  crime14  \n",
       "0           0        0        0        0  \n",
       "1           0        0        0        0  \n",
       "2           0        0        0        0  \n",
       "3           0        0        0        0  \n",
       "4           0        0        0        0  \n",
       "...       ...      ...      ...      ...  \n",
       "998         0        0        0        0  \n",
       "999         0        0        0        0  \n",
       "1000        0        0        0        0  \n",
       "1001        0        0        0        0  \n",
       "1002        0        0        0        0  \n",
       "\n",
       "[1003 rows x 26 columns]"
      ]
     },
     "execution_count": 4,
     "metadata": {},
     "output_type": "execute_result"
    }
   ],
   "source": [
    "# Set back to default\n",
    "pd.reset_option('^display.', silent=True)\n",
    "Data1"
   ]
  },
  {
   "cell_type": "code",
   "execution_count": 26,
   "id": "9d252647-dba5-453e-96bf-de5d958aabaa",
   "metadata": {},
   "outputs": [
    {
     "name": "stdout",
     "output_type": "stream",
     "text": [
      "<class 'pandas.core.frame.DataFrame'>\n",
      "Int64Index: 617 entries, 0 to 616\n",
      "Data columns (total 27 columns):\n",
      " #   Column      Non-Null Count  Dtype   \n",
      "---  ------      --------------  -----   \n",
      " 0   Unnamed: 0  617 non-null    int64   \n",
      " 1   id          617 non-null    object  \n",
      " 2   rid         617 non-null    int64   \n",
      " 3   sex         617 non-null    category\n",
      " 4   birth       617 non-null    int64   \n",
      " 5   race        617 non-null    category\n",
      " 6   educ        617 non-null    int64   \n",
      " 7   marital     617 non-null    category\n",
      " 8   children    617 non-null    int64   \n",
      " 9   occupat     617 non-null    category\n",
      " 10  arrests     617 non-null    int64   \n",
      " 11  jail        617 non-null    int64   \n",
      " 12  crime01     617 non-null    category\n",
      " 13  crime02     617 non-null    category\n",
      " 14  crime03     617 non-null    category\n",
      " 15  crime04     617 non-null    category\n",
      " 16  crime05     617 non-null    category\n",
      " 17  crime06     617 non-null    category\n",
      " 18  crime07     617 non-null    category\n",
      " 19  crime08     617 non-null    category\n",
      " 20  crime09     617 non-null    category\n",
      " 21  crime10     617 non-null    category\n",
      " 22  crime11     617 non-null    category\n",
      " 23  crime12     617 non-null    category\n",
      " 24  crime13     617 non-null    category\n",
      " 25  crime14     617 non-null    category\n",
      " 26  sentences   617 non-null    int64   \n",
      "dtypes: category(18), int64(8), object(1)\n",
      "memory usage: 63.3+ KB\n"
     ]
    }
   ],
   "source": [
    "# Even though all the following data points/values are integers, most are technically categorical,\n",
    "# so lets change the following:\n",
    "Data1 = Data1.astype({'id': 'object', \n",
    "                      'sex': 'category',\n",
    "                      'race': 'category',\n",
    "                     'marital': 'category',\n",
    "                      'occupat': 'category',\n",
    "                     'crime01': 'category',\n",
    "                     'crime02':'category',\n",
    "                     'crime03': 'category',\n",
    "                     'crime04': 'category',\n",
    "                     'crime05': 'category',\n",
    "                     'crime06': 'category',\n",
    "                     'crime07': 'category',\n",
    "                     'crime08': 'category',\n",
    "                     'crime09': 'category',\n",
    "                     'crime10':'category',\n",
    "                     'crime11': 'category',\n",
    "                     'crime12':'category',\n",
    "                     'crime13':'category',\n",
    "                     'crime14':'category'})\n",
    "Data1.info()"
   ]
  },
  {
   "cell_type": "code",
   "execution_count": 6,
   "id": "8acac1be-b926-44c7-aa7b-6e21f9c6d437",
   "metadata": {},
   "outputs": [
    {
     "data": {
      "text/plain": [
       "count    1003.000000\n",
       "mean        0.816550\n",
       "std         1.115239\n",
       "min         0.000000\n",
       "25%         0.000000\n",
       "50%         1.000000\n",
       "75%         1.000000\n",
       "max        13.000000\n",
       "Name: sentences, dtype: float64"
      ]
     },
     "execution_count": 6,
     "metadata": {},
     "output_type": "execute_result"
    }
   ],
   "source": [
    "# Now, let's have a general idea of how many sentences people received by creating another column.\n",
    "Data1['sentences'] = (Data1.iloc[:,12:25] != 0).sum(axis=1)\n",
    "Data1['sentences'].describe()\n",
    "\n",
    "# Seeing that we have a minimum of 0, seems like some people weren't convicted. "
   ]
  },
  {
   "cell_type": "code",
   "execution_count": 7,
   "id": "ed4b2da3-6075-43a3-9576-48e947d810eb",
   "metadata": {},
   "outputs": [
    {
     "name": "stdout",
     "output_type": "stream",
     "text": [
      "0\n",
      "0\n"
     ]
    }
   ],
   "source": [
    "# What I want to see now is how many people weren't sentenced.\n",
    "Sentenced = [0]\n",
    "ZS = Data1[Data1[\"crime01\"].isin(Sentenced)]\n",
    "ZS\n",
    "# That's quite a few people without any sentences. Perhaps there is an error in the data and some may have crimes..?\n",
    "# Let's see if these people were arrested or jailed.\n",
    "A = ZS.arrests.sum()\n",
    "J = ZS.jail.sum()\n",
    "print(A)\n",
    "print(J)"
   ]
  },
  {
   "cell_type": "code",
   "execution_count": 8,
   "id": "3caefbd9-39ff-41a8-bde1-c366bd322c5f",
   "metadata": {},
   "outputs": [
    {
     "name": "stdout",
     "output_type": "stream",
     "text": [
      "<class 'pandas.core.frame.DataFrame'>\n",
      "Int64Index: 617 entries, 0 to 616\n",
      "Data columns (total 27 columns):\n",
      " #   Column      Non-Null Count  Dtype   \n",
      "---  ------      --------------  -----   \n",
      " 0   Unnamed: 0  617 non-null    int64   \n",
      " 1   id          617 non-null    object  \n",
      " 2   rid         617 non-null    int64   \n",
      " 3   sex         617 non-null    category\n",
      " 4   birth       617 non-null    int64   \n",
      " 5   race        617 non-null    category\n",
      " 6   educ        617 non-null    int64   \n",
      " 7   marital     617 non-null    category\n",
      " 8   children    617 non-null    int64   \n",
      " 9   occupat     617 non-null    category\n",
      " 10  arrests     617 non-null    int64   \n",
      " 11  jail        617 non-null    int64   \n",
      " 12  crime01     617 non-null    category\n",
      " 13  crime02     617 non-null    category\n",
      " 14  crime03     617 non-null    category\n",
      " 15  crime04     617 non-null    category\n",
      " 16  crime05     617 non-null    category\n",
      " 17  crime06     617 non-null    category\n",
      " 18  crime07     617 non-null    category\n",
      " 19  crime08     617 non-null    category\n",
      " 20  crime09     617 non-null    category\n",
      " 21  crime10     617 non-null    category\n",
      " 22  crime11     617 non-null    category\n",
      " 23  crime12     617 non-null    category\n",
      " 24  crime13     617 non-null    category\n",
      " 25  crime14     617 non-null    category\n",
      " 26  sentences   617 non-null    int64   \n",
      "dtypes: category(18), int64(8), object(1)\n",
      "memory usage: 63.3+ KB\n"
     ]
    },
    {
     "data": {
      "text/html": [
       "<div>\n",
       "<style scoped>\n",
       "    .dataframe tbody tr th:only-of-type {\n",
       "        vertical-align: middle;\n",
       "    }\n",
       "\n",
       "    .dataframe tbody tr th {\n",
       "        vertical-align: top;\n",
       "    }\n",
       "\n",
       "    .dataframe thead th {\n",
       "        text-align: right;\n",
       "    }\n",
       "</style>\n",
       "<table border=\"1\" class=\"dataframe\">\n",
       "  <thead>\n",
       "    <tr style=\"text-align: right;\">\n",
       "      <th></th>\n",
       "      <th>Unnamed: 0</th>\n",
       "      <th>id</th>\n",
       "      <th>rid</th>\n",
       "      <th>sex</th>\n",
       "      <th>birth</th>\n",
       "      <th>race</th>\n",
       "      <th>educ</th>\n",
       "      <th>marital</th>\n",
       "      <th>children</th>\n",
       "      <th>occupat</th>\n",
       "      <th>...</th>\n",
       "      <th>crime06</th>\n",
       "      <th>crime07</th>\n",
       "      <th>crime08</th>\n",
       "      <th>crime09</th>\n",
       "      <th>crime10</th>\n",
       "      <th>crime11</th>\n",
       "      <th>crime12</th>\n",
       "      <th>crime13</th>\n",
       "      <th>crime14</th>\n",
       "      <th>sentences</th>\n",
       "    </tr>\n",
       "  </thead>\n",
       "  <tbody>\n",
       "    <tr>\n",
       "      <th>0</th>\n",
       "      <td>1</td>\n",
       "      <td>1</td>\n",
       "      <td>991</td>\n",
       "      <td>1</td>\n",
       "      <td>18</td>\n",
       "      <td>1</td>\n",
       "      <td>10</td>\n",
       "      <td>4</td>\n",
       "      <td>1</td>\n",
       "      <td>0</td>\n",
       "      <td>...</td>\n",
       "      <td>0</td>\n",
       "      <td>0</td>\n",
       "      <td>0</td>\n",
       "      <td>0</td>\n",
       "      <td>0</td>\n",
       "      <td>0</td>\n",
       "      <td>0</td>\n",
       "      <td>0</td>\n",
       "      <td>0</td>\n",
       "      <td>1</td>\n",
       "    </tr>\n",
       "    <tr>\n",
       "      <th>1</th>\n",
       "      <td>2</td>\n",
       "      <td>2</td>\n",
       "      <td>991</td>\n",
       "      <td>1</td>\n",
       "      <td>16</td>\n",
       "      <td>1</td>\n",
       "      <td>10</td>\n",
       "      <td>2</td>\n",
       "      <td>3</td>\n",
       "      <td>20</td>\n",
       "      <td>...</td>\n",
       "      <td>0</td>\n",
       "      <td>0</td>\n",
       "      <td>0</td>\n",
       "      <td>0</td>\n",
       "      <td>0</td>\n",
       "      <td>0</td>\n",
       "      <td>0</td>\n",
       "      <td>0</td>\n",
       "      <td>0</td>\n",
       "      <td>1</td>\n",
       "    </tr>\n",
       "    <tr>\n",
       "      <th>2</th>\n",
       "      <td>3</td>\n",
       "      <td>3</td>\n",
       "      <td>991</td>\n",
       "      <td>1</td>\n",
       "      <td>21</td>\n",
       "      <td>1</td>\n",
       "      <td>7</td>\n",
       "      <td>1</td>\n",
       "      <td>0</td>\n",
       "      <td>10</td>\n",
       "      <td>...</td>\n",
       "      <td>0</td>\n",
       "      <td>0</td>\n",
       "      <td>0</td>\n",
       "      <td>0</td>\n",
       "      <td>0</td>\n",
       "      <td>0</td>\n",
       "      <td>0</td>\n",
       "      <td>0</td>\n",
       "      <td>0</td>\n",
       "      <td>1</td>\n",
       "    </tr>\n",
       "    <tr>\n",
       "      <th>3</th>\n",
       "      <td>4</td>\n",
       "      <td>4</td>\n",
       "      <td>991</td>\n",
       "      <td>1</td>\n",
       "      <td>32</td>\n",
       "      <td>1</td>\n",
       "      <td>7</td>\n",
       "      <td>1</td>\n",
       "      <td>0</td>\n",
       "      <td>10</td>\n",
       "      <td>...</td>\n",
       "      <td>0</td>\n",
       "      <td>0</td>\n",
       "      <td>0</td>\n",
       "      <td>0</td>\n",
       "      <td>0</td>\n",
       "      <td>0</td>\n",
       "      <td>0</td>\n",
       "      <td>0</td>\n",
       "      <td>0</td>\n",
       "      <td>1</td>\n",
       "    </tr>\n",
       "    <tr>\n",
       "      <th>4</th>\n",
       "      <td>5</td>\n",
       "      <td>5</td>\n",
       "      <td>991</td>\n",
       "      <td>1</td>\n",
       "      <td>53</td>\n",
       "      <td>2</td>\n",
       "      <td>11</td>\n",
       "      <td>1</td>\n",
       "      <td>0</td>\n",
       "      <td>10</td>\n",
       "      <td>...</td>\n",
       "      <td>0</td>\n",
       "      <td>0</td>\n",
       "      <td>0</td>\n",
       "      <td>0</td>\n",
       "      <td>0</td>\n",
       "      <td>0</td>\n",
       "      <td>0</td>\n",
       "      <td>0</td>\n",
       "      <td>0</td>\n",
       "      <td>1</td>\n",
       "    </tr>\n",
       "  </tbody>\n",
       "</table>\n",
       "<p>5 rows × 27 columns</p>\n",
       "</div>"
      ],
      "text/plain": [
       "   Unnamed: 0 id  rid sex  birth race  educ marital  children occupat  ...  \\\n",
       "0           1  1  991   1     18    1    10       4         1       0  ...   \n",
       "1           2  2  991   1     16    1    10       2         3      20  ...   \n",
       "2           3  3  991   1     21    1     7       1         0      10  ...   \n",
       "3           4  4  991   1     32    1     7       1         0      10  ...   \n",
       "4           5  5  991   1     53    2    11       1         0      10  ...   \n",
       "\n",
       "   crime06  crime07 crime08 crime09 crime10 crime11 crime12 crime13 crime14  \\\n",
       "0        0        0       0       0       0       0       0       0       0   \n",
       "1        0        0       0       0       0       0       0       0       0   \n",
       "2        0        0       0       0       0       0       0       0       0   \n",
       "3        0        0       0       0       0       0       0       0       0   \n",
       "4        0        0       0       0       0       0       0       0       0   \n",
       "\n",
       "  sentences  \n",
       "0         1  \n",
       "1         1  \n",
       "2         1  \n",
       "3         1  \n",
       "4         1  \n",
       "\n",
       "[5 rows x 27 columns]"
      ]
     },
     "execution_count": 8,
     "metadata": {},
     "output_type": "execute_result"
    }
   ],
   "source": [
    "# The codebook doesn't seem to explain the missing information, so perhaps we will just remove all the individuals\n",
    "# with a total sentence of 0.\n",
    "Data1 = Data1[Data1.sentences != 0]\n",
    "Data1.info()\n",
    "Data1.head()"
   ]
  },
  {
   "cell_type": "code",
   "execution_count": 9,
   "id": "b30c1694-f4c6-49e4-bbaa-d34ac84b7797",
   "metadata": {},
   "outputs": [
    {
     "data": {
      "text/plain": [
       "count    617.000000\n",
       "mean       1.327391\n",
       "std        1.159284\n",
       "min        1.000000\n",
       "25%        1.000000\n",
       "50%        1.000000\n",
       "75%        1.000000\n",
       "max       13.000000\n",
       "Name: sentences, dtype: float64"
      ]
     },
     "execution_count": 9,
     "metadata": {},
     "output_type": "execute_result"
    }
   ],
   "source": [
    "# Now we are down to 616 entries out of 1003 we originally had.\n",
    "# Let's clean up the data just a little bit more. \n",
    "df1 = Data1.drop(labels = [\"Unnamed: 0\", \"arrests\", \"jail\",\"rid\"], axis=1)\n",
    "df1.sentences.describe()"
   ]
  },
  {
   "cell_type": "code",
   "execution_count": 10,
   "id": "56620e87-334c-4edc-b2e2-345338aa693f",
   "metadata": {},
   "outputs": [
    {
     "data": {
      "text/plain": [
       "array([[<AxesSubplot:title={'center':'sentences'}>]], dtype=object)"
      ]
     },
     "execution_count": 10,
     "metadata": {},
     "output_type": "execute_result"
    },
    {
     "data": {
      "image/png": "[encoded data removed]",
      "text/plain": [
       "<Figure size 432x288 with 1 Axes>"
      ]
     },
     "metadata": {
      "needs_background": "light"
     },
     "output_type": "display_data"
    }
   ],
   "source": [
    "# Solid, lets see this visually\n",
    "df1.hist(column = \"sentences\", bins = range(15))\n",
    "# Data here is positively skewed. "
   ]
  },
  {
   "cell_type": "code",
   "execution_count": 11,
   "id": "b062957f-f7aa-4beb-999b-e9ed548b8ea6",
   "metadata": {},
   "outputs": [
    {
     "data": {
      "text/plain": [
       "<AxesSubplot:>"
      ]
     },
     "execution_count": 11,
     "metadata": {},
     "output_type": "execute_result"
    },
    {
     "data": {
      "image/png": "[encoded data removed]",
      "text/plain": [
       "<Figure size 432x288 with 1 Axes>"
      ]
     },
     "metadata": {
      "needs_background": "light"
     },
     "output_type": "display_data"
    }
   ],
   "source": [
    "# Let's answer the question, for the first sentence, what is the most frequent crime?\n",
    "x = 10\n",
    "df1['crime01'].value_counts()[:x].index.tolist()\n",
    "df1['crime01'].value_counts().plot(kind='bar')\n",
    "# Okay, so it's public intoxication, larcency(11-12), assault, possession of drugs, Youthful Offender, \n",
    "# possession of dangerous weapons, trespass, DUI, possession of stolen property."
   ]
  },
  {
   "cell_type": "code",
   "execution_count": 12,
   "id": "b2a5f2e1-4fe7-47e5-ab45-79834a792a4c",
   "metadata": {},
   "outputs": [
    {
     "name": "stdout",
     "output_type": "stream",
     "text": [
      "<class 'pandas.core.frame.DataFrame'>\n",
      "RangeIndex: 4548 entries, 0 to 4547\n",
      "Data columns (total 10 columns):\n",
      " #   Column        Non-Null Count  Dtype \n",
      "---  ------        --------------  ----- \n",
      " 0   Unnamed: 0    4548 non-null   int64 \n",
      " 1   id            4548 non-null   int64 \n",
      " 2   contact       4548 non-null   int64 \n",
      " 3   date_contact  4548 non-null   int64 \n",
      " 4   facility      4548 non-null   int64 \n",
      " 5   address       4548 non-null   object\n",
      " 6   diagnosis     4548 non-null   object\n",
      " 7   service       4548 non-null   int64 \n",
      " 8   date_term     4548 non-null   int64 \n",
      " 9   reason_term   4548 non-null   int64 \n",
      "dtypes: int64(8), object(2)\n",
      "memory usage: 355.4+ KB\n"
     ]
    },
    {
     "data": {
      "text/html": [
       "<div>\n",
       "<style scoped>\n",
       "    .dataframe tbody tr th:only-of-type {\n",
       "        vertical-align: middle;\n",
       "    }\n",
       "\n",
       "    .dataframe tbody tr th {\n",
       "        vertical-align: top;\n",
       "    }\n",
       "\n",
       "    .dataframe thead th {\n",
       "        text-align: right;\n",
       "    }\n",
       "</style>\n",
       "<table border=\"1\" class=\"dataframe\">\n",
       "  <thead>\n",
       "    <tr style=\"text-align: right;\">\n",
       "      <th></th>\n",
       "      <th>Unnamed: 0</th>\n",
       "      <th>id</th>\n",
       "      <th>contact</th>\n",
       "      <th>date_contact</th>\n",
       "      <th>facility</th>\n",
       "      <th>address</th>\n",
       "      <th>diagnosis</th>\n",
       "      <th>service</th>\n",
       "      <th>date_term</th>\n",
       "      <th>reason_term</th>\n",
       "    </tr>\n",
       "  </thead>\n",
       "  <tbody>\n",
       "    <tr>\n",
       "      <th>0</th>\n",
       "      <td>1</td>\n",
       "      <td>1</td>\n",
       "      <td>1</td>\n",
       "      <td>600804</td>\n",
       "      <td>1</td>\n",
       "      <td>100</td>\n",
       "      <td>103</td>\n",
       "      <td>0</td>\n",
       "      <td>600808</td>\n",
       "      <td>0</td>\n",
       "    </tr>\n",
       "    <tr>\n",
       "      <th>1</th>\n",
       "      <td>2</td>\n",
       "      <td>1</td>\n",
       "      <td>2</td>\n",
       "      <td>600809</td>\n",
       "      <td>2</td>\n",
       "      <td>100</td>\n",
       "      <td>715</td>\n",
       "      <td>1</td>\n",
       "      <td>601130</td>\n",
       "      <td>9</td>\n",
       "    </tr>\n",
       "    <tr>\n",
       "      <th>2</th>\n",
       "      <td>3</td>\n",
       "      <td>1</td>\n",
       "      <td>3</td>\n",
       "      <td>640320</td>\n",
       "      <td>1</td>\n",
       "      <td>100</td>\n",
       "      <td>715</td>\n",
       "      <td>0</td>\n",
       "      <td>640401</td>\n",
       "      <td>0</td>\n",
       "    </tr>\n",
       "    <tr>\n",
       "      <th>3</th>\n",
       "      <td>4</td>\n",
       "      <td>1</td>\n",
       "      <td>4</td>\n",
       "      <td>640910</td>\n",
       "      <td>2</td>\n",
       "      <td>100</td>\n",
       "      <td>715</td>\n",
       "      <td>0</td>\n",
       "      <td>641027</td>\n",
       "      <td>9</td>\n",
       "    </tr>\n",
       "    <tr>\n",
       "      <th>4</th>\n",
       "      <td>5</td>\n",
       "      <td>1</td>\n",
       "      <td>5</td>\n",
       "      <td>641109</td>\n",
       "      <td>1</td>\n",
       "      <td>100</td>\n",
       "      <td>103</td>\n",
       "      <td>0</td>\n",
       "      <td>641113</td>\n",
       "      <td>0</td>\n",
       "    </tr>\n",
       "  </tbody>\n",
       "</table>\n",
       "</div>"
      ],
      "text/plain": [
       "   Unnamed: 0  id  contact  date_contact  facility address diagnosis  service  \\\n",
       "0           1   1        1        600804         1     100       103        0   \n",
       "1           2   1        2        600809         2     100       715        1   \n",
       "2           3   1        3        640320         1     100       715        0   \n",
       "3           4   1        4        640910         2     100       715        0   \n",
       "4           5   1        5        641109         1     100       103        0   \n",
       "\n",
       "   date_term  reason_term  \n",
       "0     600808            0  \n",
       "1     601130            9  \n",
       "2     640401            0  \n",
       "3     641027            9  \n",
       "4     641113            0  "
      ]
     },
     "execution_count": 12,
     "metadata": {},
     "output_type": "execute_result"
    }
   ],
   "source": [
    "# Psych Data analysis - import and visualization\n",
    "pdata = pd.read_csv(\"../data/processed/psychdata.csv\")\n",
    "pdata.info()\n",
    "pdata.head()"
   ]
  },
  {
   "cell_type": "code",
   "execution_count": 13,
   "id": "98686b2c-a6ad-47b3-8fab-8b37c19d56e2",
   "metadata": {},
   "outputs": [
    {
     "data": {
      "text/plain": [
       "['755', '238', '758', '103', '715', '444', '617', '901', '436', '265']"
      ]
     },
     "execution_count": 13,
     "metadata": {},
     "output_type": "execute_result"
    }
   ],
   "source": [
    "# Let's see the most common diagnosis\n",
    "n = 10\n",
    "pdata['diagnosis'].value_counts()[:n].index.tolist()"
   ]
  },
  {
   "cell_type": "code",
   "execution_count": 14,
   "id": "0c647c22-e359-4a65-a742-9fcc99094838",
   "metadata": {},
   "outputs": [
    {
     "data": {
      "text/plain": [
       "<AxesSubplot:>"
      ]
     },
     "execution_count": 14,
     "metadata": {},
     "output_type": "execute_result"
    },
    {
     "data": {
      "image/png": "[encoded data removed]",
      "text/plain": [
       "<Figure size 432x288 with 1 Axes>"
      ]
     },
     "metadata": {
      "needs_background": "light"
     },
     "output_type": "display_data"
    }
   ],
   "source": [
    "# Visualize this data\n",
    "DIA = ['755', '238', '758', '103', '715', '444', '617', '901', '436', '265']\n",
    "DIAS = pdata[pdata[\"diagnosis\"].isin(DIA)]\n",
    "DIAS['diagnosis'].value_counts().plot(kind='bar')"
   ]
  },
  {
   "cell_type": "code",
   "execution_count": 15,
   "id": "b315a596-e112-42e9-a688-d299169af067",
   "metadata": {},
   "outputs": [
    {
     "data": {
      "text/html": [
       "<div>\n",
       "<style scoped>\n",
       "    .dataframe tbody tr th:only-of-type {\n",
       "        vertical-align: middle;\n",
       "    }\n",
       "\n",
       "    .dataframe tbody tr th {\n",
       "        vertical-align: top;\n",
       "    }\n",
       "\n",
       "    .dataframe thead th {\n",
       "        text-align: right;\n",
       "    }\n",
       "</style>\n",
       "<table border=\"1\" class=\"dataframe\">\n",
       "  <thead>\n",
       "    <tr style=\"text-align: right;\">\n",
       "      <th></th>\n",
       "      <th>id</th>\n",
       "      <th>diagnosis</th>\n",
       "    </tr>\n",
       "  </thead>\n",
       "  <tbody>\n",
       "    <tr>\n",
       "      <th>0</th>\n",
       "      <td>1</td>\n",
       "      <td>103</td>\n",
       "    </tr>\n",
       "    <tr>\n",
       "      <th>1</th>\n",
       "      <td>1</td>\n",
       "      <td>715</td>\n",
       "    </tr>\n",
       "    <tr>\n",
       "      <th>2</th>\n",
       "      <td>1</td>\n",
       "      <td>715</td>\n",
       "    </tr>\n",
       "    <tr>\n",
       "      <th>3</th>\n",
       "      <td>1</td>\n",
       "      <td>715</td>\n",
       "    </tr>\n",
       "    <tr>\n",
       "      <th>4</th>\n",
       "      <td>1</td>\n",
       "      <td>103</td>\n",
       "    </tr>\n",
       "    <tr>\n",
       "      <th>...</th>\n",
       "      <td>...</td>\n",
       "      <td>...</td>\n",
       "    </tr>\n",
       "    <tr>\n",
       "      <th>4543</th>\n",
       "      <td>1000</td>\n",
       "      <td>802</td>\n",
       "    </tr>\n",
       "    <tr>\n",
       "      <th>4544</th>\n",
       "      <td>1001</td>\n",
       "      <td>738</td>\n",
       "    </tr>\n",
       "    <tr>\n",
       "      <th>4545</th>\n",
       "      <td>1002</td>\n",
       "      <td>802</td>\n",
       "    </tr>\n",
       "    <tr>\n",
       "      <th>4546</th>\n",
       "      <td>1003</td>\n",
       "      <td>437</td>\n",
       "    </tr>\n",
       "    <tr>\n",
       "      <th>4547</th>\n",
       "      <td>1003</td>\n",
       "      <td>234</td>\n",
       "    </tr>\n",
       "  </tbody>\n",
       "</table>\n",
       "<p>4548 rows × 2 columns</p>\n",
       "</div>"
      ],
      "text/plain": [
       "        id diagnosis\n",
       "0        1       103\n",
       "1        1       715\n",
       "2        1       715\n",
       "3        1       715\n",
       "4        1       103\n",
       "...    ...       ...\n",
       "4543  1000       802\n",
       "4544  1001       738\n",
       "4545  1002       802\n",
       "4546  1003       437\n",
       "4547  1003       234\n",
       "\n",
       "[4548 rows x 2 columns]"
      ]
     },
     "execution_count": 15,
     "metadata": {},
     "output_type": "execute_result"
    }
   ],
   "source": [
    "# Let's do some clean up of the psychiatric data. I only want data with the diagnosis.\n",
    "psych_data = pdata.drop(labels=[\"Unnamed: 0\", \"contact\", \"date_contact\", \"facility\", \"address\", \"service\", \"date_term\", \"reason_term\"], axis=1)\n",
    "psych_data"
   ]
  },
  {
   "cell_type": "code",
   "execution_count": 16,
   "id": "4a3e8f34-b6cd-467c-8be8-0c81fbb4dbc0",
   "metadata": {},
   "outputs": [
    {
     "data": {
      "text/html": [
       "<div>\n",
       "<style scoped>\n",
       "    .dataframe tbody tr th:only-of-type {\n",
       "        vertical-align: middle;\n",
       "    }\n",
       "\n",
       "    .dataframe tbody tr th {\n",
       "        vertical-align: top;\n",
       "    }\n",
       "\n",
       "    .dataframe thead th {\n",
       "        text-align: right;\n",
       "    }\n",
       "</style>\n",
       "<table border=\"1\" class=\"dataframe\">\n",
       "  <thead>\n",
       "    <tr style=\"text-align: right;\">\n",
       "      <th></th>\n",
       "      <th>id</th>\n",
       "      <th>sex</th>\n",
       "      <th>birth</th>\n",
       "      <th>race</th>\n",
       "      <th>educ</th>\n",
       "      <th>marital</th>\n",
       "      <th>children</th>\n",
       "      <th>occupat</th>\n",
       "      <th>crime01</th>\n",
       "      <th>crime02</th>\n",
       "      <th>...</th>\n",
       "      <th>crime07</th>\n",
       "      <th>crime08</th>\n",
       "      <th>crime09</th>\n",
       "      <th>crime10</th>\n",
       "      <th>crime11</th>\n",
       "      <th>crime12</th>\n",
       "      <th>crime13</th>\n",
       "      <th>crime14</th>\n",
       "      <th>sentences</th>\n",
       "      <th>diagnosis</th>\n",
       "    </tr>\n",
       "  </thead>\n",
       "  <tbody>\n",
       "    <tr>\n",
       "      <th>0</th>\n",
       "      <td>1</td>\n",
       "      <td>1</td>\n",
       "      <td>18</td>\n",
       "      <td>1</td>\n",
       "      <td>10</td>\n",
       "      <td>4</td>\n",
       "      <td>1</td>\n",
       "      <td>0</td>\n",
       "      <td>1</td>\n",
       "      <td>0</td>\n",
       "      <td>...</td>\n",
       "      <td>0</td>\n",
       "      <td>0</td>\n",
       "      <td>0</td>\n",
       "      <td>0</td>\n",
       "      <td>0</td>\n",
       "      <td>0</td>\n",
       "      <td>0</td>\n",
       "      <td>0</td>\n",
       "      <td>1</td>\n",
       "      <td>103</td>\n",
       "    </tr>\n",
       "    <tr>\n",
       "      <th>1</th>\n",
       "      <td>1</td>\n",
       "      <td>1</td>\n",
       "      <td>18</td>\n",
       "      <td>1</td>\n",
       "      <td>10</td>\n",
       "      <td>4</td>\n",
       "      <td>1</td>\n",
       "      <td>0</td>\n",
       "      <td>1</td>\n",
       "      <td>0</td>\n",
       "      <td>...</td>\n",
       "      <td>0</td>\n",
       "      <td>0</td>\n",
       "      <td>0</td>\n",
       "      <td>0</td>\n",
       "      <td>0</td>\n",
       "      <td>0</td>\n",
       "      <td>0</td>\n",
       "      <td>0</td>\n",
       "      <td>1</td>\n",
       "      <td>715</td>\n",
       "    </tr>\n",
       "    <tr>\n",
       "      <th>2</th>\n",
       "      <td>1</td>\n",
       "      <td>1</td>\n",
       "      <td>18</td>\n",
       "      <td>1</td>\n",
       "      <td>10</td>\n",
       "      <td>4</td>\n",
       "      <td>1</td>\n",
       "      <td>0</td>\n",
       "      <td>1</td>\n",
       "      <td>0</td>\n",
       "      <td>...</td>\n",
       "      <td>0</td>\n",
       "      <td>0</td>\n",
       "      <td>0</td>\n",
       "      <td>0</td>\n",
       "      <td>0</td>\n",
       "      <td>0</td>\n",
       "      <td>0</td>\n",
       "      <td>0</td>\n",
       "      <td>1</td>\n",
       "      <td>715</td>\n",
       "    </tr>\n",
       "    <tr>\n",
       "      <th>3</th>\n",
       "      <td>1</td>\n",
       "      <td>1</td>\n",
       "      <td>18</td>\n",
       "      <td>1</td>\n",
       "      <td>10</td>\n",
       "      <td>4</td>\n",
       "      <td>1</td>\n",
       "      <td>0</td>\n",
       "      <td>1</td>\n",
       "      <td>0</td>\n",
       "      <td>...</td>\n",
       "      <td>0</td>\n",
       "      <td>0</td>\n",
       "      <td>0</td>\n",
       "      <td>0</td>\n",
       "      <td>0</td>\n",
       "      <td>0</td>\n",
       "      <td>0</td>\n",
       "      <td>0</td>\n",
       "      <td>1</td>\n",
       "      <td>715</td>\n",
       "    </tr>\n",
       "    <tr>\n",
       "      <th>4</th>\n",
       "      <td>1</td>\n",
       "      <td>1</td>\n",
       "      <td>18</td>\n",
       "      <td>1</td>\n",
       "      <td>10</td>\n",
       "      <td>4</td>\n",
       "      <td>1</td>\n",
       "      <td>0</td>\n",
       "      <td>1</td>\n",
       "      <td>0</td>\n",
       "      <td>...</td>\n",
       "      <td>0</td>\n",
       "      <td>0</td>\n",
       "      <td>0</td>\n",
       "      <td>0</td>\n",
       "      <td>0</td>\n",
       "      <td>0</td>\n",
       "      <td>0</td>\n",
       "      <td>0</td>\n",
       "      <td>1</td>\n",
       "      <td>103</td>\n",
       "    </tr>\n",
       "    <tr>\n",
       "      <th>...</th>\n",
       "      <td>...</td>\n",
       "      <td>...</td>\n",
       "      <td>...</td>\n",
       "      <td>...</td>\n",
       "      <td>...</td>\n",
       "      <td>...</td>\n",
       "      <td>...</td>\n",
       "      <td>...</td>\n",
       "      <td>...</td>\n",
       "      <td>...</td>\n",
       "      <td>...</td>\n",
       "      <td>...</td>\n",
       "      <td>...</td>\n",
       "      <td>...</td>\n",
       "      <td>...</td>\n",
       "      <td>...</td>\n",
       "      <td>...</td>\n",
       "      <td>...</td>\n",
       "      <td>...</td>\n",
       "      <td>...</td>\n",
       "      <td>...</td>\n",
       "    </tr>\n",
       "    <tr>\n",
       "      <th>3243</th>\n",
       "      <td>382</td>\n",
       "      <td>1</td>\n",
       "      <td>52</td>\n",
       "      <td>1</td>\n",
       "      <td>13</td>\n",
       "      <td>1</td>\n",
       "      <td>0</td>\n",
       "      <td>0</td>\n",
       "      <td>61</td>\n",
       "      <td>0</td>\n",
       "      <td>...</td>\n",
       "      <td>0</td>\n",
       "      <td>0</td>\n",
       "      <td>0</td>\n",
       "      <td>0</td>\n",
       "      <td>0</td>\n",
       "      <td>0</td>\n",
       "      <td>0</td>\n",
       "      <td>0</td>\n",
       "      <td>1</td>\n",
       "      <td>802</td>\n",
       "    </tr>\n",
       "    <tr>\n",
       "      <th>3244</th>\n",
       "      <td>383</td>\n",
       "      <td>1</td>\n",
       "      <td>49</td>\n",
       "      <td>1</td>\n",
       "      <td>7</td>\n",
       "      <td>1</td>\n",
       "      <td>0</td>\n",
       "      <td>0</td>\n",
       "      <td>11</td>\n",
       "      <td>0</td>\n",
       "      <td>...</td>\n",
       "      <td>0</td>\n",
       "      <td>0</td>\n",
       "      <td>0</td>\n",
       "      <td>0</td>\n",
       "      <td>0</td>\n",
       "      <td>0</td>\n",
       "      <td>0</td>\n",
       "      <td>0</td>\n",
       "      <td>1</td>\n",
       "      <td>309</td>\n",
       "    </tr>\n",
       "    <tr>\n",
       "      <th>3245</th>\n",
       "      <td>384</td>\n",
       "      <td>1</td>\n",
       "      <td>48</td>\n",
       "      <td>2</td>\n",
       "      <td>11</td>\n",
       "      <td>1</td>\n",
       "      <td>0</td>\n",
       "      <td>20</td>\n",
       "      <td>12</td>\n",
       "      <td>0</td>\n",
       "      <td>...</td>\n",
       "      <td>0</td>\n",
       "      <td>0</td>\n",
       "      <td>0</td>\n",
       "      <td>0</td>\n",
       "      <td>0</td>\n",
       "      <td>0</td>\n",
       "      <td>0</td>\n",
       "      <td>0</td>\n",
       "      <td>1</td>\n",
       "      <td>617</td>\n",
       "    </tr>\n",
       "    <tr>\n",
       "      <th>3246</th>\n",
       "      <td>385</td>\n",
       "      <td>1</td>\n",
       "      <td>27</td>\n",
       "      <td>2</td>\n",
       "      <td>9</td>\n",
       "      <td>2</td>\n",
       "      <td>2</td>\n",
       "      <td>0</td>\n",
       "      <td>32</td>\n",
       "      <td>1</td>\n",
       "      <td>...</td>\n",
       "      <td>0</td>\n",
       "      <td>0</td>\n",
       "      <td>0</td>\n",
       "      <td>0</td>\n",
       "      <td>0</td>\n",
       "      <td>0</td>\n",
       "      <td>0</td>\n",
       "      <td>0</td>\n",
       "      <td>2</td>\n",
       "      <td>753</td>\n",
       "    </tr>\n",
       "    <tr>\n",
       "      <th>3247</th>\n",
       "      <td>386</td>\n",
       "      <td>1</td>\n",
       "      <td>27</td>\n",
       "      <td>1</td>\n",
       "      <td>2</td>\n",
       "      <td>2</td>\n",
       "      <td>3</td>\n",
       "      <td>20</td>\n",
       "      <td>16</td>\n",
       "      <td>0</td>\n",
       "      <td>...</td>\n",
       "      <td>0</td>\n",
       "      <td>0</td>\n",
       "      <td>0</td>\n",
       "      <td>0</td>\n",
       "      <td>0</td>\n",
       "      <td>0</td>\n",
       "      <td>0</td>\n",
       "      <td>0</td>\n",
       "      <td>1</td>\n",
       "      <td>617</td>\n",
       "    </tr>\n",
       "  </tbody>\n",
       "</table>\n",
       "<p>3248 rows × 24 columns</p>\n",
       "</div>"
      ],
      "text/plain": [
       "       id sex  birth race  educ marital  children occupat crime01 crime02  \\\n",
       "0       1   1     18    1    10       4         1       0       1       0   \n",
       "1       1   1     18    1    10       4         1       0       1       0   \n",
       "2       1   1     18    1    10       4         1       0       1       0   \n",
       "3       1   1     18    1    10       4         1       0       1       0   \n",
       "4       1   1     18    1    10       4         1       0       1       0   \n",
       "...   ...  ..    ...  ...   ...     ...       ...     ...     ...     ...   \n",
       "3243  382   1     52    1    13       1         0       0      61       0   \n",
       "3244  383   1     49    1     7       1         0       0      11       0   \n",
       "3245  384   1     48    2    11       1         0      20      12       0   \n",
       "3246  385   1     27    2     9       2         2       0      32       1   \n",
       "3247  386   1     27    1     2       2         3      20      16       0   \n",
       "\n",
       "      ... crime07 crime08 crime09 crime10 crime11 crime12 crime13 crime14  \\\n",
       "0     ...       0       0       0       0       0       0       0       0   \n",
       "1     ...       0       0       0       0       0       0       0       0   \n",
       "2     ...       0       0       0       0       0       0       0       0   \n",
       "3     ...       0       0       0       0       0       0       0       0   \n",
       "4     ...       0       0       0       0       0       0       0       0   \n",
       "...   ...     ...     ...     ...     ...     ...     ...     ...     ...   \n",
       "3243  ...       0       0       0       0       0       0       0       0   \n",
       "3244  ...       0       0       0       0       0       0       0       0   \n",
       "3245  ...       0       0       0       0       0       0       0       0   \n",
       "3246  ...       0       0       0       0       0       0       0       0   \n",
       "3247  ...       0       0       0       0       0       0       0       0   \n",
       "\n",
       "     sentences diagnosis  \n",
       "0            1       103  \n",
       "1            1       715  \n",
       "2            1       715  \n",
       "3            1       715  \n",
       "4            1       103  \n",
       "...        ...       ...  \n",
       "3243         1       802  \n",
       "3244         1       309  \n",
       "3245         1       617  \n",
       "3246         2       753  \n",
       "3247         1       617  \n",
       "\n",
       "[3248 rows x 24 columns]"
      ]
     },
     "execution_count": 16,
     "metadata": {},
     "output_type": "execute_result"
    }
   ],
   "source": [
    "# Let's merge the two dataframes now.\n",
    "rpdata = pd.merge(df1, psych_data, how='inner', on='id')\n",
    "rpdata\n",
    "# Theres seems to be duplicates. Must be what the author meant by possible matches for \n",
    "# psychiatric treatment and demographic characteristics."
   ]
  },
  {
   "cell_type": "markdown",
   "id": "082afed9-c932-4265-b5eb-23f6d1ed023e",
   "metadata": {
    "tags": []
   },
   "source": [
    "### Task 2-3:"
   ]
  },
  {
   "cell_type": "markdown",
   "id": "478b46a0-9ab6-493a-9caf-1a7ad9218f8c",
   "metadata": {
    "tags": []
   },
   "source": [
    "#### Analysis Pipeline:"
   ]
  },
  {
   "cell_type": "markdown",
   "id": "7889d543-073b-4cba-910c-353d10747967",
   "metadata": {
    "jp-MarkdownHeadingCollapsed": true,
    "tags": []
   },
   "source": [
    "##### 1. Load Data"
   ]
  },
  {
   "cell_type": "code",
   "execution_count": 13,
   "id": "9a386ba5-a757-4e00-a1b9-39b58736627c",
   "metadata": {},
   "outputs": [],
   "source": [
    "# Importing libraries\n",
    "import pandas as pd\n",
    "import numpy as np\n",
    "import seaborn as sns\n",
    "import matplotlib.pylab as plt"
   ]
  },
  {
   "cell_type": "code",
   "execution_count": null,
   "id": "cc01dfd7-a5b6-4951-8b48-5a23a4dc5b3b",
   "metadata": {},
   "outputs": [],
   "source": [
    "# Loading Data\n",
    "Data1 = pd.read_csv(\"../data/processed/rec1data.csv\")\n",
    "pdata = pd.read_csv(\"../data/processed/psychdata.csv\")"
   ]
  },
  {
   "cell_type": "markdown",
   "id": "bdb570d9-a3ff-429d-909c-a87256fe21b5",
   "metadata": {
    "jp-MarkdownHeadingCollapsed": true,
    "tags": []
   },
   "source": [
    "##### 2. Clean Data"
   ]
  },
  {
   "cell_type": "code",
   "execution_count": null,
   "id": "e181d0bf-05d9-40f4-93ad-83b59efec124",
   "metadata": {},
   "outputs": [],
   "source": [
    "# Cleaning up Data1\n",
    "DataFrame1 = Data1.drop(\"Unnamed: 0\", axis=1)\n",
    "df1 = DataFrame1.drop(columns=['arrests', 'jail','rid'])\n",
    "\n",
    "\n",
    "# Cleaning up PsychData\n",
    "psych_data = pdata.drop(labels=[\"Unnamed: 0\", \"contact\", \"date_contact\", \"facility\", \n",
    "                                \"address\", \"service\", \"date_term\", \"reason_term\"], axis=1)\n",
    "psych_data"
   ]
  },
  {
   "cell_type": "markdown",
   "id": "820d50db-b476-48b4-8b4b-38eed90842a6",
   "metadata": {
    "jp-MarkdownHeadingCollapsed": true,
    "tags": []
   },
   "source": [
    "##### 3. Process Data"
   ]
  },
  {
   "cell_type": "code",
   "execution_count": null,
   "id": "8e318f59-36b1-4eb9-87d8-cccdcfdee319",
   "metadata": {},
   "outputs": [],
   "source": [
    "# Creating variables\n",
    "df1['sentences'] = (df1.iloc[:,8:21] != 0).sum(axis=1)"
   ]
  },
  {
   "cell_type": "markdown",
   "id": "a0fa2150-5157-446b-814a-cb18ec257c22",
   "metadata": {
    "tags": []
   },
   "source": [
    "##### 4. Wrangle Data"
   ]
  },
  {
   "cell_type": "code",
   "execution_count": null,
   "id": "c12e56c9-60d3-46b5-83fb-0b9208947505",
   "metadata": {},
   "outputs": [],
   "source": [
    "# Restructuring.\n",
    "# Merging diagnosis and crimes\n",
    "rpdata = pd.merge(df1, psych_data, how='inner', on='id')\n",
    "rpdata"
   ]
  },
  {
   "cell_type": "code",
   "execution_count": 2,
   "id": "7cde9fa5-7908-4ae9-a628-19d3ffbeb8c2",
   "metadata": {},
   "outputs": [],
   "source": [
    "# Method Chaining\n",
    "import pandas as pd\n",
    "import numpy as np\n",
    "import project_functions2 as p\n",
    "rpdata = p.load_and_process(\"../data/processed/rec1data.csv\")"
   ]
  },
  {
   "cell_type": "markdown",
   "id": "a0123443-7a80-449c-a484-9839c1c919ed",
   "metadata": {
    "tags": []
   },
   "source": [
    "### Task 4"
   ]
  },
  {
   "cell_type": "markdown",
   "id": "d69c423a-92f7-449c-8d65-81467def055c",
   "metadata": {
    "tags": []
   },
   "source": [
    "### Data Analysis"
   ]
  },
  {
   "cell_type": "code",
   "execution_count": 63,
   "id": "be535b42-b136-4e0a-9d16-2c58f31c1f7d",
   "metadata": {},
   "outputs": [
    {
     "name": "stdout",
     "output_type": "stream",
     "text": [
      "Numbers of rows and columns, respectively: (617, 23)\n",
      "Columns in the dataset: Index(['id', 'sex', 'birth', 'race', 'educ', 'marital', 'children', 'occupat',\n",
      "       'crime01', 'crime02', 'crime03', 'crime04', 'crime05', 'crime06',\n",
      "       'crime07', 'crime08', 'crime09', 'crime10', 'crime11', 'crime12',\n",
      "       'crime13', 'crime14', 'sentences'],\n",
      "      dtype='object')\n"
     ]
    }
   ],
   "source": [
    "#importing library\n",
    "import pandas as pd\n",
    "import numpy as np\n",
    "import seaborn as sns\n",
    "import matplotlib\n",
    "import matplotlib.pyplot as plt\n",
    "import warnings\n",
    "\n",
    "print(\"Numbers of rows and columns, respectively:\", rpdata.shape)\n",
    "print(\"Columns in the dataset:\", rpdata.columns)"
   ]
  },
  {
   "cell_type": "markdown",
   "id": "86a54c89-eea0-49d4-8ff5-af7f6455c133",
   "metadata": {
    "jp-MarkdownHeadingCollapsed": true,
    "tags": []
   },
   "source": [
    "#### Demographic Characteristics\n",
    "Questions:\n",
    " - Do individual demographic characteristics play a role in crime frequency?"
   ]
  },
  {
   "cell_type": "code",
   "execution_count": 11,
   "id": "fdd1f1ad-e3f1-4fa1-bdb7-795d38c99103",
   "metadata": {},
   "outputs": [],
   "source": [
    "#Removing duplicates\n",
    "rpdata = (rpdata.drop_duplicates(subset=['id','race'], keep='first')\n",
    "          .reset_index(drop=True)\n",
    "         )\n",
    "crime = rpdata.drop(columns=['id','crime02','crime03','crime04','crime05','crime06','crime07',\n",
    "                              'crime08','crime09','crime10','crime11', 'crime12','crime13','crime14'])"
   ]
  },
  {
   "cell_type": "markdown",
   "id": "a01f9276-a0b5-4685-b9b1-c79e0847a3bf",
   "metadata": {
    "jp-MarkdownHeadingCollapsed": true,
    "tags": []
   },
   "source": [
    "##### **Age**\n",
    "For age, I hypothesize that the analysis will present a right skewed histogram for the frequency of a crime to be committed at a particular age."
   ]
  },
  {
   "cell_type": "code",
   "execution_count": 185,
   "id": "bca6c8ec-007d-43d2-adfe-d60ff90dc1f2",
   "metadata": {},
   "outputs": [
    {
     "data": {
      "text/html": [
       "<div>\n",
       "<style scoped>\n",
       "    .dataframe tbody tr th:only-of-type {\n",
       "        vertical-align: middle;\n",
       "    }\n",
       "\n",
       "    .dataframe tbody tr th {\n",
       "        vertical-align: top;\n",
       "    }\n",
       "\n",
       "    .dataframe thead th {\n",
       "        text-align: right;\n",
       "    }\n",
       "</style>\n",
       "<table border=\"1\" class=\"dataframe\">\n",
       "  <thead>\n",
       "    <tr style=\"text-align: right;\">\n",
       "      <th></th>\n",
       "      <th>sex</th>\n",
       "      <th>age</th>\n",
       "      <th>race</th>\n",
       "      <th>educ</th>\n",
       "      <th>marital</th>\n",
       "      <th>children</th>\n",
       "      <th>occupat</th>\n",
       "      <th>crime01</th>\n",
       "      <th>sentences</th>\n",
       "    </tr>\n",
       "  </thead>\n",
       "  <tbody>\n",
       "    <tr>\n",
       "      <th>0</th>\n",
       "      <td>1</td>\n",
       "      <td>54</td>\n",
       "      <td>1</td>\n",
       "      <td>10</td>\n",
       "      <td>4</td>\n",
       "      <td>1</td>\n",
       "      <td>0</td>\n",
       "      <td>1</td>\n",
       "      <td>1</td>\n",
       "    </tr>\n",
       "    <tr>\n",
       "      <th>1</th>\n",
       "      <td>1</td>\n",
       "      <td>56</td>\n",
       "      <td>1</td>\n",
       "      <td>10</td>\n",
       "      <td>2</td>\n",
       "      <td>3</td>\n",
       "      <td>20</td>\n",
       "      <td>1</td>\n",
       "      <td>1</td>\n",
       "    </tr>\n",
       "    <tr>\n",
       "      <th>2</th>\n",
       "      <td>1</td>\n",
       "      <td>51</td>\n",
       "      <td>1</td>\n",
       "      <td>7</td>\n",
       "      <td>1</td>\n",
       "      <td>0</td>\n",
       "      <td>10</td>\n",
       "      <td>1</td>\n",
       "      <td>1</td>\n",
       "    </tr>\n",
       "    <tr>\n",
       "      <th>3</th>\n",
       "      <td>1</td>\n",
       "      <td>40</td>\n",
       "      <td>1</td>\n",
       "      <td>7</td>\n",
       "      <td>1</td>\n",
       "      <td>0</td>\n",
       "      <td>10</td>\n",
       "      <td>1</td>\n",
       "      <td>1</td>\n",
       "    </tr>\n",
       "    <tr>\n",
       "      <th>4</th>\n",
       "      <td>1</td>\n",
       "      <td>19</td>\n",
       "      <td>2</td>\n",
       "      <td>11</td>\n",
       "      <td>1</td>\n",
       "      <td>0</td>\n",
       "      <td>10</td>\n",
       "      <td>61</td>\n",
       "      <td>1</td>\n",
       "    </tr>\n",
       "    <tr>\n",
       "      <th>...</th>\n",
       "      <td>...</td>\n",
       "      <td>...</td>\n",
       "      <td>...</td>\n",
       "      <td>...</td>\n",
       "      <td>...</td>\n",
       "      <td>...</td>\n",
       "      <td>...</td>\n",
       "      <td>...</td>\n",
       "      <td>...</td>\n",
       "    </tr>\n",
       "    <tr>\n",
       "      <th>612</th>\n",
       "      <td>1</td>\n",
       "      <td>51</td>\n",
       "      <td>1</td>\n",
       "      <td>7</td>\n",
       "      <td>5</td>\n",
       "      <td>0</td>\n",
       "      <td>0</td>\n",
       "      <td>1</td>\n",
       "      <td>1</td>\n",
       "    </tr>\n",
       "    <tr>\n",
       "      <th>613</th>\n",
       "      <td>1</td>\n",
       "      <td>26</td>\n",
       "      <td>1</td>\n",
       "      <td>16</td>\n",
       "      <td>4</td>\n",
       "      <td>0</td>\n",
       "      <td>0</td>\n",
       "      <td>31</td>\n",
       "      <td>1</td>\n",
       "    </tr>\n",
       "    <tr>\n",
       "      <th>614</th>\n",
       "      <td>1</td>\n",
       "      <td>22</td>\n",
       "      <td>1</td>\n",
       "      <td>9</td>\n",
       "      <td>1</td>\n",
       "      <td>0</td>\n",
       "      <td>0</td>\n",
       "      <td>11</td>\n",
       "      <td>1</td>\n",
       "    </tr>\n",
       "    <tr>\n",
       "      <th>615</th>\n",
       "      <td>1</td>\n",
       "      <td>17</td>\n",
       "      <td>2</td>\n",
       "      <td>9</td>\n",
       "      <td>1</td>\n",
       "      <td>0</td>\n",
       "      <td>0</td>\n",
       "      <td>33</td>\n",
       "      <td>1</td>\n",
       "    </tr>\n",
       "    <tr>\n",
       "      <th>616</th>\n",
       "      <td>1</td>\n",
       "      <td>22</td>\n",
       "      <td>1</td>\n",
       "      <td>8</td>\n",
       "      <td>1</td>\n",
       "      <td>0</td>\n",
       "      <td>0</td>\n",
       "      <td>13</td>\n",
       "      <td>1</td>\n",
       "    </tr>\n",
       "  </tbody>\n",
       "</table>\n",
       "<p>617 rows × 9 columns</p>\n",
       "</div>"
      ],
      "text/plain": [
       "     sex  age race  educ marital  children occupat crime01  sentences\n",
       "0      1   54    1    10       4         1       0       1          1\n",
       "1      1   56    1    10       2         3      20       1          1\n",
       "2      1   51    1     7       1         0      10       1          1\n",
       "3      1   40    1     7       1         0      10       1          1\n",
       "4      1   19    2    11       1         0      10      61          1\n",
       "..   ...  ...  ...   ...     ...       ...     ...     ...        ...\n",
       "612    1   51    1     7       5         0       0       1          1\n",
       "613    1   26    1    16       4         0       0      31          1\n",
       "614    1   22    1     9       1         0       0      11          1\n",
       "615    1   17    2     9       1         0       0      33          1\n",
       "616    1   22    1     8       1         0       0      13          1\n",
       "\n",
       "[617 rows x 9 columns]"
      ]
     },
     "execution_count": 185,
     "metadata": {},
     "output_type": "execute_result"
    }
   ],
   "source": [
    "# Let's convert birth to age. As of right now the data presents the year they were born between the 1900s and the\n",
    "# year this data was collected was 1972.\n",
    "crime.rename(columns={'birth':'age'}, inplace=True)\n",
    "crime.astype({'age':int})\n",
    "crime[\"age\"] = 1972 - (crime[\"age\"] + 1900)\n",
    "crime"
   ]
  },
  {
   "cell_type": "code",
   "execution_count": 89,
   "id": "a813f0ce-4a15-4c90-9eac-1a23fdf95141",
   "metadata": {},
   "outputs": [
    {
     "name": "stderr",
     "output_type": "stream",
     "text": [
      "/Users/natanaram/opt/miniconda3/lib/python3.9/site-packages/seaborn/distributions.py:2619: FutureWarning: `distplot` is a deprecated function and will be removed in a future version. Please adapt your code to use either `displot` (a figure-level function with similar flexibility) or `kdeplot` (an axes-level function for kernel density plots).\n",
      "  warnings.warn(msg, FutureWarning)\n"
     ]
    },
    {
     "data": {
      "text/plain": [
       "Text(-5, -0.009, 'Figure 1. Density plot of the count of each individual age within the dataset. This is a right skewed historgram, \\n showing that individuals between the ages 17-23 are more likely to commit a crime over the older ages.')"
      ]
     },
     "execution_count": 89,
     "metadata": {},
     "output_type": "execute_result"
    },
    {
     "data": {
      "image/png": "[encoded data removed]",
      "text/plain": [
       "<Figure size 576x360 with 1 Axes>"
      ]
     },
     "metadata": {},
     "output_type": "display_data"
    }
   ],
   "source": [
    "ax = sns.distplot(crime['age'], hist=False, kde=True, kde_kws = {'shade': True, 'linewidth': 3})\n",
    "sns.set(rc={\"figure.figsize\": (8, 5)})\n",
    "ax.set_ylabel('Density')\n",
    "ax.set_xlabel('Age')\n",
    "ax.set_title('Age vs. Number of Individuals')\n",
    "txt = \"Figure 1. Density plot of the count of each individual age within the dataset. This is a right skewed historgram, \\n showing that individuals between the ages 17-23 are more likely to commit a crime over the older ages.\"\n",
    "ax.text(-5, -0.009, txt, ha='left')"
   ]
  },
  {
   "cell_type": "markdown",
   "id": "c438beed-3ae3-4836-8206-75d5c336dad5",
   "metadata": {
    "jp-MarkdownHeadingCollapsed": true,
    "tags": []
   },
   "source": [
    "##### **Sex**\n",
    "Sex/gender are one of those factors where it's depicted to be male dominant in criminal events. We will see if that hypothesis runs true in this data set."
   ]
  },
  {
   "cell_type": "code",
   "execution_count": 187,
   "id": "fbfa5154-01c3-4e36-89d4-8ee2ec10d50f",
   "metadata": {},
   "outputs": [
    {
     "data": {
      "text/plain": [
       "Text(-0.9, -0.35, 'Figure 2. Percentage of individuals for sex/gender (1=male, 2=female). \\n Gender may be a determing factor as males represent 90+% of the population in this data, \\n but statistical analysis must be further made. ')"
      ]
     },
     "execution_count": 187,
     "metadata": {},
     "output_type": "execute_result"
    },
    {
     "data": {
      "image/png": "[encoded data removed]",
      "text/plain": [
       "<Figure size 504x432 with 1 Axes>"
      ]
     },
     "metadata": {},
     "output_type": "display_data"
    }
   ],
   "source": [
    "sns.set(font_scale=1.4)\n",
    "ax = crime['sex'].value_counts(normalize=True).plot(kind='bar', figsize=(7, 6), rot=0)\n",
    "for p in ax.patches:\n",
    "    width = p.get_width()\n",
    "    height = p.get_height()\n",
    "    x, y = p.get_xy() \n",
    "    ax.annotate(f'{height:.0%}', (x + width/2, y + height*1.02), ha='center')\n",
    "plt.xlabel(\"Gender\", labelpad=14)\n",
    "plt.ylabel(\"Percentage of Individuals\", labelpad=14)\n",
    "plt.title(\"Crime Event Counts by Gender\", y=1)\n",
    "txt = \"Figure 2. Percentage of individuals for sex/gender (1=male, 2=female). \\n Gender may be a determing factor as males represent 90+% of the population in this data, \\n but statistical analysis must be further made. \"\n",
    "ax.text(-0.9, -0.35, txt, ha='left')"
   ]
  },
  {
   "cell_type": "markdown",
   "id": "52d75644-aac6-40fa-816a-e53ab9cabf8e",
   "metadata": {
    "jp-MarkdownHeadingCollapsed": true,
    "tags": []
   },
   "source": [
    "##### **Race**\n",
    "Race is a demographic characteristic that I cannot speculate until further research. For now, we will just observe what the data show."
   ]
  },
  {
   "cell_type": "code",
   "execution_count": 154,
   "id": "52aa19d7-1773-447f-982f-b8878100effc",
   "metadata": {},
   "outputs": [
    {
     "data": {
      "text/plain": [
       "Text(-0.9, -0.2, \"Figure 2. Histogram of crime events frequency in relation to race (1=white, 2=black). \\n Race appears to be fairly similar in percentage, with only a percentage difference of 9.4% (white=0.52, \\n black=0.48). This isn't significant enough to be considered a crucial factor in this dataset, but \\n further analysis can be made\")"
      ]
     },
     "execution_count": 154,
     "metadata": {},
     "output_type": "execute_result"
    },
    {
     "data": {
      "image/png": "[encoded data removed]",
      "text/plain": [
       "<Figure size 504x432 with 1 Axes>"
      ]
     },
     "metadata": {},
     "output_type": "display_data"
    }
   ],
   "source": [
    "# Creating plot\n",
    "sns.set(font_scale=1.4)\n",
    "ax = crime['race'].value_counts(normalize=True).plot(kind='bar', figsize=(7, 6), rot=0)\n",
    "# Adding percentages\n",
    "for p in ax.patches:\n",
    "    width = p.get_width()\n",
    "    height = p.get_height()\n",
    "    x, y = p.get_xy() \n",
    "    ax.annotate(f'{height:.0%}', (x + width/2, y + height*1.02), ha='center') #Adapted from \"https://stackoverflow.com/questions/52080991/display-percentage-above-bar-chart-in-matplotlib\"\n",
    "\n",
    "# Setting labels/caption\n",
    "plt.xlabel(\"Race\", labelpad=14)\n",
    "plt.ylabel(\"Crime Event Counts\", labelpad=14)\n",
    "plt.title(\"Crime Event Counts by Race\", y=1)\n",
    "txt = \"Figure 2. Histogram of crime events frequency in relation to race (1=white, 2=black). \\n Race appears to be fairly similar in percentage, with only a percentage difference of 9.4% (white=0.52, \\n black=0.48). This isn't significant enough to be considered a crucial factor in this dataset, but \\n further analysis can be made\"\n",
    "ax.text(-0.9, -0.2, txt, ha='left')"
   ]
  },
  {
   "cell_type": "markdown",
   "id": "f737f64f-b74c-4216-9326-1e1427b9db11",
   "metadata": {
    "jp-MarkdownHeadingCollapsed": true,
    "tags": []
   },
   "source": [
    "##### **Occupation**\n",
    "Occupation is a demographic characteristic in which we should see clear differences. Those with no jobs can be easily considered to have motive for criminal actions, or those of low income can be associated with the types of occupation."
   ]
  },
  {
   "cell_type": "code",
   "execution_count": 163,
   "id": "decb830d-cdda-46f4-bedd-2c9d626a6aef",
   "metadata": {},
   "outputs": [
    {
     "data": {
      "text/plain": [
       "Text(-0.9, -0.215, \"Figure 4. Histogram of crime events frequency in relation to type of occupation (0=No information, \\n 10=unskilled, 20=skilled, 30=white collar, 40=military, 50=professional, 60=student). Unfortunately, 'no \\n information' seems to be the most frequent type of job, so I can't determine much from it. However, \\n seeing unskilled as the second highest can only lead me to assume that perhaps some of the 'no information' \\n lies within this type of occupation as well.\")"
      ]
     },
     "execution_count": 163,
     "metadata": {},
     "output_type": "execute_result"
    },
    {
     "data": {
      "image/png": "[encoded data removed]",
      "text/plain": [
       "<Figure size 504x432 with 1 Axes>"
      ]
     },
     "metadata": {},
     "output_type": "display_data"
    }
   ],
   "source": [
    "sns.set(font_scale=1.4)\n",
    "ax = crime['occupat'].value_counts(normalize=True).sort_index().plot(kind='bar', figsize=(7, 6), rot=0)\n",
    "\n",
    "# Adding percentages\n",
    "for p in ax.patches:\n",
    "    width = p.get_width()\n",
    "    height = p.get_height()\n",
    "    x, y = p.get_xy() \n",
    "    ax.annotate(f'{height:.2%}', (x + width/2, y + height*1.02), ha='center')\n",
    "\n",
    "# Setting axis labels and caption\n",
    "plt.xlabel(\"Occupation Type\", labelpad=14)\n",
    "plt.ylabel(\"Crime Event Counts\", labelpad=14)\n",
    "plt.title(\"Crime Event Counts of Occupational Type\", y=1)\n",
    "txt = \"Figure 4. Histogram of crime events frequency in relation to type of occupation (0=No information, \\n 10=unskilled, 20=skilled, 30=white collar, 40=military, 50=professional, 60=student). Unfortunately, 'no \\n information' seems to be the most frequent type of job, so I can't determine much from it. However, \\n seeing unskilled as the second highest can only lead me to assume that perhaps some of the 'no information' \\n lies within this type of occupation as well.\"\n",
    "ax.text(-0.9, -0.215, txt, ha='left')"
   ]
  },
  {
   "cell_type": "markdown",
   "id": "cd6c0c27-e441-4c84-99e1-a45c1f3f0b22",
   "metadata": {
    "jp-MarkdownHeadingCollapsed": true,
    "tags": []
   },
   "source": [
    "##### **Marital Status**\n",
    "For an individual's marital status, I speculate that those who are single or divorced may be the most common people to commit a crime."
   ]
  },
  {
   "cell_type": "code",
   "execution_count": 188,
   "id": "2bf7b988-deac-48ac-b144-5c4a82f50a1c",
   "metadata": {},
   "outputs": [
    {
     "data": {
      "text/plain": [
       "Text(-0.9, -0.25, \"Figure 5. Histogram of crime events frequency in relation to marital status (0=no informaiton, \\n 1=single, 2=married, 3=separated, 4=divorced, 5=widowed, 6=common law marriage). \\n Being 'single' seems to be the most common marital status, so we can state, based off observations, \\n that marital status plays a role in crime events (single = 54%).\")"
      ]
     },
     "execution_count": 188,
     "metadata": {},
     "output_type": "execute_result"
    },
    {
     "data": {
      "image/png": "[encoded data removed]",
      "text/plain": [
       "<Figure size 504x432 with 1 Axes>"
      ]
     },
     "metadata": {},
     "output_type": "display_data"
    }
   ],
   "source": [
    "sns.set(font_scale=1.4)\n",
    "ax = crime['marital'].value_counts(normalize=True).sort_index().plot(kind='bar', figsize=(7, 6), rot=0)\n",
    "\n",
    "# Adding percentages\n",
    "for p in ax.patches:\n",
    "    width = p.get_width()\n",
    "    height = p.get_height()\n",
    "    x, y = p.get_xy() \n",
    "    ax.annotate(f'{height:.0%}', (x + width/2, y + height*1.02), ha='center')\n",
    "\n",
    "# Setting axis labels and caption\n",
    "plt.xlabel(\"Marital Status\", labelpad=14)\n",
    "plt.ylabel(\"Crime Event Counts\", labelpad=14)\n",
    "plt.title(\"Crime Event Counts of each Marital Status\", y=1)\n",
    "txt = \"Figure 5. Histogram of crime events frequency in relation to marital status (0=no informaiton, \\n 1=single, 2=married, 3=separated, 4=divorced, 5=widowed, 6=common law marriage). \\n Being 'single' seems to be the most common marital status, so we can state, based off observations, \\n that marital status plays a role in crime events (single = 54%).\"\n",
    "ax.text(-0.9, -0.25, txt, ha='left')"
   ]
  },
  {
   "cell_type": "markdown",
   "id": "877efd6a-eadb-4c47-a60c-8f778401b71e",
   "metadata": {
    "jp-MarkdownHeadingCollapsed": true,
    "tags": []
   },
   "source": [
    "##### **Education**\n",
    "Education is something I would see have similar relation to age and occupation. In this case, those with a low/incompleted amount of years for education will have a higher count of crime events."
   ]
  },
  {
   "cell_type": "code",
   "execution_count": 189,
   "id": "7c2ed4ab-054c-486d-9084-5b25cadc5bd6",
   "metadata": {},
   "outputs": [
    {
     "data": {
      "text/plain": [
       "Text(-0.9, -0.1, 'Figure 6. Histogram of crime events frequency in relation to years of education. Years 11 and 12 \\n have the highest percentage of the group, 21% and 22%, respectively. There seems \\n to be a general range between the years of education, representing a left skewed plot.')"
      ]
     },
     "execution_count": 189,
     "metadata": {},
     "output_type": "execute_result"
    },
    {
     "data": {
      "image/png": "[encoded data removed]",
      "text/plain": [
       "<Figure size 864x432 with 1 Axes>"
      ]
     },
     "metadata": {},
     "output_type": "display_data"
    }
   ],
   "source": [
    "sns.set(font_scale=1.4)\n",
    "ax = crime['educ'].value_counts(normalize=True).sort_index().plot(kind='bar', figsize=(12, 6), rot=0)\n",
    "\n",
    "# Adding percentages\n",
    "for p in ax.patches:\n",
    "    width = p.get_width()\n",
    "    height = p.get_height()\n",
    "    x, y = p.get_xy() \n",
    "    ax.annotate(f'{height:.0%}', (x + width/2, y + height*1.02), ha='center')\n",
    "\n",
    "# Setting axis labels and caption\n",
    "plt.xlabel(\"Years of Education\", labelpad=14)\n",
    "plt.ylabel(\"Crime Event Counts\", labelpad=14)\n",
    "plt.title(\"Crime Event Counts vs. Years of Education\", y=1)\n",
    "txt = \"Figure 6. Histogram of crime events frequency in relation to years of education. Years 11 and 12 \\n have the highest percentage of the group, 21% and 22%, respectively. There seems \\n to be a general range between the years of education, representing a left skewed plot.\"\n",
    "ax.text(-0.9, -0.1, txt, ha='left')"
   ]
  },
  {
   "cell_type": "markdown",
   "id": "29a789b2-b8e4-46bd-9dba-7152163c7760",
   "metadata": {
    "jp-MarkdownHeadingCollapsed": true,
    "tags": []
   },
   "source": [
    "##### Demographic characteristics chart/plot analysis\n",
    "This section was used to help answer question 1 and proved to be more of an EDA. Based on the data observed, here is what we can deduce:"
   ]
  },
  {
   "cell_type": "markdown",
   "id": "b0cfeb3a-8b6b-4e0a-9319-3913911d87f2",
   "metadata": {},
   "source": [
    "- **Age**\n",
    "    - As seen in figure 1, there is a right skewed density plot that shows the higher frequency of crime events occur within the earlier ages. \n",
    "    - The ages with the highest crime event count are 20 and 22, both at 39 counts out of 617.\n",
    "    - From visual observations, we can determine that age does play a role in the number of crime events.\n",
    "- **Sex**\n",
    "    - My initial speculation was confirmed based on the histogram observed, the count of males were much higher than female in the dataset. \n",
    "    - Perhaps we can see the difference between the types of crimes between male and female in further analysis.\n",
    "- **Race**\n",
    "    - There can be no speculation made between the two races observed in the dataset.\n",
    "    - White and black race were found to be fairly equal in frequency, white being 52% and black 48%.\n",
    "- **Occupation**\n",
    "    - A high percentage of the sample have no information of their occupation, so it is uncertain to determine the true impact of occupation on crime events.\n",
    "    - However, from the data, the next most common group are unskilled individuals, so let's see their relation with other demographic characteristics.\n",
    "- **Marital Status**\n",
    "    - Based on just the visual observations provided in figure 5, we can hypothesize that marital status plays a role in number of crime events.\n",
    "    - Being single seems to be the most common marital status, with the highest percentage of 54%.\n",
    "- **Education**\n",
    "    - Education is probably the most interesting plot to be observed out of all the data. I expected those with minimal years of education would show higher frequency of crime, yet those who almost finished or finished 12 yeas of education had the highest count.\n",
    "    - Is there a relation between age and education, and also occupation and education? Perhaps there are some who obtained better occupations within the shorter amount of years."
   ]
  },
  {
   "cell_type": "markdown",
   "id": "cf037718-5af4-48c9-a25f-cf3c1a7dfcfb",
   "metadata": {
    "jp-MarkdownHeadingCollapsed": true,
    "tags": []
   },
   "source": [
    "#### Statistical Analysis of Mixed Groups\n",
    "Questions:\n",
    " - Does crime frequency increase when two or more demographic characteristics are included?\n",
    " - Let's make two hypothesis:\n",
    "     - People who are male within this data set will have a higher rate of frequency when they are unskilled, compared to female people who are unskilled.\n",
    "     - People with higher education who are unemployed/unskilled are more likely to commit a crime, than those not of those conditions."
   ]
  },
  {
   "cell_type": "code",
   "execution_count": 243,
   "id": "9decfee2-dd84-4b3d-b8e0-03993c6caa7c",
   "metadata": {},
   "outputs": [
    {
     "data": {
      "text/plain": [
       "Text(0, 2.8, 'Figure 7. Heat map of Chi-Square of Independence for race versus occupation. \\n The chi-square value of these two categories is 7.38.')"
      ]
     },
     "execution_count": 243,
     "metadata": {},
     "output_type": "execute_result"
    },
    {
     "data": {
      "image/png": "[encoded data removed]",
      "text/plain": [
       "<Figure size 720x288 with 2 Axes>"
      ]
     },
     "metadata": {},
     "output_type": "display_data"
    }
   ],
   "source": [
    "# Race vs. Occupation\n",
    "from scipy.stats import chi2_contingency\n",
    "\n",
    "ro = pd.crosstab(index=crime['sex'], columns=crime['occupat'])\n",
    "chiVal, pVal, df, exp = chi2_contingency(ro)\n",
    "# Plotting a heatmap\n",
    "fig = plt.figure(figsize=(10,4))\n",
    "ax = sns.heatmap(ro, annot=True, cmap='Blues')\n",
    "plt.title('Chi-Square Test Results')\n",
    "plt.xlabel('Occupation')\n",
    "plt.ylabel('Sex')\n",
    "txt = \"Figure 7. Heat map of Chi-Square of Independence for race versus occupation. \\n The chi-square value of these two categories is 7.38.\"\n",
    "ax.text(0, 2.8, txt, ha='left')"
   ]
  },
  {
   "cell_type": "code",
   "execution_count": 244,
   "id": "764dd41a-e963-4ad0-ba6c-c5a4f3293db8",
   "metadata": {},
   "outputs": [
    {
     "data": {
      "text/plain": [
       "(23.880882535786014,\n",
       " 0.0005492704160110171,\n",
       " 6,\n",
       " array([[2.68538088e+02, 1.47792545e+02, 1.22677472e+02, 3.76726094e+01,\n",
       "         1.93192869e+00, 9.65964344e-01, 1.64213938e+01],\n",
       "        [9.46191248e+00, 5.20745543e+00, 4.32252836e+00, 1.32739060e+00,\n",
       "         6.80713128e-02, 3.40356564e-02, 5.78606159e-01]]))"
      ]
     },
     "execution_count": 244,
     "metadata": {},
     "output_type": "execute_result"
    }
   ],
   "source": [
    "exp.min()\n",
    "chiVal, pVal, df, exp"
   ]
  },
  {
   "cell_type": "code",
   "execution_count": 245,
   "id": "90895024-47ea-4f73-ac86-b198a7cf07d6",
   "metadata": {},
   "outputs": [
    {
     "data": {
      "image/png": "[encoded data removed]",
      "text/plain": [
       "<Figure size 1080x360 with 2 Axes>"
      ]
     },
     "metadata": {},
     "output_type": "display_data"
    }
   ],
   "source": [
    "# Education vs. Occupation\n",
    "ro1 = pd.crosstab(index=crime['occupat'], columns=crime['educ'])\n",
    "chiVal1, pVal1, df1, exp1 = chi2_contingency(ro)\n",
    "chiVal1, pVal1, df1, exp1\n",
    "# Plotting a heatmap\n",
    "fig = plt.figure(figsize=(15,5))\n",
    "sns.heatmap(ro1, annot=True, cmap='Blues')\n",
    "plt.title('Chi-Square Test Results')\n",
    "plt.xlabel('Years of Education')\n",
    "plt.ylabel('Occupation')\n",
    "plt.show()"
   ]
  },
  {
   "cell_type": "code",
   "execution_count": 239,
   "id": "934b99c2-7340-4d12-bd38-c2e8c0a114cb",
   "metadata": {},
   "outputs": [
    {
     "data": {
      "text/plain": [
       "(240.7789328896915, 3.0958671491797426e-13, 102)"
      ]
     },
     "execution_count": 239,
     "metadata": {},
     "output_type": "execute_result"
    }
   ],
   "source": [
    "chiVal1, pVal1, df1"
   ]
  },
  {
   "cell_type": "code",
   "execution_count": 254,
   "id": "46502850-24c2-4526-8ebf-30d3a0b9f70d",
   "metadata": {},
   "outputs": [
    {
     "data": {
      "text/plain": [
       "(87.09792533824955,\n",
       " 0.02389198902212039,\n",
       " 63,\n",
       " array([[3.67066451e+01, 3.86385737e+00, 1.93192869e+00, 9.65964344e-01,\n",
       "         9.65964344e-01, 9.65964344e-01, 1.93192869e+00, 3.86385737e+00,\n",
       "         2.89789303e+00, 1.93192869e+00, 3.86385737e+00, 9.65964344e-01,\n",
       "         1.93192869e+00, 3.86385737e+00, 3.86385737e+00, 2.89789303e+00,\n",
       "         3.86385737e+00, 9.65964344e-01, 9.65964344e-01, 1.25575365e+01,\n",
       "         1.15915721e+01, 2.89789303e+00, 9.65964344e-01, 1.54554295e+01,\n",
       "         2.70470016e+01, 1.25575365e+01, 4.82982172e+00, 9.65964344e-01,\n",
       "         2.99448947e+01, 1.44894652e+01, 9.65964344e+00, 1.93192869e+00,\n",
       "         4.82982172e+01, 3.09108590e+01, 2.89789303e+01, 7.72771475e+00,\n",
       "         6.76175041e+00, 3.09108590e+01, 1.73873582e+01, 2.80129660e+01,\n",
       "         4.82982172e+00, 9.65964344e-01, 3.86385737e+00, 5.98897893e+01,\n",
       "         2.70470016e+01, 3.09108590e+01, 9.65964344e+00, 1.93192869e+00,\n",
       "         7.72771475e+00, 9.65964344e-01, 2.89789303e+00, 1.93192869e+00,\n",
       "         5.79578606e+00, 9.65964344e-01, 9.65964344e-01, 1.93192869e+00,\n",
       "         9.65964344e-01, 1.93192869e+00, 9.65964344e-01, 2.89789303e+00,\n",
       "         9.65964344e-01, 9.65964344e-01, 9.65964344e-01, 9.65964344e-01],\n",
       "        [1.29335494e+00, 1.36142626e-01, 6.80713128e-02, 3.40356564e-02,\n",
       "         3.40356564e-02, 3.40356564e-02, 6.80713128e-02, 1.36142626e-01,\n",
       "         1.02106969e-01, 6.80713128e-02, 1.36142626e-01, 3.40356564e-02,\n",
       "         6.80713128e-02, 1.36142626e-01, 1.36142626e-01, 1.02106969e-01,\n",
       "         1.36142626e-01, 3.40356564e-02, 3.40356564e-02, 4.42463533e-01,\n",
       "         4.08427877e-01, 1.02106969e-01, 3.40356564e-02, 5.44570502e-01,\n",
       "         9.52998379e-01, 4.42463533e-01, 1.70178282e-01, 3.40356564e-02,\n",
       "         1.05510535e+00, 5.10534846e-01, 3.40356564e-01, 6.80713128e-02,\n",
       "         1.70178282e+00, 1.08914100e+00, 1.02106969e+00, 2.72285251e-01,\n",
       "         2.38249595e-01, 1.08914100e+00, 6.12641815e-01, 9.87034036e-01,\n",
       "         1.70178282e-01, 3.40356564e-02, 1.36142626e-01, 2.11021070e+00,\n",
       "         9.52998379e-01, 1.08914100e+00, 3.40356564e-01, 6.80713128e-02,\n",
       "         2.72285251e-01, 3.40356564e-02, 1.02106969e-01, 6.80713128e-02,\n",
       "         2.04213938e-01, 3.40356564e-02, 3.40356564e-02, 6.80713128e-02,\n",
       "         3.40356564e-02, 6.80713128e-02, 3.40356564e-02, 1.02106969e-01,\n",
       "         3.40356564e-02, 3.40356564e-02, 3.40356564e-02, 3.40356564e-02]]))"
      ]
     },
     "execution_count": 254,
     "metadata": {},
     "output_type": "execute_result"
    }
   ],
   "source": [
    "ct = pd.crosstab(crime['sex'], [crime['educ'], crime['occupat']])\n",
    "\n",
    "chiVal1, pVal1, df1, exp1 = chi2_contingency(ct)\n",
    "chiVal1, pVal1, df1, exp1"
   ]
  },
  {
   "cell_type": "markdown",
   "id": "9d9662c9-ffdc-4423-99e6-7f3a0ed9175f",
   "metadata": {},
   "source": [
    "#### Crime correlation with demographic characteristics\n",
    " - The graph above didn't quite follow the hypothesis I made earlier.\n",
    " - Initially, we see a right skewed histogram, and it looks like the frequency of a crime to be committed as age increases decreases. However, there are some with very high frequencies of crime at an older age!\n",
    " - Now, I believe there are other factors playing into the older ages, but we can determine that age is a key determinant for a crime to be committed."
   ]
  },
  {
   "cell_type": "code",
   "execution_count": 51,
   "id": "8aa242e2-8152-41a8-909a-bb87de9b5d80",
   "metadata": {},
   "outputs": [
    {
     "name": "stdout",
     "output_type": "stream",
     "text": [
      "List of top diagnosis for individuals: ['436', '444', '430', '438', '431', '440', '437', '442', '439', '432']\n"
     ]
    }
   ],
   "source": [
    "#Let's see the order of frequency of schizophrenia\n",
    "n = 10\n",
    "Top = Schizo1['diagnosis'].value_counts()[:n].index.tolist()\n",
    "print(f\"List of top diagnosis for individuals: {Top}\")"
   ]
  },
  {
   "cell_type": "code",
   "execution_count": 53,
   "id": "1dab0dfa-cacb-4512-bf62-e40e4f59c152",
   "metadata": {},
   "outputs": [
    {
     "name": "stdout",
     "output_type": "stream",
     "text": [
      "   sex  birth race  educ marital  children occupat diagnosis\n",
      "0    1      0    2    12       1         0       0       436\n"
     ]
    }
   ],
   "source": []
  },
  {
   "cell_type": "code",
   "execution_count": null,
   "id": "3af2ecbf-4fdd-4512-ab38-340c0673d1cb",
   "metadata": {},
   "outputs": [],
   "source": [
    "# Let's compare to Borderline Schizophrenic.\n"
   ]
  },
  {
   "cell_type": "markdown",
   "id": "5862d9b6-6b93-4a9e-8c4e-d90ef6557afa",
   "metadata": {},
   "source": [
    "##### Table Analysis\n",
    "Does age factor in the crime of alcohol addiction? I hypothesize that we will get a bell shape figure or a normal distribution when we compare age and frequency of alcohol addiction."
   ]
  },
  {
   "cell_type": "code",
   "execution_count": 81,
   "id": "f97781b8-7e88-40d4-83ba-53eee1087bb0",
   "metadata": {},
   "outputs": [
    {
     "data": {
      "text/html": [
       "<div>\n",
       "<style scoped>\n",
       "    .dataframe tbody tr th:only-of-type {\n",
       "        vertical-align: middle;\n",
       "    }\n",
       "\n",
       "    .dataframe tbody tr th {\n",
       "        vertical-align: top;\n",
       "    }\n",
       "\n",
       "    .dataframe thead th {\n",
       "        text-align: right;\n",
       "    }\n",
       "</style>\n",
       "<table border=\"1\" class=\"dataframe\">\n",
       "  <thead>\n",
       "    <tr style=\"text-align: right;\">\n",
       "      <th></th>\n",
       "      <th>id</th>\n",
       "      <th>sex</th>\n",
       "      <th>birth</th>\n",
       "      <th>race</th>\n",
       "      <th>educ</th>\n",
       "      <th>marital</th>\n",
       "      <th>children</th>\n",
       "      <th>occupat</th>\n",
       "      <th>crime01</th>\n",
       "    </tr>\n",
       "  </thead>\n",
       "  <tbody>\n",
       "    <tr>\n",
       "      <th>0</th>\n",
       "      <td>1</td>\n",
       "      <td>1</td>\n",
       "      <td>18</td>\n",
       "      <td>1</td>\n",
       "      <td>10</td>\n",
       "      <td>4</td>\n",
       "      <td>1</td>\n",
       "      <td>0</td>\n",
       "      <td>1</td>\n",
       "    </tr>\n",
       "    <tr>\n",
       "      <th>1</th>\n",
       "      <td>1</td>\n",
       "      <td>1</td>\n",
       "      <td>18</td>\n",
       "      <td>1</td>\n",
       "      <td>10</td>\n",
       "      <td>4</td>\n",
       "      <td>1</td>\n",
       "      <td>0</td>\n",
       "      <td>1</td>\n",
       "    </tr>\n",
       "    <tr>\n",
       "      <th>2</th>\n",
       "      <td>1</td>\n",
       "      <td>1</td>\n",
       "      <td>18</td>\n",
       "      <td>1</td>\n",
       "      <td>10</td>\n",
       "      <td>4</td>\n",
       "      <td>1</td>\n",
       "      <td>0</td>\n",
       "      <td>1</td>\n",
       "    </tr>\n",
       "    <tr>\n",
       "      <th>3</th>\n",
       "      <td>1</td>\n",
       "      <td>1</td>\n",
       "      <td>18</td>\n",
       "      <td>1</td>\n",
       "      <td>10</td>\n",
       "      <td>4</td>\n",
       "      <td>1</td>\n",
       "      <td>0</td>\n",
       "      <td>1</td>\n",
       "    </tr>\n",
       "    <tr>\n",
       "      <th>4</th>\n",
       "      <td>1</td>\n",
       "      <td>1</td>\n",
       "      <td>18</td>\n",
       "      <td>1</td>\n",
       "      <td>10</td>\n",
       "      <td>4</td>\n",
       "      <td>1</td>\n",
       "      <td>0</td>\n",
       "      <td>1</td>\n",
       "    </tr>\n",
       "    <tr>\n",
       "      <th>...</th>\n",
       "      <td>...</td>\n",
       "      <td>...</td>\n",
       "      <td>...</td>\n",
       "      <td>...</td>\n",
       "      <td>...</td>\n",
       "      <td>...</td>\n",
       "      <td>...</td>\n",
       "      <td>...</td>\n",
       "      <td>...</td>\n",
       "    </tr>\n",
       "    <tr>\n",
       "      <th>3233</th>\n",
       "      <td>379</td>\n",
       "      <td>1</td>\n",
       "      <td>51</td>\n",
       "      <td>2</td>\n",
       "      <td>9</td>\n",
       "      <td>1</td>\n",
       "      <td>0</td>\n",
       "      <td>10</td>\n",
       "      <td>1</td>\n",
       "    </tr>\n",
       "    <tr>\n",
       "      <th>3234</th>\n",
       "      <td>379</td>\n",
       "      <td>1</td>\n",
       "      <td>51</td>\n",
       "      <td>2</td>\n",
       "      <td>9</td>\n",
       "      <td>1</td>\n",
       "      <td>0</td>\n",
       "      <td>10</td>\n",
       "      <td>1</td>\n",
       "    </tr>\n",
       "    <tr>\n",
       "      <th>3235</th>\n",
       "      <td>380</td>\n",
       "      <td>1</td>\n",
       "      <td>37</td>\n",
       "      <td>2</td>\n",
       "      <td>10</td>\n",
       "      <td>1</td>\n",
       "      <td>0</td>\n",
       "      <td>10</td>\n",
       "      <td>1</td>\n",
       "    </tr>\n",
       "    <tr>\n",
       "      <th>3236</th>\n",
       "      <td>380</td>\n",
       "      <td>1</td>\n",
       "      <td>37</td>\n",
       "      <td>2</td>\n",
       "      <td>10</td>\n",
       "      <td>1</td>\n",
       "      <td>0</td>\n",
       "      <td>10</td>\n",
       "      <td>1</td>\n",
       "    </tr>\n",
       "    <tr>\n",
       "      <th>3237</th>\n",
       "      <td>380</td>\n",
       "      <td>1</td>\n",
       "      <td>37</td>\n",
       "      <td>2</td>\n",
       "      <td>10</td>\n",
       "      <td>1</td>\n",
       "      <td>0</td>\n",
       "      <td>10</td>\n",
       "      <td>1</td>\n",
       "    </tr>\n",
       "  </tbody>\n",
       "</table>\n",
       "<p>1932 rows × 9 columns</p>\n",
       "</div>"
      ],
      "text/plain": [
       "       id  sex  birth race  educ marital  children occupat crime01\n",
       "0       1    1     18    1    10       4         1       0       1\n",
       "1       1    1     18    1    10       4         1       0       1\n",
       "2       1    1     18    1    10       4         1       0       1\n",
       "3       1    1     18    1    10       4         1       0       1\n",
       "4       1    1     18    1    10       4         1       0       1\n",
       "...   ...  ...    ...  ...   ...     ...       ...     ...     ...\n",
       "3233  379    1     51    2     9       1         0      10       1\n",
       "3234  379    1     51    2     9       1         0      10       1\n",
       "3235  380    1     37    2    10       1         0      10       1\n",
       "3236  380    1     37    2    10       1         0      10       1\n",
       "3237  380    1     37    2    10       1         0      10       1\n",
       "\n",
       "[1932 rows x 9 columns]"
      ]
     },
     "execution_count": 81,
     "metadata": {},
     "output_type": "execute_result"
    }
   ],
   "source": [
    "crime = [1]\n",
    "crime1 = crime1[crime1[\"crime01\"].isin(crime)]\n",
    "crime1"
   ]
  },
  {
   "cell_type": "code",
   "execution_count": null,
   "id": "7138d780-5700-4e78-98fb-a2c459d953cb",
   "metadata": {},
   "outputs": [],
   "source": []
  },
  {
   "cell_type": "code",
   "execution_count": 2,
   "id": "a27784e5-7fa2-46ad-99e8-22e3bac00b78",
   "metadata": {},
   "outputs": [
    {
     "data": {
      "text/plain": [
       "1    3146\n",
       "2     102\n",
       "Name: sex, dtype: int64"
      ]
     },
     "execution_count": 2,
     "metadata": {},
     "output_type": "execute_result"
    }
   ],
   "source": []
  },
  {
   "cell_type": "markdown",
   "id": "674e08bf-52ca-4292-a030-e2ca92b56c4c",
   "metadata": {},
   "source": []
  },
  {
   "cell_type": "markdown",
   "id": "5caba3e4-dddf-4a62-8ff9-5003be8ff601",
   "metadata": {},
   "source": [
    "### Summary & Conclusion\n",
    "\n",
    "1. Do individual demographic characteristics play a role in criminal events?\n",
    "\n",
    "2. Does crime frequency increase when two or more demographic characteristics are included?\n",
    "\n",
    "3. Which crime is most associated with the most frequent demographic characteristics observed?\n",
    "\n",
    "Problems I need to solve are:\n"
   ]
  },
  {
   "cell_type": "code",
   "execution_count": null,
   "id": "20f8f70f-0316-4db5-901c-de4ebf408c41",
   "metadata": {},
   "outputs": [],
   "source": [
    "# Backups\n",
    "\n",
    "# Histogram of Age\n",
    "sns.set(rc={'figure.figsize':(12,6)})\n",
    "crimeage = crime.sort_values(by='age',ascending=True)\n",
    "ax = sns.countplot(x='age',data=crimeage)\n",
    "\n",
    "ax.set_ylabel('Number of Individuals')\n",
    "ax.set_xlabel('Age')\n",
    "ax.set_title('Age vs. Number of Individuals')\n",
    "txt = \"Figure 1. Histogram of the count of each individual age within the dataset. This is a right skewed historgram, \\n showing that individuals between the ages 17-23 are more likely to commit a crime over the older ages.\"\n",
    "ax.text(0, -10, txt, ha='left')"
   ]
  },
  {
   "cell_type": "markdown",
   "id": "4435a154-0711-4c12-824b-f23f656703b1",
   "metadata": {},
   "source": [
    "#### Diagnosis of Interest vs. Crimes\n",
    "Are certain crimes associated with diagnoses?\n",
    " - What crimes are most common for people with Schizophrenia?"
   ]
  },
  {
   "cell_type": "code",
   "execution_count": 40,
   "id": "e37afd95-27c6-4489-94be-d3e24dc3dcaf",
   "metadata": {},
   "outputs": [
    {
     "ename": "KeyError",
     "evalue": "\"['diagnosis'] not in index\"",
     "output_type": "error",
     "traceback": [
      "\u001b[0;31m---------------------------------------------------------------------------\u001b[0m",
      "\u001b[0;31mKeyError\u001b[0m                                  Traceback (most recent call last)",
      "\u001b[0;32m<ipython-input-40-2710738aa901>\u001b[0m in \u001b[0;36m<module>\u001b[0;34m\u001b[0m\n\u001b[1;32m      1\u001b[0m \u001b[0;31m# Just out of curiosity, I want to see which type of Schizophrenia are likely to commit a crime.\u001b[0m\u001b[0;34m\u001b[0m\u001b[0;34m\u001b[0m\u001b[0;34m\u001b[0m\u001b[0m\n\u001b[0;32m----> 2\u001b[0;31m \u001b[0mDPC\u001b[0m \u001b[0;34m=\u001b[0m \u001b[0mrpdata\u001b[0m\u001b[0;34m[\u001b[0m\u001b[0;34m[\u001b[0m\u001b[0;34m'crime01'\u001b[0m\u001b[0;34m,\u001b[0m\u001b[0;34m'diagnosis'\u001b[0m\u001b[0;34m]\u001b[0m\u001b[0;34m]\u001b[0m\u001b[0;34m\u001b[0m\u001b[0;34m\u001b[0m\u001b[0m\n\u001b[0m\u001b[1;32m      3\u001b[0m \u001b[0mDias\u001b[0m \u001b[0;34m=\u001b[0m \u001b[0;34m[\u001b[0m\u001b[0;34m'430'\u001b[0m\u001b[0;34m,\u001b[0m\u001b[0;34m'431'\u001b[0m\u001b[0;34m,\u001b[0m\u001b[0;34m'436'\u001b[0m\u001b[0;34m,\u001b[0m\u001b[0;34m'444'\u001b[0m\u001b[0;34m]\u001b[0m\u001b[0;34m\u001b[0m\u001b[0;34m\u001b[0m\u001b[0m\n\u001b[1;32m      4\u001b[0m \u001b[0mDPC\u001b[0m \u001b[0;34m=\u001b[0m \u001b[0mDPC\u001b[0m\u001b[0;34m[\u001b[0m\u001b[0mDPC\u001b[0m\u001b[0;34m[\u001b[0m\u001b[0;34m'diagnosis'\u001b[0m\u001b[0;34m]\u001b[0m\u001b[0;34m.\u001b[0m\u001b[0misin\u001b[0m\u001b[0;34m(\u001b[0m\u001b[0mDias\u001b[0m\u001b[0;34m)\u001b[0m\u001b[0;34m]\u001b[0m\u001b[0;34m\u001b[0m\u001b[0;34m\u001b[0m\u001b[0m\n",
      "\u001b[0;32m~/opt/miniconda3/lib/python3.9/site-packages/pandas/core/frame.py\u001b[0m in \u001b[0;36m__getitem__\u001b[0;34m(self, key)\u001b[0m\n\u001b[1;32m   3459\u001b[0m             \u001b[0;32mif\u001b[0m \u001b[0mis_iterator\u001b[0m\u001b[0;34m(\u001b[0m\u001b[0mkey\u001b[0m\u001b[0;34m)\u001b[0m\u001b[0;34m:\u001b[0m\u001b[0;34m\u001b[0m\u001b[0;34m\u001b[0m\u001b[0m\n\u001b[1;32m   3460\u001b[0m                 \u001b[0mkey\u001b[0m \u001b[0;34m=\u001b[0m \u001b[0mlist\u001b[0m\u001b[0;34m(\u001b[0m\u001b[0mkey\u001b[0m\u001b[0;34m)\u001b[0m\u001b[0;34m\u001b[0m\u001b[0;34m\u001b[0m\u001b[0m\n\u001b[0;32m-> 3461\u001b[0;31m             \u001b[0mindexer\u001b[0m \u001b[0;34m=\u001b[0m \u001b[0mself\u001b[0m\u001b[0;34m.\u001b[0m\u001b[0mloc\u001b[0m\u001b[0;34m.\u001b[0m\u001b[0m_get_listlike_indexer\u001b[0m\u001b[0;34m(\u001b[0m\u001b[0mkey\u001b[0m\u001b[0;34m,\u001b[0m \u001b[0maxis\u001b[0m\u001b[0;34m=\u001b[0m\u001b[0;36m1\u001b[0m\u001b[0;34m)\u001b[0m\u001b[0;34m[\u001b[0m\u001b[0;36m1\u001b[0m\u001b[0;34m]\u001b[0m\u001b[0;34m\u001b[0m\u001b[0;34m\u001b[0m\u001b[0m\n\u001b[0m\u001b[1;32m   3462\u001b[0m \u001b[0;34m\u001b[0m\u001b[0m\n\u001b[1;32m   3463\u001b[0m         \u001b[0;31m# take() does not accept boolean indexers\u001b[0m\u001b[0;34m\u001b[0m\u001b[0;34m\u001b[0m\u001b[0;34m\u001b[0m\u001b[0m\n",
      "\u001b[0;32m~/opt/miniconda3/lib/python3.9/site-packages/pandas/core/indexing.py\u001b[0m in \u001b[0;36m_get_listlike_indexer\u001b[0;34m(self, key, axis)\u001b[0m\n\u001b[1;32m   1312\u001b[0m             \u001b[0mkeyarr\u001b[0m\u001b[0;34m,\u001b[0m \u001b[0mindexer\u001b[0m\u001b[0;34m,\u001b[0m \u001b[0mnew_indexer\u001b[0m \u001b[0;34m=\u001b[0m \u001b[0max\u001b[0m\u001b[0;34m.\u001b[0m\u001b[0m_reindex_non_unique\u001b[0m\u001b[0;34m(\u001b[0m\u001b[0mkeyarr\u001b[0m\u001b[0;34m)\u001b[0m\u001b[0;34m\u001b[0m\u001b[0;34m\u001b[0m\u001b[0m\n\u001b[1;32m   1313\u001b[0m \u001b[0;34m\u001b[0m\u001b[0m\n\u001b[0;32m-> 1314\u001b[0;31m         \u001b[0mself\u001b[0m\u001b[0;34m.\u001b[0m\u001b[0m_validate_read_indexer\u001b[0m\u001b[0;34m(\u001b[0m\u001b[0mkeyarr\u001b[0m\u001b[0;34m,\u001b[0m \u001b[0mindexer\u001b[0m\u001b[0;34m,\u001b[0m \u001b[0maxis\u001b[0m\u001b[0;34m)\u001b[0m\u001b[0;34m\u001b[0m\u001b[0;34m\u001b[0m\u001b[0m\n\u001b[0m\u001b[1;32m   1315\u001b[0m \u001b[0;34m\u001b[0m\u001b[0m\n\u001b[1;32m   1316\u001b[0m         if needs_i8_conversion(ax.dtype) or isinstance(\n",
      "\u001b[0;32m~/opt/miniconda3/lib/python3.9/site-packages/pandas/core/indexing.py\u001b[0m in \u001b[0;36m_validate_read_indexer\u001b[0;34m(self, key, indexer, axis)\u001b[0m\n\u001b[1;32m   1375\u001b[0m \u001b[0;34m\u001b[0m\u001b[0m\n\u001b[1;32m   1376\u001b[0m             \u001b[0mnot_found\u001b[0m \u001b[0;34m=\u001b[0m \u001b[0mlist\u001b[0m\u001b[0;34m(\u001b[0m\u001b[0mensure_index\u001b[0m\u001b[0;34m(\u001b[0m\u001b[0mkey\u001b[0m\u001b[0;34m)\u001b[0m\u001b[0;34m[\u001b[0m\u001b[0mmissing_mask\u001b[0m\u001b[0;34m.\u001b[0m\u001b[0mnonzero\u001b[0m\u001b[0;34m(\u001b[0m\u001b[0;34m)\u001b[0m\u001b[0;34m[\u001b[0m\u001b[0;36m0\u001b[0m\u001b[0;34m]\u001b[0m\u001b[0;34m]\u001b[0m\u001b[0;34m.\u001b[0m\u001b[0munique\u001b[0m\u001b[0;34m(\u001b[0m\u001b[0;34m)\u001b[0m\u001b[0;34m)\u001b[0m\u001b[0;34m\u001b[0m\u001b[0;34m\u001b[0m\u001b[0m\n\u001b[0;32m-> 1377\u001b[0;31m             \u001b[0;32mraise\u001b[0m \u001b[0mKeyError\u001b[0m\u001b[0;34m(\u001b[0m\u001b[0;34mf\"{not_found} not in index\"\u001b[0m\u001b[0;34m)\u001b[0m\u001b[0;34m\u001b[0m\u001b[0;34m\u001b[0m\u001b[0m\n\u001b[0m\u001b[1;32m   1378\u001b[0m \u001b[0;34m\u001b[0m\u001b[0m\n\u001b[1;32m   1379\u001b[0m \u001b[0;34m\u001b[0m\u001b[0m\n",
      "\u001b[0;31mKeyError\u001b[0m: \"['diagnosis'] not in index\""
     ]
    }
   ],
   "source": [
    "# Just out of curiosity, I want to see which type of Schizophrenia are likely to commit a crime.\n",
    "DPC = rpdata[['crime01','diagnosis']]\n",
    "Dias = ['430','431','436','444']\n",
    "DPC = DPC[DPC['diagnosis'].isin(Dias)]"
   ]
  },
  {
   "cell_type": "code",
   "execution_count": 41,
   "id": "3f728148-9e04-4f3f-91ea-b3acdf64fccb",
   "metadata": {},
   "outputs": [
    {
     "ename": "NameError",
     "evalue": "name 'DPC' is not defined",
     "output_type": "error",
     "traceback": [
      "\u001b[0;31m---------------------------------------------------------------------------\u001b[0m",
      "\u001b[0;31mNameError\u001b[0m                                 Traceback (most recent call last)",
      "\u001b[0;32m<ipython-input-41-4470371cc9af>\u001b[0m in \u001b[0;36m<module>\u001b[0;34m\u001b[0m\n\u001b[1;32m      1\u001b[0m \u001b[0;31m# Histogram of the diagnoses chosen\u001b[0m\u001b[0;34m\u001b[0m\u001b[0;34m\u001b[0m\u001b[0;34m\u001b[0m\u001b[0m\n\u001b[0;32m----> 2\u001b[0;31m \u001b[0mDPC\u001b[0m\u001b[0;34m[\u001b[0m\u001b[0;34m'crime01'\u001b[0m\u001b[0;34m]\u001b[0m\u001b[0;34m.\u001b[0m\u001b[0mhist\u001b[0m\u001b[0;34m(\u001b[0m\u001b[0mby\u001b[0m\u001b[0;34m=\u001b[0m\u001b[0mDPC\u001b[0m\u001b[0;34m[\u001b[0m\u001b[0;34m'diagnosis'\u001b[0m\u001b[0;34m]\u001b[0m\u001b[0;34m,\u001b[0m \u001b[0mlayout\u001b[0m\u001b[0;34m=\u001b[0m\u001b[0;34m(\u001b[0m\u001b[0;36m1\u001b[0m\u001b[0;34m,\u001b[0m\u001b[0;36m10\u001b[0m\u001b[0;34m)\u001b[0m\u001b[0;34m,\u001b[0m \u001b[0mfigsize\u001b[0m \u001b[0;34m=\u001b[0m \u001b[0;34m(\u001b[0m\u001b[0;36m50\u001b[0m\u001b[0;34m,\u001b[0m\u001b[0;36m2\u001b[0m\u001b[0;34m)\u001b[0m\u001b[0;34m)\u001b[0m\u001b[0;34m\u001b[0m\u001b[0;34m\u001b[0m\u001b[0m\n\u001b[0m\u001b[1;32m      3\u001b[0m \u001b[0;31m# Counts of each crime type for each diagnosis\u001b[0m\u001b[0;34m\u001b[0m\u001b[0;34m\u001b[0m\u001b[0;34m\u001b[0m\u001b[0m\n\u001b[1;32m      4\u001b[0m \u001b[0mschiz1\u001b[0m \u001b[0;34m=\u001b[0m \u001b[0;34m[\u001b[0m\u001b[0;34m'436'\u001b[0m\u001b[0;34m]\u001b[0m\u001b[0;34m\u001b[0m\u001b[0;34m\u001b[0m\u001b[0m\n\u001b[1;32m      5\u001b[0m \u001b[0mschizCrime\u001b[0m \u001b[0;34m=\u001b[0m \u001b[0mDPC\u001b[0m\u001b[0;34m[\u001b[0m\u001b[0mDPC\u001b[0m\u001b[0;34m[\u001b[0m\u001b[0;34m'diagnosis'\u001b[0m\u001b[0;34m]\u001b[0m\u001b[0;34m.\u001b[0m\u001b[0misin\u001b[0m\u001b[0;34m(\u001b[0m\u001b[0mschiz1\u001b[0m\u001b[0;34m)\u001b[0m\u001b[0;34m]\u001b[0m\u001b[0;34m\u001b[0m\u001b[0;34m\u001b[0m\u001b[0m\n",
      "\u001b[0;31mNameError\u001b[0m: name 'DPC' is not defined"
     ]
    }
   ],
   "source": [
    "# Histogram of the diagnoses chosen\n",
    "DPC['crime01'].hist(by=DPC['diagnosis'], layout=(1,10), figsize = (50,2))\n",
    "# Counts of each crime type for each diagnosis\n",
    "schiz1 = ['436']\n",
    "schizCrime = DPC[DPC['diagnosis'].isin(schiz1)]\n",
    "schiz = schizCrime['crime01'].value_counts()\n",
    "\n",
    "Schiz2 = ['444']\n",
    "SchizoCrime = DPC[DPC['diagnosis'].isin(Schiz2)]\n",
    "schizo = SchizoCrime['crime01'].value_counts()\n",
    "schiz"
   ]
  },
  {
   "cell_type": "code",
   "execution_count": 55,
   "id": "ab30ac47-b518-4424-85d0-17941e82020c",
   "metadata": {},
   "outputs": [
    {
     "ename": "KeyError",
     "evalue": "'diagnosis'",
     "output_type": "error",
     "traceback": [
      "\u001b[0;31m---------------------------------------------------------------------------\u001b[0m",
      "\u001b[0;31mKeyError\u001b[0m                                  Traceback (most recent call last)",
      "\u001b[0;32m~/opt/miniconda3/lib/python3.9/site-packages/pandas/core/indexes/base.py\u001b[0m in \u001b[0;36mget_loc\u001b[0;34m(self, key, method, tolerance)\u001b[0m\n\u001b[1;32m   3360\u001b[0m             \u001b[0;32mtry\u001b[0m\u001b[0;34m:\u001b[0m\u001b[0;34m\u001b[0m\u001b[0;34m\u001b[0m\u001b[0m\n\u001b[0;32m-> 3361\u001b[0;31m                 \u001b[0;32mreturn\u001b[0m \u001b[0mself\u001b[0m\u001b[0;34m.\u001b[0m\u001b[0m_engine\u001b[0m\u001b[0;34m.\u001b[0m\u001b[0mget_loc\u001b[0m\u001b[0;34m(\u001b[0m\u001b[0mcasted_key\u001b[0m\u001b[0;34m)\u001b[0m\u001b[0;34m\u001b[0m\u001b[0;34m\u001b[0m\u001b[0m\n\u001b[0m\u001b[1;32m   3362\u001b[0m             \u001b[0;32mexcept\u001b[0m \u001b[0mKeyError\u001b[0m \u001b[0;32mas\u001b[0m \u001b[0merr\u001b[0m\u001b[0;34m:\u001b[0m\u001b[0;34m\u001b[0m\u001b[0;34m\u001b[0m\u001b[0m\n",
      "\u001b[0;32m~/opt/miniconda3/lib/python3.9/site-packages/pandas/_libs/index.pyx\u001b[0m in \u001b[0;36mpandas._libs.index.IndexEngine.get_loc\u001b[0;34m()\u001b[0m\n",
      "\u001b[0;32m~/opt/miniconda3/lib/python3.9/site-packages/pandas/_libs/index.pyx\u001b[0m in \u001b[0;36mpandas._libs.index.IndexEngine.get_loc\u001b[0;34m()\u001b[0m\n",
      "\u001b[0;32mpandas/_libs/hashtable_class_helper.pxi\u001b[0m in \u001b[0;36mpandas._libs.hashtable.PyObjectHashTable.get_item\u001b[0;34m()\u001b[0m\n",
      "\u001b[0;32mpandas/_libs/hashtable_class_helper.pxi\u001b[0m in \u001b[0;36mpandas._libs.hashtable.PyObjectHashTable.get_item\u001b[0;34m()\u001b[0m\n",
      "\u001b[0;31mKeyError\u001b[0m: 'diagnosis'",
      "\nThe above exception was the direct cause of the following exception:\n",
      "\u001b[0;31mKeyError\u001b[0m                                  Traceback (most recent call last)",
      "\u001b[0;32m<ipython-input-55-b87dda414cf4>\u001b[0m in \u001b[0;36m<module>\u001b[0;34m\u001b[0m\n\u001b[1;32m      1\u001b[0m \u001b[0;31m# Top 10 most frequent diagnosis\u001b[0m\u001b[0;34m\u001b[0m\u001b[0;34m\u001b[0m\u001b[0;34m\u001b[0m\u001b[0m\n\u001b[1;32m      2\u001b[0m \u001b[0mn\u001b[0m \u001b[0;34m=\u001b[0m \u001b[0;36m10\u001b[0m\u001b[0;34m\u001b[0m\u001b[0;34m\u001b[0m\u001b[0m\n\u001b[0;32m----> 3\u001b[0;31m \u001b[0mDiagnosis\u001b[0m \u001b[0;34m=\u001b[0m \u001b[0mrpdata\u001b[0m\u001b[0;34m[\u001b[0m\u001b[0;34m'diagnosis'\u001b[0m\u001b[0;34m]\u001b[0m\u001b[0;34m.\u001b[0m\u001b[0mvalue_counts\u001b[0m\u001b[0;34m(\u001b[0m\u001b[0;34m)\u001b[0m\u001b[0;34m[\u001b[0m\u001b[0;34m:\u001b[0m\u001b[0mn\u001b[0m\u001b[0;34m]\u001b[0m\u001b[0;34m.\u001b[0m\u001b[0mindex\u001b[0m\u001b[0;34m.\u001b[0m\u001b[0mtolist\u001b[0m\u001b[0;34m(\u001b[0m\u001b[0;34m)\u001b[0m\u001b[0;34m\u001b[0m\u001b[0;34m\u001b[0m\u001b[0m\n\u001b[0m\u001b[1;32m      4\u001b[0m \u001b[0mprint\u001b[0m\u001b[0;34m(\u001b[0m\u001b[0;34mf\"List of top 10 diagnosis for individuals: {Diagnosis}\"\u001b[0m\u001b[0;34m)\u001b[0m\u001b[0;34m\u001b[0m\u001b[0;34m\u001b[0m\u001b[0m\n\u001b[1;32m      5\u001b[0m \u001b[0mrpdata\u001b[0m\u001b[0;34m.\u001b[0m\u001b[0mdescribe\u001b[0m\u001b[0;34m(\u001b[0m\u001b[0minclude\u001b[0m\u001b[0;34m=\u001b[0m\u001b[0;34m[\u001b[0m\u001b[0;34m'object'\u001b[0m\u001b[0;34m]\u001b[0m\u001b[0;34m)\u001b[0m\u001b[0;34m\u001b[0m\u001b[0;34m\u001b[0m\u001b[0m\n",
      "\u001b[0;32m~/opt/miniconda3/lib/python3.9/site-packages/pandas/core/frame.py\u001b[0m in \u001b[0;36m__getitem__\u001b[0;34m(self, key)\u001b[0m\n\u001b[1;32m   3453\u001b[0m             \u001b[0;32mif\u001b[0m \u001b[0mself\u001b[0m\u001b[0;34m.\u001b[0m\u001b[0mcolumns\u001b[0m\u001b[0;34m.\u001b[0m\u001b[0mnlevels\u001b[0m \u001b[0;34m>\u001b[0m \u001b[0;36m1\u001b[0m\u001b[0;34m:\u001b[0m\u001b[0;34m\u001b[0m\u001b[0;34m\u001b[0m\u001b[0m\n\u001b[1;32m   3454\u001b[0m                 \u001b[0;32mreturn\u001b[0m \u001b[0mself\u001b[0m\u001b[0;34m.\u001b[0m\u001b[0m_getitem_multilevel\u001b[0m\u001b[0;34m(\u001b[0m\u001b[0mkey\u001b[0m\u001b[0;34m)\u001b[0m\u001b[0;34m\u001b[0m\u001b[0;34m\u001b[0m\u001b[0m\n\u001b[0;32m-> 3455\u001b[0;31m             \u001b[0mindexer\u001b[0m \u001b[0;34m=\u001b[0m \u001b[0mself\u001b[0m\u001b[0;34m.\u001b[0m\u001b[0mcolumns\u001b[0m\u001b[0;34m.\u001b[0m\u001b[0mget_loc\u001b[0m\u001b[0;34m(\u001b[0m\u001b[0mkey\u001b[0m\u001b[0;34m)\u001b[0m\u001b[0;34m\u001b[0m\u001b[0;34m\u001b[0m\u001b[0m\n\u001b[0m\u001b[1;32m   3456\u001b[0m             \u001b[0;32mif\u001b[0m \u001b[0mis_integer\u001b[0m\u001b[0;34m(\u001b[0m\u001b[0mindexer\u001b[0m\u001b[0;34m)\u001b[0m\u001b[0;34m:\u001b[0m\u001b[0;34m\u001b[0m\u001b[0;34m\u001b[0m\u001b[0m\n\u001b[1;32m   3457\u001b[0m                 \u001b[0mindexer\u001b[0m \u001b[0;34m=\u001b[0m \u001b[0;34m[\u001b[0m\u001b[0mindexer\u001b[0m\u001b[0;34m]\u001b[0m\u001b[0;34m\u001b[0m\u001b[0;34m\u001b[0m\u001b[0m\n",
      "\u001b[0;32m~/opt/miniconda3/lib/python3.9/site-packages/pandas/core/indexes/base.py\u001b[0m in \u001b[0;36mget_loc\u001b[0;34m(self, key, method, tolerance)\u001b[0m\n\u001b[1;32m   3361\u001b[0m                 \u001b[0;32mreturn\u001b[0m \u001b[0mself\u001b[0m\u001b[0;34m.\u001b[0m\u001b[0m_engine\u001b[0m\u001b[0;34m.\u001b[0m\u001b[0mget_loc\u001b[0m\u001b[0;34m(\u001b[0m\u001b[0mcasted_key\u001b[0m\u001b[0;34m)\u001b[0m\u001b[0;34m\u001b[0m\u001b[0;34m\u001b[0m\u001b[0m\n\u001b[1;32m   3362\u001b[0m             \u001b[0;32mexcept\u001b[0m \u001b[0mKeyError\u001b[0m \u001b[0;32mas\u001b[0m \u001b[0merr\u001b[0m\u001b[0;34m:\u001b[0m\u001b[0;34m\u001b[0m\u001b[0;34m\u001b[0m\u001b[0m\n\u001b[0;32m-> 3363\u001b[0;31m                 \u001b[0;32mraise\u001b[0m \u001b[0mKeyError\u001b[0m\u001b[0;34m(\u001b[0m\u001b[0mkey\u001b[0m\u001b[0;34m)\u001b[0m \u001b[0;32mfrom\u001b[0m \u001b[0merr\u001b[0m\u001b[0;34m\u001b[0m\u001b[0;34m\u001b[0m\u001b[0m\n\u001b[0m\u001b[1;32m   3364\u001b[0m \u001b[0;34m\u001b[0m\u001b[0m\n\u001b[1;32m   3365\u001b[0m         \u001b[0;32mif\u001b[0m \u001b[0mis_scalar\u001b[0m\u001b[0;34m(\u001b[0m\u001b[0mkey\u001b[0m\u001b[0;34m)\u001b[0m \u001b[0;32mand\u001b[0m \u001b[0misna\u001b[0m\u001b[0;34m(\u001b[0m\u001b[0mkey\u001b[0m\u001b[0;34m)\u001b[0m \u001b[0;32mand\u001b[0m \u001b[0;32mnot\u001b[0m \u001b[0mself\u001b[0m\u001b[0;34m.\u001b[0m\u001b[0mhasnans\u001b[0m\u001b[0;34m:\u001b[0m\u001b[0;34m\u001b[0m\u001b[0;34m\u001b[0m\u001b[0m\n",
      "\u001b[0;31mKeyError\u001b[0m: 'diagnosis'"
     ]
    }
   ],
   "source": [
    "# Top 10 most frequent diagnosis\n",
    "n = 10\n",
    "Diagnosis = rpdata['diagnosis'].value_counts()[:n].index.tolist()\n",
    "print(f\"List of top 10 diagnosis for individuals: {Diagnosis}\")\n",
    "rpdata.describe(include=['object'])"
   ]
  },
  {
   "cell_type": "code",
   "execution_count": 190,
   "id": "4324ce87-5263-4f54-932e-5631de013b01",
   "metadata": {},
   "outputs": [
    {
     "name": "stdout",
     "output_type": "stream",
     "text": [
      "List of top 10 crimes for first sentence: [1, 11, 12, 21, 2, 61, 15, 22, 32, 13]\n",
      "List of top 10 crimes for second sentence: [0, 1, 11, 13, 31, 53, 81, 2, 14, 26]\n"
     ]
    },
    {
     "data": {
      "text/html": [
       "<div>\n",
       "<style scoped>\n",
       "    .dataframe tbody tr th:only-of-type {\n",
       "        vertical-align: middle;\n",
       "    }\n",
       "\n",
       "    .dataframe tbody tr th {\n",
       "        vertical-align: top;\n",
       "    }\n",
       "\n",
       "    .dataframe thead th {\n",
       "        text-align: right;\n",
       "    }\n",
       "</style>\n",
       "<table border=\"1\" class=\"dataframe\">\n",
       "  <thead>\n",
       "    <tr style=\"text-align: right;\">\n",
       "      <th></th>\n",
       "      <th>id</th>\n",
       "    </tr>\n",
       "  </thead>\n",
       "  <tbody>\n",
       "    <tr>\n",
       "      <th>count</th>\n",
       "      <td>617</td>\n",
       "    </tr>\n",
       "    <tr>\n",
       "      <th>unique</th>\n",
       "      <td>617</td>\n",
       "    </tr>\n",
       "    <tr>\n",
       "      <th>top</th>\n",
       "      <td>1</td>\n",
       "    </tr>\n",
       "    <tr>\n",
       "      <th>freq</th>\n",
       "      <td>1</td>\n",
       "    </tr>\n",
       "  </tbody>\n",
       "</table>\n",
       "</div>"
      ],
      "text/plain": [
       "         id\n",
       "count   617\n",
       "unique  617\n",
       "top       1\n",
       "freq      1"
      ]
     },
     "execution_count": 190,
     "metadata": {},
     "output_type": "execute_result"
    }
   ],
   "source": [
    "crimerecord1 = rpdata['crime01'].value_counts()[:n].index.tolist()\n",
    "crimerecord2 = rpdata['crime02'].value_counts()[:n].index.tolist()\n",
    "print(f\"List of top 10 crimes for first sentence: {crimerecord1}\")\n",
    "print(f\"List of top 10 crimes for second sentence: {crimerecord2}\")\n",
    "rpdata.describe(include=['object'])"
   ]
  },
  {
   "cell_type": "markdown",
   "id": "5242da81-bc2c-4c60-9e01-f29e35d04927",
   "metadata": {},
   "source": [
    "##### Analysis\n",
    " - Most common diagnosis for those under psychiatric contact is Alcohol addiction.\n",
    " - Most common sentence received initially is public intoxication.\n",
    " - A theme noticeable is alcohol for the top diagnosis and sentences, meaning people who have alcohol addiction or are influenced by alcohol have a high probability of committing a crime."
   ]
  },
  {
   "cell_type": "code",
   "execution_count": 183,
   "id": "d7699725-b742-4e49-9285-a9c892a33d92",
   "metadata": {},
   "outputs": [
    {
     "data": {
      "text/plain": [
       "20    39\n",
       "22    39\n",
       "19    39\n",
       "21    34\n",
       "18    32\n",
       "72    32\n",
       "23    30\n",
       "17    23\n",
       "25    23\n",
       "27    21\n",
       "26    20\n",
       "24    17\n",
       "33    15\n",
       "48    13\n",
       "29    10\n",
       "43    10\n",
       "37    10\n",
       "41    10\n",
       "28    10\n",
       "51    10\n",
       "39     9\n",
       "38     9\n",
       "31     9\n",
       "62     9\n",
       "47     8\n",
       "49     8\n",
       "53     8\n",
       "45     7\n",
       "30     7\n",
       "35     7\n",
       "40     7\n",
       "16     6\n",
       "36     6\n",
       "32     6\n",
       "54     6\n",
       "56     6\n",
       "46     6\n",
       "57     5\n",
       "52     5\n",
       "55     5\n",
       "42     5\n",
       "34     5\n",
       "50     5\n",
       "66     4\n",
       "59     4\n",
       "44     3\n",
       "58     3\n",
       "61     3\n",
       "70     2\n",
       "63     2\n",
       "69     2\n",
       "60     1\n",
       "64     1\n",
       "67     1\n",
       "Name: age, dtype: int64"
      ]
     },
     "execution_count": 183,
     "metadata": {},
     "output_type": "execute_result"
    }
   ],
   "source": [
    "ax = crime['age'].value_counts()\n",
    "ax"
   ]
  },
  {
   "cell_type": "code",
   "execution_count": 255,
   "id": "7633598a-dfe5-483d-8780-fcce5961c3b0",
   "metadata": {},
   "outputs": [
    {
     "ename": "NameError",
     "evalue": "name 'Schizo1' is not defined",
     "output_type": "error",
     "traceback": [
      "\u001b[0;31m---------------------------------------------------------------------------\u001b[0m",
      "\u001b[0;31mNameError\u001b[0m                                 Traceback (most recent call last)",
      "\u001b[0;32m<ipython-input-255-54b971e5a70e>\u001b[0m in \u001b[0;36m<module>\u001b[0;34m\u001b[0m\n\u001b[1;32m      1\u001b[0m \u001b[0mdia\u001b[0m \u001b[0;34m=\u001b[0m \u001b[0;34m[\u001b[0m\u001b[0;34m'436'\u001b[0m\u001b[0;34m,\u001b[0m \u001b[0;34m'444'\u001b[0m\u001b[0;34m,\u001b[0m \u001b[0;34m'430'\u001b[0m\u001b[0;34m,\u001b[0m \u001b[0;34m'438'\u001b[0m\u001b[0;34m,\u001b[0m \u001b[0;34m'431'\u001b[0m\u001b[0;34m]\u001b[0m \u001b[0;31m# Top 5 types of Schizophrenic\u001b[0m\u001b[0;34m\u001b[0m\u001b[0;34m\u001b[0m\u001b[0m\n\u001b[0;32m----> 2\u001b[0;31m \u001b[0mtops\u001b[0m \u001b[0;34m=\u001b[0m \u001b[0mSchizo1\u001b[0m\u001b[0;34m[\u001b[0m\u001b[0mSchizo1\u001b[0m\u001b[0;34m[\u001b[0m\u001b[0;34m'diagnosis'\u001b[0m\u001b[0;34m]\u001b[0m\u001b[0;34m.\u001b[0m\u001b[0misin\u001b[0m\u001b[0;34m(\u001b[0m\u001b[0mdia\u001b[0m\u001b[0;34m)\u001b[0m\u001b[0;34m]\u001b[0m\u001b[0;34m\u001b[0m\u001b[0;34m\u001b[0m\u001b[0m\n\u001b[0m\u001b[1;32m      3\u001b[0m \u001b[0;34m\u001b[0m\u001b[0m\n\u001b[1;32m      4\u001b[0m \u001b[0mdfs\u001b[0m \u001b[0;34m=\u001b[0m \u001b[0;34m[\u001b[0m\u001b[0;34m]\u001b[0m\u001b[0;34m\u001b[0m\u001b[0;34m\u001b[0m\u001b[0m\n\u001b[1;32m      5\u001b[0m \u001b[0;32mfor\u001b[0m \u001b[0mcol\u001b[0m \u001b[0;32min\u001b[0m \u001b[0mtops\u001b[0m\u001b[0;34m.\u001b[0m\u001b[0mcolumns\u001b[0m\u001b[0;34m:\u001b[0m\u001b[0;34m\u001b[0m\u001b[0;34m\u001b[0m\u001b[0m\n",
      "\u001b[0;31mNameError\u001b[0m: name 'Schizo1' is not defined"
     ]
    }
   ],
   "source": [
    "dia = ['436', '444', '430', '438', '431'] # Top 5 types of Schizophrenic\n",
    "tops = Schizo1[Schizo1['diagnosis'].isin(dia)]\n",
    "\n",
    "dfs = []\n",
    "for col in tops.columns:\n",
    "    top_values = []\n",
    "    top_values = tops[col].mode()\n",
    "    dfs.append(pd.DataFrame({col: top_values}).reset_index(drop=True)) #Takes all the most frequent value of the dataset and puts it in a list.\n",
    "FreqS = pd.concat(dfs, axis=1)\n",
    "FreqS"
   ]
  },
  {
   "cell_type": "code",
   "execution_count": 256,
   "id": "0901821a-8d6e-426d-8c1f-a766a7b94a4f",
   "metadata": {},
   "outputs": [
    {
     "data": {
      "text/plain": [
       "1    596\n",
       "2     21\n",
       "Name: sex, dtype: int64"
      ]
     },
     "execution_count": 256,
     "metadata": {},
     "output_type": "execute_result"
    }
   ],
   "source": [
    "rpdata['sex'].value_counts()"
   ]
  },
  {
   "cell_type": "code",
   "execution_count": null,
   "id": "ef03ee9d-5c16-4175-a142-70a68930307b",
   "metadata": {},
   "outputs": [],
   "source": []
  }
 ],
 "metadata": {
  "kernelspec": {
   "display_name": "Python 3",
   "language": "python",
   "name": "python3"
  },
  "language_info": {
   "codemirror_mode": {
    "name": "ipython",
    "version": 3
   },
   "file_extension": ".py",
   "mimetype": "text/x-python",
   "name": "python",
   "nbconvert_exporter": "python",
   "pygments_lexer": "ipython3",
   "version": "3.9.5"
  }
 },
 "nbformat": 4,
 "nbformat_minor": 5
}
