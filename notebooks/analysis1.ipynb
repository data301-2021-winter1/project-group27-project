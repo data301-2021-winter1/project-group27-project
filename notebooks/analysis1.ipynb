{
 "cells": [
  {
   "cell_type": "markdown",
   "metadata": {},
   "source": [
    "# Rebecca Godard"
   ]
  },
  {
   "cell_type": "markdown",
   "metadata": {},
   "source": [
    "## Research question/interests\n",
    "\n",
    "I am interested in using survival analysis or another analytic method to predict the length of time an incarcerated patient spends in psychiatric treatment. Specifically, I want to know whether number of arrests and crimes, time spent in jail, and prisoner race predict time spent in treatment."
   ]
  },
  {
   "cell_type": "markdown",
   "metadata": {},
   "source": [
    "# Milestone 2"
   ]
  },
  {
   "cell_type": "code",
   "execution_count": 2,
   "metadata": {},
   "outputs": [],
   "source": [
    "import pandas as pd"
   ]
  },
  {
   "cell_type": "code",
   "execution_count": 10,
   "metadata": {},
   "outputs": [
    {
     "data": {
      "text/html": [
       "<div>\n",
       "<style scoped>\n",
       "    .dataframe tbody tr th:only-of-type {\n",
       "        vertical-align: middle;\n",
       "    }\n",
       "\n",
       "    .dataframe tbody tr th {\n",
       "        vertical-align: top;\n",
       "    }\n",
       "\n",
       "    .dataframe thead th {\n",
       "        text-align: right;\n",
       "    }\n",
       "</style>\n",
       "<table border=\"1\" class=\"dataframe\">\n",
       "  <thead>\n",
       "    <tr style=\"text-align: right;\">\n",
       "      <th></th>\n",
       "      <th>Unnamed: 0</th>\n",
       "      <th>id</th>\n",
       "      <th>rid</th>\n",
       "      <th>sex</th>\n",
       "      <th>birth</th>\n",
       "      <th>race</th>\n",
       "      <th>educ</th>\n",
       "      <th>marital</th>\n",
       "      <th>children</th>\n",
       "      <th>occupat</th>\n",
       "      <th>...</th>\n",
       "      <th>crime05</th>\n",
       "      <th>crime06</th>\n",
       "      <th>crime07</th>\n",
       "      <th>crime08</th>\n",
       "      <th>crime09</th>\n",
       "      <th>crime10</th>\n",
       "      <th>crime11</th>\n",
       "      <th>crime12</th>\n",
       "      <th>crime13</th>\n",
       "      <th>crime14</th>\n",
       "    </tr>\n",
       "  </thead>\n",
       "  <tbody>\n",
       "    <tr>\n",
       "      <th>0</th>\n",
       "      <td>1</td>\n",
       "      <td>1</td>\n",
       "      <td>991</td>\n",
       "      <td>1</td>\n",
       "      <td>18</td>\n",
       "      <td>1</td>\n",
       "      <td>10</td>\n",
       "      <td>4</td>\n",
       "      <td>1</td>\n",
       "      <td>0</td>\n",
       "      <td>...</td>\n",
       "      <td>0</td>\n",
       "      <td>0</td>\n",
       "      <td>0</td>\n",
       "      <td>0</td>\n",
       "      <td>0</td>\n",
       "      <td>0</td>\n",
       "      <td>0</td>\n",
       "      <td>0</td>\n",
       "      <td>0</td>\n",
       "      <td>0</td>\n",
       "    </tr>\n",
       "    <tr>\n",
       "      <th>1</th>\n",
       "      <td>2</td>\n",
       "      <td>2</td>\n",
       "      <td>991</td>\n",
       "      <td>1</td>\n",
       "      <td>16</td>\n",
       "      <td>1</td>\n",
       "      <td>10</td>\n",
       "      <td>2</td>\n",
       "      <td>3</td>\n",
       "      <td>20</td>\n",
       "      <td>...</td>\n",
       "      <td>0</td>\n",
       "      <td>0</td>\n",
       "      <td>0</td>\n",
       "      <td>0</td>\n",
       "      <td>0</td>\n",
       "      <td>0</td>\n",
       "      <td>0</td>\n",
       "      <td>0</td>\n",
       "      <td>0</td>\n",
       "      <td>0</td>\n",
       "    </tr>\n",
       "    <tr>\n",
       "      <th>2</th>\n",
       "      <td>3</td>\n",
       "      <td>3</td>\n",
       "      <td>991</td>\n",
       "      <td>1</td>\n",
       "      <td>21</td>\n",
       "      <td>1</td>\n",
       "      <td>7</td>\n",
       "      <td>1</td>\n",
       "      <td>0</td>\n",
       "      <td>10</td>\n",
       "      <td>...</td>\n",
       "      <td>0</td>\n",
       "      <td>0</td>\n",
       "      <td>0</td>\n",
       "      <td>0</td>\n",
       "      <td>0</td>\n",
       "      <td>0</td>\n",
       "      <td>0</td>\n",
       "      <td>0</td>\n",
       "      <td>0</td>\n",
       "      <td>0</td>\n",
       "    </tr>\n",
       "    <tr>\n",
       "      <th>3</th>\n",
       "      <td>4</td>\n",
       "      <td>4</td>\n",
       "      <td>991</td>\n",
       "      <td>1</td>\n",
       "      <td>32</td>\n",
       "      <td>1</td>\n",
       "      <td>7</td>\n",
       "      <td>1</td>\n",
       "      <td>0</td>\n",
       "      <td>10</td>\n",
       "      <td>...</td>\n",
       "      <td>0</td>\n",
       "      <td>0</td>\n",
       "      <td>0</td>\n",
       "      <td>0</td>\n",
       "      <td>0</td>\n",
       "      <td>0</td>\n",
       "      <td>0</td>\n",
       "      <td>0</td>\n",
       "      <td>0</td>\n",
       "      <td>0</td>\n",
       "    </tr>\n",
       "    <tr>\n",
       "      <th>4</th>\n",
       "      <td>5</td>\n",
       "      <td>5</td>\n",
       "      <td>991</td>\n",
       "      <td>1</td>\n",
       "      <td>53</td>\n",
       "      <td>2</td>\n",
       "      <td>11</td>\n",
       "      <td>1</td>\n",
       "      <td>0</td>\n",
       "      <td>10</td>\n",
       "      <td>...</td>\n",
       "      <td>0</td>\n",
       "      <td>0</td>\n",
       "      <td>0</td>\n",
       "      <td>0</td>\n",
       "      <td>0</td>\n",
       "      <td>0</td>\n",
       "      <td>0</td>\n",
       "      <td>0</td>\n",
       "      <td>0</td>\n",
       "      <td>0</td>\n",
       "    </tr>\n",
       "  </tbody>\n",
       "</table>\n",
       "<p>5 rows × 26 columns</p>\n",
       "</div>"
      ],
      "text/plain": [
       "   Unnamed: 0  id  rid  sex  birth  race  educ  marital  children  occupat  \\\n",
       "0           1   1  991    1     18     1    10        4         1        0   \n",
       "1           2   2  991    1     16     1    10        2         3       20   \n",
       "2           3   3  991    1     21     1     7        1         0       10   \n",
       "3           4   4  991    1     32     1     7        1         0       10   \n",
       "4           5   5  991    1     53     2    11        1         0       10   \n",
       "\n",
       "   ...  crime05  crime06  crime07  crime08  crime09  crime10  crime11  \\\n",
       "0  ...        0        0        0        0        0        0        0   \n",
       "1  ...        0        0        0        0        0        0        0   \n",
       "2  ...        0        0        0        0        0        0        0   \n",
       "3  ...        0        0        0        0        0        0        0   \n",
       "4  ...        0        0        0        0        0        0        0   \n",
       "\n",
       "   crime12  crime13  crime14  \n",
       "0        0        0        0  \n",
       "1        0        0        0  \n",
       "2        0        0        0  \n",
       "3        0        0        0  \n",
       "4        0        0        0  \n",
       "\n",
       "[5 rows x 26 columns]"
      ]
     },
     "execution_count": 10,
     "metadata": {},
     "output_type": "execute_result"
    }
   ],
   "source": [
    "rec1data = pd.read_csv(\"../data/processed/rec1data.csv\")\n",
    "rec1data.head()"
   ]
  },
  {
   "cell_type": "code",
   "execution_count": 16,
   "metadata": {},
   "outputs": [
    {
     "data": {
      "text/html": [
       "<div>\n",
       "<style scoped>\n",
       "    .dataframe tbody tr th:only-of-type {\n",
       "        vertical-align: middle;\n",
       "    }\n",
       "\n",
       "    .dataframe tbody tr th {\n",
       "        vertical-align: top;\n",
       "    }\n",
       "\n",
       "    .dataframe thead th {\n",
       "        text-align: right;\n",
       "    }\n",
       "</style>\n",
       "<table border=\"1\" class=\"dataframe\">\n",
       "  <thead>\n",
       "    <tr style=\"text-align: right;\">\n",
       "      <th></th>\n",
       "      <th>Unnamed: 0</th>\n",
       "      <th>id</th>\n",
       "      <th>rid</th>\n",
       "      <th>pub_intox</th>\n",
       "      <th>pet_larc</th>\n",
       "      <th>misc</th>\n",
       "      <th>assault</th>\n",
       "      <th>arson</th>\n",
       "      <th>rape</th>\n",
       "      <th>forgery</th>\n",
       "      <th>...</th>\n",
       "      <th>crim_poss_weap</th>\n",
       "      <th>crim_poss_instr</th>\n",
       "      <th>obst_gov</th>\n",
       "      <th>res_arrest</th>\n",
       "      <th>escape</th>\n",
       "      <th>crim_poss_stolen</th>\n",
       "      <th>reck_endanger</th>\n",
       "      <th>crim_neg_hom</th>\n",
       "      <th>youth_off</th>\n",
       "      <th>crim_tresspasss</th>\n",
       "    </tr>\n",
       "  </thead>\n",
       "  <tbody>\n",
       "    <tr>\n",
       "      <th>0</th>\n",
       "      <td>1</td>\n",
       "      <td>1</td>\n",
       "      <td>992</td>\n",
       "      <td>5</td>\n",
       "      <td>0</td>\n",
       "      <td>0</td>\n",
       "      <td>0</td>\n",
       "      <td>0</td>\n",
       "      <td>0</td>\n",
       "      <td>0</td>\n",
       "      <td>...</td>\n",
       "      <td>1</td>\n",
       "      <td>0</td>\n",
       "      <td>0</td>\n",
       "      <td>0</td>\n",
       "      <td>0</td>\n",
       "      <td>0</td>\n",
       "      <td>0</td>\n",
       "      <td>0</td>\n",
       "      <td>0</td>\n",
       "      <td>0</td>\n",
       "    </tr>\n",
       "    <tr>\n",
       "      <th>1</th>\n",
       "      <td>2</td>\n",
       "      <td>2</td>\n",
       "      <td>992</td>\n",
       "      <td>0</td>\n",
       "      <td>0</td>\n",
       "      <td>0</td>\n",
       "      <td>0</td>\n",
       "      <td>0</td>\n",
       "      <td>0</td>\n",
       "      <td>0</td>\n",
       "      <td>...</td>\n",
       "      <td>0</td>\n",
       "      <td>0</td>\n",
       "      <td>0</td>\n",
       "      <td>0</td>\n",
       "      <td>0</td>\n",
       "      <td>0</td>\n",
       "      <td>0</td>\n",
       "      <td>0</td>\n",
       "      <td>0</td>\n",
       "      <td>0</td>\n",
       "    </tr>\n",
       "    <tr>\n",
       "      <th>2</th>\n",
       "      <td>3</td>\n",
       "      <td>3</td>\n",
       "      <td>992</td>\n",
       "      <td>2</td>\n",
       "      <td>1</td>\n",
       "      <td>0</td>\n",
       "      <td>0</td>\n",
       "      <td>0</td>\n",
       "      <td>0</td>\n",
       "      <td>0</td>\n",
       "      <td>...</td>\n",
       "      <td>0</td>\n",
       "      <td>0</td>\n",
       "      <td>0</td>\n",
       "      <td>0</td>\n",
       "      <td>0</td>\n",
       "      <td>0</td>\n",
       "      <td>0</td>\n",
       "      <td>0</td>\n",
       "      <td>0</td>\n",
       "      <td>0</td>\n",
       "    </tr>\n",
       "    <tr>\n",
       "      <th>3</th>\n",
       "      <td>4</td>\n",
       "      <td>4</td>\n",
       "      <td>992</td>\n",
       "      <td>0</td>\n",
       "      <td>0</td>\n",
       "      <td>0</td>\n",
       "      <td>0</td>\n",
       "      <td>0</td>\n",
       "      <td>0</td>\n",
       "      <td>0</td>\n",
       "      <td>...</td>\n",
       "      <td>0</td>\n",
       "      <td>0</td>\n",
       "      <td>0</td>\n",
       "      <td>0</td>\n",
       "      <td>0</td>\n",
       "      <td>0</td>\n",
       "      <td>0</td>\n",
       "      <td>0</td>\n",
       "      <td>0</td>\n",
       "      <td>0</td>\n",
       "    </tr>\n",
       "    <tr>\n",
       "      <th>4</th>\n",
       "      <td>5</td>\n",
       "      <td>5</td>\n",
       "      <td>992</td>\n",
       "      <td>0</td>\n",
       "      <td>0</td>\n",
       "      <td>0</td>\n",
       "      <td>0</td>\n",
       "      <td>0</td>\n",
       "      <td>0</td>\n",
       "      <td>0</td>\n",
       "      <td>...</td>\n",
       "      <td>0</td>\n",
       "      <td>0</td>\n",
       "      <td>0</td>\n",
       "      <td>0</td>\n",
       "      <td>0</td>\n",
       "      <td>0</td>\n",
       "      <td>1</td>\n",
       "      <td>0</td>\n",
       "      <td>0</td>\n",
       "      <td>0</td>\n",
       "    </tr>\n",
       "  </tbody>\n",
       "</table>\n",
       "<p>5 rows × 30 columns</p>\n",
       "</div>"
      ],
      "text/plain": [
       "   Unnamed: 0  id  rid  pub_intox  pet_larc  misc  assault  arson  rape  \\\n",
       "0           1   1  992          5         0     0        0      0     0   \n",
       "1           2   2  992          0         0     0        0      0     0   \n",
       "2           3   3  992          2         1     0        0      0     0   \n",
       "3           4   4  992          0         0     0        0      0     0   \n",
       "4           5   5  992          0         0     0        0      0     0   \n",
       "\n",
       "   forgery  ...  crim_poss_weap  crim_poss_instr  obst_gov  res_arrest  \\\n",
       "0        0  ...               1                0         0           0   \n",
       "1        0  ...               0                0         0           0   \n",
       "2        0  ...               0                0         0           0   \n",
       "3        0  ...               0                0         0           0   \n",
       "4        0  ...               0                0         0           0   \n",
       "\n",
       "   escape  crim_poss_stolen  reck_endanger  crim_neg_hom  youth_off  \\\n",
       "0       0                 0              0             0          0   \n",
       "1       0                 0              0             0          0   \n",
       "2       0                 0              0             0          0   \n",
       "3       0                 0              0             0          0   \n",
       "4       0                 0              1             0          0   \n",
       "\n",
       "   crim_tresspasss  \n",
       "0                0  \n",
       "1                0  \n",
       "2                0  \n",
       "3                0  \n",
       "4                0  \n",
       "\n",
       "[5 rows x 30 columns]"
      ]
     },
     "execution_count": 16,
     "metadata": {},
     "output_type": "execute_result"
    }
   ],
   "source": [
    "rec2data = pd.read_csv(\"../data/processed/rec2data.csv\")\n",
    "rec2data.head()"
   ]
  },
  {
   "cell_type": "code",
   "execution_count": 24,
   "metadata": {},
   "outputs": [
    {
     "data": {
      "text/html": [
       "<div>\n",
       "<style scoped>\n",
       "    .dataframe tbody tr th:only-of-type {\n",
       "        vertical-align: middle;\n",
       "    }\n",
       "\n",
       "    .dataframe tbody tr th {\n",
       "        vertical-align: top;\n",
       "    }\n",
       "\n",
       "    .dataframe thead th {\n",
       "        text-align: right;\n",
       "    }\n",
       "</style>\n",
       "<table border=\"1\" class=\"dataframe\">\n",
       "  <thead>\n",
       "    <tr style=\"text-align: right;\">\n",
       "      <th></th>\n",
       "      <th>Unnamed: 0</th>\n",
       "      <th>id</th>\n",
       "      <th>contact</th>\n",
       "      <th>date_contact</th>\n",
       "      <th>facility</th>\n",
       "      <th>address</th>\n",
       "      <th>diagnosis</th>\n",
       "      <th>service</th>\n",
       "      <th>date_term</th>\n",
       "      <th>reason_term</th>\n",
       "    </tr>\n",
       "  </thead>\n",
       "  <tbody>\n",
       "    <tr>\n",
       "      <th>0</th>\n",
       "      <td>1</td>\n",
       "      <td>1</td>\n",
       "      <td>1</td>\n",
       "      <td>600804</td>\n",
       "      <td>1</td>\n",
       "      <td>100</td>\n",
       "      <td>103</td>\n",
       "      <td>0</td>\n",
       "      <td>600808</td>\n",
       "      <td>0</td>\n",
       "    </tr>\n",
       "    <tr>\n",
       "      <th>1</th>\n",
       "      <td>2</td>\n",
       "      <td>1</td>\n",
       "      <td>2</td>\n",
       "      <td>600809</td>\n",
       "      <td>2</td>\n",
       "      <td>100</td>\n",
       "      <td>715</td>\n",
       "      <td>1</td>\n",
       "      <td>601130</td>\n",
       "      <td>9</td>\n",
       "    </tr>\n",
       "    <tr>\n",
       "      <th>2</th>\n",
       "      <td>3</td>\n",
       "      <td>1</td>\n",
       "      <td>3</td>\n",
       "      <td>640320</td>\n",
       "      <td>1</td>\n",
       "      <td>100</td>\n",
       "      <td>715</td>\n",
       "      <td>0</td>\n",
       "      <td>640401</td>\n",
       "      <td>0</td>\n",
       "    </tr>\n",
       "    <tr>\n",
       "      <th>3</th>\n",
       "      <td>4</td>\n",
       "      <td>1</td>\n",
       "      <td>4</td>\n",
       "      <td>640910</td>\n",
       "      <td>2</td>\n",
       "      <td>100</td>\n",
       "      <td>715</td>\n",
       "      <td>0</td>\n",
       "      <td>641027</td>\n",
       "      <td>9</td>\n",
       "    </tr>\n",
       "    <tr>\n",
       "      <th>4</th>\n",
       "      <td>5</td>\n",
       "      <td>1</td>\n",
       "      <td>5</td>\n",
       "      <td>641109</td>\n",
       "      <td>1</td>\n",
       "      <td>100</td>\n",
       "      <td>103</td>\n",
       "      <td>0</td>\n",
       "      <td>641113</td>\n",
       "      <td>0</td>\n",
       "    </tr>\n",
       "  </tbody>\n",
       "</table>\n",
       "</div>"
      ],
      "text/plain": [
       "   Unnamed: 0  id  contact  date_contact  facility address diagnosis  service  \\\n",
       "0           1   1        1        600804         1     100       103        0   \n",
       "1           2   1        2        600809         2     100       715        1   \n",
       "2           3   1        3        640320         1     100       715        0   \n",
       "3           4   1        4        640910         2     100       715        0   \n",
       "4           5   1        5        641109         1     100       103        0   \n",
       "\n",
       "   date_term  reason_term  \n",
       "0     600808            0  \n",
       "1     601130            9  \n",
       "2     640401            0  \n",
       "3     641027            9  \n",
       "4     641113            0  "
      ]
     },
     "execution_count": 24,
     "metadata": {},
     "output_type": "execute_result"
    }
   ],
   "source": [
    "psychdata = pd.read_csv(\"../data/processed/psychdata.csv\")\n",
    "psychdata.head()"
   ]
  },
  {
   "cell_type": "markdown",
   "metadata": {},
   "source": [
    "# Milestone 3"
   ]
  },
  {
   "cell_type": "markdown",
   "metadata": {},
   "source": [
    "## Exploratory Data Analysis"
   ]
  },
  {
   "cell_type": "code",
   "execution_count": 8,
   "metadata": {},
   "outputs": [],
   "source": [
    "import numpy as np"
   ]
  },
  {
   "cell_type": "markdown",
   "metadata": {},
   "source": [
    "### Record 1"
   ]
  },
  {
   "cell_type": "code",
   "execution_count": 11,
   "metadata": {},
   "outputs": [
    {
     "data": {
      "text/plain": [
       "count    1003.000000\n",
       "mean        0.816550\n",
       "std         1.115239\n",
       "min         0.000000\n",
       "25%         0.000000\n",
       "50%         1.000000\n",
       "75%         1.000000\n",
       "max        13.000000\n",
       "Name: crime_num, dtype: float64"
      ]
     },
     "execution_count": 11,
     "metadata": {},
     "output_type": "execute_result"
    }
   ],
   "source": [
    "# Adding a column for total number of crimes\n",
    "# Each case has at least 1 crime, but I want to know the average and maximum\n",
    "# Crime variables contain 0s if the person didn't commit that many crimes\n",
    "\n",
    "rec1data['crime_num'] = (rec1data.iloc[:,12:25] != 0).sum(axis=1)\n",
    "rec1data['crime_num'].describe()\n",
    "\n",
    "\n",
    "# The majority of prisoners had 1 or 0 crimes, but the maximum is 13. \n",
    "# This is a very positively skewed variable."
   ]
  },
  {
   "cell_type": "code",
   "execution_count": 14,
   "metadata": {},
   "outputs": [
    {
     "data": {
      "text/plain": [
       "array([[<AxesSubplot:title={'center':'crime_num'}>]], dtype=object)"
      ]
     },
     "execution_count": 14,
     "metadata": {},
     "output_type": "execute_result"
    },
    {
     "data": {
      "image/png": "[encoded data removed]",
      "text/plain": [
       "<Figure size 432x288 with 1 Axes>"
      ]
     },
     "metadata": {
      "needs_background": "light"
     },
     "output_type": "display_data"
    }
   ],
   "source": [
    "rec1data.hist(column = \"crime_num\", bins = range(14))"
   ]
  },
  {
   "cell_type": "code",
   "execution_count": 15,
   "metadata": {},
   "outputs": [
    {
     "data": {
      "text/plain": [
       "0.6151545363908275"
      ]
     },
     "execution_count": 15,
     "metadata": {},
     "output_type": "execute_result"
    }
   ],
   "source": [
    "(rec1data['crime_num'] > 0).sum() / 1003\n",
    "\n",
    "# Only 62% of the prisoners have a crime record. This seems strange! \n",
    "# Maybe something is going on with record 2."
   ]
  },
  {
   "cell_type": "markdown",
   "metadata": {},
   "source": [
    "### Record 2"
   ]
  },
  {
   "cell_type": "code",
   "execution_count": 17,
   "metadata": {},
   "outputs": [
    {
     "data": {
      "text/plain": [
       "count    1003.000000\n",
       "mean        0.959123\n",
       "std         1.735885\n",
       "min         0.000000\n",
       "25%         0.000000\n",
       "50%         0.000000\n",
       "75%         1.000000\n",
       "max         9.000000\n",
       "Name: crime_num, dtype: float64"
      ]
     },
     "execution_count": 17,
     "metadata": {},
     "output_type": "execute_result"
    }
   ],
   "source": [
    "rec2data['crime_num'] = (rec2data.iloc[:,3:29] != 0).sum(axis=1)\n",
    "rec2data['crime_num'].describe()"
   ]
  },
  {
   "cell_type": "code",
   "execution_count": 18,
   "metadata": {},
   "outputs": [
    {
     "data": {
      "text/plain": [
       "array([[<AxesSubplot:title={'center':'crime_num'}>]], dtype=object)"
      ]
     },
     "execution_count": 18,
     "metadata": {},
     "output_type": "execute_result"
    },
    {
     "data": {
      "image/png": "[encoded data removed]",
      "text/plain": [
       "<Figure size 432x288 with 1 Axes>"
      ]
     },
     "metadata": {
      "needs_background": "light"
     },
     "output_type": "display_data"
    }
   ],
   "source": [
    "rec2data.hist(column = \"crime_num\", bins = range(10))"
   ]
  },
  {
   "cell_type": "code",
   "execution_count": 19,
   "metadata": {},
   "outputs": [
    {
     "data": {
      "text/plain": [
       "0.33798604187437686"
      ]
     },
     "execution_count": 19,
     "metadata": {},
     "output_type": "execute_result"
    }
   ],
   "source": [
    "(rec2data['crime_num'] > 0).sum() / 1003\n",
    "\n",
    "# Even fewer crime records here. Maybe I need to merge these data frames to get the whole picture."
   ]
  },
  {
   "cell_type": "code",
   "execution_count": 20,
   "metadata": {},
   "outputs": [
    {
     "data": {
      "text/plain": [
       "0.9531405782652044"
      ]
     },
     "execution_count": 20,
     "metadata": {},
     "output_type": "execute_result"
    }
   ],
   "source": [
    "(rec1data['crime_num'] > 0).sum() / 1003 + (rec2data['crime_num'] > 0).sum() / 1003\n",
    "\n",
    "# This is close enough to 1 that I'm wondering if each prisoner only has a crime record in \n",
    "# one of the two datasets."
   ]
  },
  {
   "cell_type": "code",
   "execution_count": 21,
   "metadata": {},
   "outputs": [
    {
     "data": {
      "text/html": [
       "<div>\n",
       "<style scoped>\n",
       "    .dataframe tbody tr th:only-of-type {\n",
       "        vertical-align: middle;\n",
       "    }\n",
       "\n",
       "    .dataframe tbody tr th {\n",
       "        vertical-align: top;\n",
       "    }\n",
       "\n",
       "    .dataframe thead th {\n",
       "        text-align: right;\n",
       "    }\n",
       "</style>\n",
       "<table border=\"1\" class=\"dataframe\">\n",
       "  <thead>\n",
       "    <tr style=\"text-align: right;\">\n",
       "      <th></th>\n",
       "      <th>id</th>\n",
       "      <th>crime_num_1</th>\n",
       "      <th>crime_num_2</th>\n",
       "      <th>crime_num_tot</th>\n",
       "    </tr>\n",
       "  </thead>\n",
       "  <tbody>\n",
       "    <tr>\n",
       "      <th>0</th>\n",
       "      <td>1</td>\n",
       "      <td>1</td>\n",
       "      <td>4</td>\n",
       "      <td>5</td>\n",
       "    </tr>\n",
       "    <tr>\n",
       "      <th>1</th>\n",
       "      <td>2</td>\n",
       "      <td>1</td>\n",
       "      <td>0</td>\n",
       "      <td>1</td>\n",
       "    </tr>\n",
       "    <tr>\n",
       "      <th>2</th>\n",
       "      <td>3</td>\n",
       "      <td>1</td>\n",
       "      <td>2</td>\n",
       "      <td>3</td>\n",
       "    </tr>\n",
       "    <tr>\n",
       "      <th>3</th>\n",
       "      <td>4</td>\n",
       "      <td>1</td>\n",
       "      <td>0</td>\n",
       "      <td>1</td>\n",
       "    </tr>\n",
       "    <tr>\n",
       "      <th>4</th>\n",
       "      <td>5</td>\n",
       "      <td>1</td>\n",
       "      <td>3</td>\n",
       "      <td>4</td>\n",
       "    </tr>\n",
       "  </tbody>\n",
       "</table>\n",
       "</div>"
      ],
      "text/plain": [
       "   id  crime_num_1  crime_num_2  crime_num_tot\n",
       "0   1            1            4              5\n",
       "1   2            1            0              1\n",
       "2   3            1            2              3\n",
       "3   4            1            0              1\n",
       "4   5            1            3              4"
      ]
     },
     "execution_count": 21,
     "metadata": {},
     "output_type": "execute_result"
    }
   ],
   "source": [
    "# calculating the number of crimes across both datasets for each prisoner\n",
    "rec1_crimenum = rec1data[[\"id\",\"crime_num\"]]\n",
    "rec2_crimenum = rec2data[[\"id\", \"crime_num\"]]\n",
    "comb_data = rec1_crimenum.merge(rec2_crimenum, on = \"id\", how = \"outer\")\n",
    "comb_data.columns = [\"id\", \"crime_num_1\", \"crime_num_2\"]\n",
    "comb_data['crime_num_tot'] = comb_data[\"crime_num_1\"] + comb_data[\"crime_num_2\"]\n",
    "comb_data.head()"
   ]
  },
  {
   "cell_type": "code",
   "execution_count": 22,
   "metadata": {},
   "outputs": [
    {
     "data": {
      "text/plain": [
       "0.6151545363908275"
      ]
     },
     "execution_count": 22,
     "metadata": {},
     "output_type": "execute_result"
    }
   ],
   "source": [
    "(comb_data[\"crime_num_tot\"] > 0).sum() / 1003\n",
    "\n",
    "# Ok, so my initial hypothesis was wrong. I don't know why there are prisoners \n",
    "# who weren't convicted of a crime - maybe they were in jail awaiting trial?\n",
    "# In any case, I'll likely just use the ones who were convicted. "
   ]
  },
  {
   "cell_type": "markdown",
   "metadata": {},
   "source": [
    "### Psychiatric Contact Data"
   ]
  },
  {
   "cell_type": "code",
   "execution_count": 25,
   "metadata": {},
   "outputs": [
    {
     "data": {
      "text/html": [
       "<div>\n",
       "<style scoped>\n",
       "    .dataframe tbody tr th:only-of-type {\n",
       "        vertical-align: middle;\n",
       "    }\n",
       "\n",
       "    .dataframe tbody tr th {\n",
       "        vertical-align: top;\n",
       "    }\n",
       "\n",
       "    .dataframe thead th {\n",
       "        text-align: right;\n",
       "    }\n",
       "</style>\n",
       "<table border=\"1\" class=\"dataframe\">\n",
       "  <thead>\n",
       "    <tr style=\"text-align: right;\">\n",
       "      <th></th>\n",
       "      <th>Unnamed: 0</th>\n",
       "      <th>id</th>\n",
       "      <th>contact</th>\n",
       "      <th>date_contact</th>\n",
       "      <th>facility</th>\n",
       "      <th>address</th>\n",
       "      <th>diagnosis</th>\n",
       "      <th>service</th>\n",
       "      <th>date_term</th>\n",
       "      <th>reason_term</th>\n",
       "    </tr>\n",
       "  </thead>\n",
       "  <tbody>\n",
       "    <tr>\n",
       "      <th>0</th>\n",
       "      <td>1</td>\n",
       "      <td>1</td>\n",
       "      <td>1</td>\n",
       "      <td>19600804</td>\n",
       "      <td>1</td>\n",
       "      <td>100</td>\n",
       "      <td>103</td>\n",
       "      <td>0</td>\n",
       "      <td>19600808</td>\n",
       "      <td>0</td>\n",
       "    </tr>\n",
       "    <tr>\n",
       "      <th>1</th>\n",
       "      <td>2</td>\n",
       "      <td>1</td>\n",
       "      <td>2</td>\n",
       "      <td>19600809</td>\n",
       "      <td>2</td>\n",
       "      <td>100</td>\n",
       "      <td>715</td>\n",
       "      <td>1</td>\n",
       "      <td>19601130</td>\n",
       "      <td>9</td>\n",
       "    </tr>\n",
       "    <tr>\n",
       "      <th>2</th>\n",
       "      <td>3</td>\n",
       "      <td>1</td>\n",
       "      <td>3</td>\n",
       "      <td>19640320</td>\n",
       "      <td>1</td>\n",
       "      <td>100</td>\n",
       "      <td>715</td>\n",
       "      <td>0</td>\n",
       "      <td>19640401</td>\n",
       "      <td>0</td>\n",
       "    </tr>\n",
       "    <tr>\n",
       "      <th>3</th>\n",
       "      <td>4</td>\n",
       "      <td>1</td>\n",
       "      <td>4</td>\n",
       "      <td>19640910</td>\n",
       "      <td>2</td>\n",
       "      <td>100</td>\n",
       "      <td>715</td>\n",
       "      <td>0</td>\n",
       "      <td>19641027</td>\n",
       "      <td>9</td>\n",
       "    </tr>\n",
       "    <tr>\n",
       "      <th>4</th>\n",
       "      <td>5</td>\n",
       "      <td>1</td>\n",
       "      <td>5</td>\n",
       "      <td>19641109</td>\n",
       "      <td>1</td>\n",
       "      <td>100</td>\n",
       "      <td>103</td>\n",
       "      <td>0</td>\n",
       "      <td>19641113</td>\n",
       "      <td>0</td>\n",
       "    </tr>\n",
       "  </tbody>\n",
       "</table>\n",
       "</div>"
      ],
      "text/plain": [
       "   Unnamed: 0  id  contact  date_contact  facility address diagnosis  service  \\\n",
       "0           1   1        1      19600804         1     100       103        0   \n",
       "1           2   1        2      19600809         2     100       715        1   \n",
       "2           3   1        3      19640320         1     100       715        0   \n",
       "3           4   1        4      19640910         2     100       715        0   \n",
       "4           5   1        5      19641109         1     100       103        0   \n",
       "\n",
       "   date_term  reason_term  \n",
       "0   19600808            0  \n",
       "1   19601130            9  \n",
       "2   19640401            0  \n",
       "3   19641027            9  \n",
       "4   19641113            0  "
      ]
     },
     "execution_count": 25,
     "metadata": {},
     "output_type": "execute_result"
    }
   ],
   "source": [
    "# I want to convert the date columns to datetime objects\n",
    "\n",
    "# first have to add a 19 to each of them for as_datetime to work\n",
    "psychdata[\"date_contact\"] = psychdata[\"date_contact\"] + 19000000\n",
    "psychdata[\"date_term\"] = psychdata[\"date_term\"] + 19000000\n",
    "psychdata.head()"
   ]
  },
  {
   "cell_type": "code",
   "execution_count": 26,
   "metadata": {},
   "outputs": [
    {
     "name": "stdout",
     "output_type": "stream",
     "text": [
      "<class 'pandas.core.frame.DataFrame'>\n",
      "RangeIndex: 4548 entries, 0 to 4547\n",
      "Data columns (total 10 columns):\n",
      " #   Column        Non-Null Count  Dtype         \n",
      "---  ------        --------------  -----         \n",
      " 0   Unnamed: 0    4548 non-null   int64         \n",
      " 1   id            4548 non-null   int64         \n",
      " 2   contact       4548 non-null   int64         \n",
      " 3   date_contact  4545 non-null   datetime64[ns]\n",
      " 4   facility      4548 non-null   int64         \n",
      " 5   address       4548 non-null   object        \n",
      " 6   diagnosis     4548 non-null   object        \n",
      " 7   service       4548 non-null   int64         \n",
      " 8   date_term     4394 non-null   datetime64[ns]\n",
      " 9   reason_term   4548 non-null   int64         \n",
      "dtypes: datetime64[ns](2), int64(6), object(2)\n",
      "memory usage: 355.4+ KB\n"
     ]
    }
   ],
   "source": [
    "# Converting to datetime\n",
    "psychdata[\"date_contact\"] = pd.to_datetime(psychdata[\"date_contact\"], format='%Y%m%d', errors = \"coerce\")\n",
    "psychdata[\"date_term\"] = pd.to_datetime(psychdata[\"date_term\"], format='%Y%m%d', errors = \"coerce\")\n",
    "psychdata.info()"
   ]
  },
  {
   "cell_type": "code",
   "execution_count": 27,
   "metadata": {},
   "outputs": [
    {
     "data": {
      "text/html": [
       "<div>\n",
       "<style scoped>\n",
       "    .dataframe tbody tr th:only-of-type {\n",
       "        vertical-align: middle;\n",
       "    }\n",
       "\n",
       "    .dataframe tbody tr th {\n",
       "        vertical-align: top;\n",
       "    }\n",
       "\n",
       "    .dataframe thead th {\n",
       "        text-align: right;\n",
       "    }\n",
       "</style>\n",
       "<table border=\"1\" class=\"dataframe\">\n",
       "  <thead>\n",
       "    <tr style=\"text-align: right;\">\n",
       "      <th></th>\n",
       "      <th>Unnamed: 0</th>\n",
       "      <th>id</th>\n",
       "      <th>contact</th>\n",
       "      <th>date_contact</th>\n",
       "      <th>facility</th>\n",
       "      <th>address</th>\n",
       "      <th>diagnosis</th>\n",
       "      <th>service</th>\n",
       "      <th>date_term</th>\n",
       "      <th>reason_term</th>\n",
       "      <th>length_treat</th>\n",
       "    </tr>\n",
       "  </thead>\n",
       "  <tbody>\n",
       "    <tr>\n",
       "      <th>0</th>\n",
       "      <td>1</td>\n",
       "      <td>1</td>\n",
       "      <td>1</td>\n",
       "      <td>1960-08-04</td>\n",
       "      <td>1</td>\n",
       "      <td>100</td>\n",
       "      <td>103</td>\n",
       "      <td>0</td>\n",
       "      <td>1960-08-08</td>\n",
       "      <td>0</td>\n",
       "      <td>4.0</td>\n",
       "    </tr>\n",
       "    <tr>\n",
       "      <th>1</th>\n",
       "      <td>2</td>\n",
       "      <td>1</td>\n",
       "      <td>2</td>\n",
       "      <td>1960-08-09</td>\n",
       "      <td>2</td>\n",
       "      <td>100</td>\n",
       "      <td>715</td>\n",
       "      <td>1</td>\n",
       "      <td>1960-11-30</td>\n",
       "      <td>9</td>\n",
       "      <td>113.0</td>\n",
       "    </tr>\n",
       "    <tr>\n",
       "      <th>2</th>\n",
       "      <td>3</td>\n",
       "      <td>1</td>\n",
       "      <td>3</td>\n",
       "      <td>1964-03-20</td>\n",
       "      <td>1</td>\n",
       "      <td>100</td>\n",
       "      <td>715</td>\n",
       "      <td>0</td>\n",
       "      <td>1964-04-01</td>\n",
       "      <td>0</td>\n",
       "      <td>12.0</td>\n",
       "    </tr>\n",
       "    <tr>\n",
       "      <th>3</th>\n",
       "      <td>4</td>\n",
       "      <td>1</td>\n",
       "      <td>4</td>\n",
       "      <td>1964-09-10</td>\n",
       "      <td>2</td>\n",
       "      <td>100</td>\n",
       "      <td>715</td>\n",
       "      <td>0</td>\n",
       "      <td>1964-10-27</td>\n",
       "      <td>9</td>\n",
       "      <td>47.0</td>\n",
       "    </tr>\n",
       "    <tr>\n",
       "      <th>4</th>\n",
       "      <td>5</td>\n",
       "      <td>1</td>\n",
       "      <td>5</td>\n",
       "      <td>1964-11-09</td>\n",
       "      <td>1</td>\n",
       "      <td>100</td>\n",
       "      <td>103</td>\n",
       "      <td>0</td>\n",
       "      <td>1964-11-13</td>\n",
       "      <td>0</td>\n",
       "      <td>4.0</td>\n",
       "    </tr>\n",
       "  </tbody>\n",
       "</table>\n",
       "</div>"
      ],
      "text/plain": [
       "   Unnamed: 0  id  contact date_contact  facility address diagnosis  service  \\\n",
       "0           1   1        1   1960-08-04         1     100       103        0   \n",
       "1           2   1        2   1960-08-09         2     100       715        1   \n",
       "2           3   1        3   1964-03-20         1     100       715        0   \n",
       "3           4   1        4   1964-09-10         2     100       715        0   \n",
       "4           5   1        5   1964-11-09         1     100       103        0   \n",
       "\n",
       "   date_term  reason_term  length_treat  \n",
       "0 1960-08-08            0           4.0  \n",
       "1 1960-11-30            9         113.0  \n",
       "2 1964-04-01            0          12.0  \n",
       "3 1964-10-27            9          47.0  \n",
       "4 1964-11-13            0           4.0  "
      ]
     },
     "execution_count": 27,
     "metadata": {},
     "output_type": "execute_result"
    }
   ],
   "source": [
    "# Adding new variable for length of treatment\n",
    "psychdata[\"length_treat\"] = (psychdata[\"date_term\"] - psychdata[\"date_contact\"]).dt.days\n",
    "psychdata.head()"
   ]
  },
  {
   "cell_type": "code",
   "execution_count": 28,
   "metadata": {},
   "outputs": [
    {
     "name": "stdout",
     "output_type": "stream",
     "text": [
      "680828\n",
      "680406\n"
     ]
    },
    {
     "name": "stderr",
     "output_type": "stream",
     "text": [
      "<ipython-input-28-f823de1b82a2>:13: SettingWithCopyWarning: \n",
      "A value is trying to be set on a copy of a slice from a DataFrame\n",
      "\n",
      "See the caveats in the documentation: https://pandas.pydata.org/pandas-docs/stable/user_guide/indexing.html#returning-a-view-versus-a-copy\n",
      "  psychdata[\"length_treat\"][3597] = None\n",
      "<ipython-input-28-f823de1b82a2>:14: SettingWithCopyWarning: \n",
      "A value is trying to be set on a copy of a slice from a DataFrame\n",
      "\n",
      "See the caveats in the documentation: https://pandas.pydata.org/pandas-docs/stable/user_guide/indexing.html#returning-a-view-versus-a-copy\n",
      "  psychdata[\"date_contact\"][3597] = None\n",
      "<ipython-input-28-f823de1b82a2>:15: SettingWithCopyWarning: \n",
      "A value is trying to be set on a copy of a slice from a DataFrame\n",
      "\n",
      "See the caveats in the documentation: https://pandas.pydata.org/pandas-docs/stable/user_guide/indexing.html#returning-a-view-versus-a-copy\n",
      "  psychdata[\"date_term\"][3597] = None\n"
     ]
    }
   ],
   "source": [
    "# Something is weird here!  \n",
    "\n",
    "(psychdata[\"length_treat\"] < 0).sum()\n",
    "np.argmin(psychdata[\"length_treat\"])\n",
    "\n",
    "# I've modified the original data frame so will have to import it again\n",
    "psychdata_org = pd.read_csv(\"../data/processed/psychdata.csv\")\n",
    "print(psychdata_org[\"date_contact\"][3597])\n",
    "print(psychdata_org[\"date_term\"][3597])\n",
    "\n",
    "# Looks like this is an error in the data. I will just delete that value.\n",
    "\n",
    "psychdata[\"length_treat\"][3597] = None\n",
    "psychdata[\"date_contact\"][3597] = None\n",
    "psychdata[\"date_term\"][3597] = None"
   ]
  },
  {
   "cell_type": "code",
   "execution_count": 29,
   "metadata": {},
   "outputs": [
    {
     "data": {
      "text/plain": [
       "array([[<AxesSubplot:title={'center':'length_treat'}>]], dtype=object)"
      ]
     },
     "execution_count": 29,
     "metadata": {},
     "output_type": "execute_result"
    },
    {
     "data": {
      "image/png": "[encoded data removed]",
      "text/plain": [
       "<Figure size 432x288 with 1 Axes>"
      ]
     },
     "metadata": {
      "needs_background": "light"
     },
     "output_type": "display_data"
    }
   ],
   "source": [
    "# Histogram of treatment length\n",
    "psychdata.hist(column = \"length_treat\")"
   ]
  },
  {
   "cell_type": "code",
   "execution_count": 31,
   "metadata": {},
   "outputs": [
    {
     "data": {
      "text/plain": [
       "count    4392.000000\n",
       "mean       45.910974\n",
       "std       144.634461\n",
       "min         0.000000\n",
       "25%         0.000000\n",
       "50%         5.000000\n",
       "75%        21.000000\n",
       "max      2590.000000\n",
       "Name: length_treat, dtype: float64"
      ]
     },
     "execution_count": 31,
     "metadata": {},
     "output_type": "execute_result"
    }
   ],
   "source": [
    "psychdata[\"length_treat\"].describe()\n",
    "\n",
    "# Much better. Wow, someone was in treatment for over 7 years "
   ]
  },
  {
   "cell_type": "markdown",
   "metadata": {},
   "source": [
    "## Analysis Pipeline"
   ]
  },
  {
   "cell_type": "markdown",
   "metadata": {},
   "source": [
    "### Step 1: Load data"
   ]
  },
  {
   "cell_type": "code",
   "execution_count": 32,
   "metadata": {},
   "outputs": [],
   "source": [
    "rec1data = pd.read_csv(\"../data/processed/rec1data.csv\")\n",
    "psychdata = pd.read_csv(\"../data/processed/psychdata.csv\")"
   ]
  },
  {
   "cell_type": "markdown",
   "metadata": {},
   "source": [
    "### Step 2: Clean data"
   ]
  },
  {
   "cell_type": "code",
   "execution_count": 33,
   "metadata": {},
   "outputs": [
    {
     "name": "stderr",
     "output_type": "stream",
     "text": [
      "<ipython-input-33-4450631df2b6>:2: SettingWithCopyWarning: \n",
      "A value is trying to be set on a copy of a slice from a DataFrame\n",
      "\n",
      "See the caveats in the documentation: https://pandas.pydata.org/pandas-docs/stable/user_guide/indexing.html#returning-a-view-versus-a-copy\n",
      "  psychdata[\"date_contact\"][3597] = None\n",
      "<ipython-input-33-4450631df2b6>:3: SettingWithCopyWarning: \n",
      "A value is trying to be set on a copy of a slice from a DataFrame\n",
      "\n",
      "See the caveats in the documentation: https://pandas.pydata.org/pandas-docs/stable/user_guide/indexing.html#returning-a-view-versus-a-copy\n",
      "  psychdata[\"date_term\"][3597] = None\n"
     ]
    }
   ],
   "source": [
    "# Incorrect data\n",
    "psychdata[\"date_contact\"][3597] = None\n",
    "psychdata[\"date_term\"][3597] = None"
   ]
  },
  {
   "cell_type": "code",
   "execution_count": 34,
   "metadata": {},
   "outputs": [],
   "source": [
    "# Convert dates to usable format\n",
    "psychdata[\"date_contact\"] = psychdata[\"date_contact\"] + 19000000\n",
    "psychdata[\"date_term\"] = psychdata[\"date_term\"] + 19000000"
   ]
  },
  {
   "cell_type": "code",
   "execution_count": 35,
   "metadata": {},
   "outputs": [],
   "source": [
    "# Remove unneeded columns\n",
    "psychdata = psychdata[[\"id\", \"contact\", \"date_contact\", \"diagnosis\", \"service\", \"date_term\", \"reason_term\"]]\n",
    "del rec1data[\"rid\"]"
   ]
  },
  {
   "cell_type": "code",
   "execution_count": 36,
   "metadata": {},
   "outputs": [],
   "source": [
    "# Remove unneeded rows from matched non-prisoner cases\n",
    "rec1data = rec1data[rec1data[\"crime01\"] > 0]"
   ]
  },
  {
   "cell_type": "code",
   "execution_count": 37,
   "metadata": {},
   "outputs": [
    {
     "name": "stdout",
     "output_type": "stream",
     "text": [
      "<class 'pandas.core.frame.DataFrame'>\n",
      "Int64Index: 3479 entries, 0 to 3478\n",
      "Data columns (total 31 columns):\n",
      " #   Column        Non-Null Count  Dtype  \n",
      "---  ------        --------------  -----  \n",
      " 0   Unnamed: 0    3479 non-null   int64  \n",
      " 1   id            3479 non-null   int64  \n",
      " 2   sex           3479 non-null   int64  \n",
      " 3   birth         3479 non-null   int64  \n",
      " 4   race          3479 non-null   int64  \n",
      " 5   educ          3479 non-null   int64  \n",
      " 6   marital       3479 non-null   int64  \n",
      " 7   children      3479 non-null   int64  \n",
      " 8   occupat       3479 non-null   int64  \n",
      " 9   arrests       3479 non-null   int64  \n",
      " 10  jail          3479 non-null   int64  \n",
      " 11  crime01       3479 non-null   int64  \n",
      " 12  crime02       3479 non-null   int64  \n",
      " 13  crime03       3479 non-null   int64  \n",
      " 14  crime04       3479 non-null   int64  \n",
      " 15  crime05       3479 non-null   int64  \n",
      " 16  crime06       3479 non-null   int64  \n",
      " 17  crime07       3479 non-null   int64  \n",
      " 18  crime08       3479 non-null   int64  \n",
      " 19  crime09       3479 non-null   int64  \n",
      " 20  crime10       3479 non-null   int64  \n",
      " 21  crime11       3479 non-null   int64  \n",
      " 22  crime12       3479 non-null   int64  \n",
      " 23  crime13       3479 non-null   int64  \n",
      " 24  crime14       3479 non-null   int64  \n",
      " 25  contact       3248 non-null   float64\n",
      " 26  date_contact  3248 non-null   float64\n",
      " 27  diagnosis     3248 non-null   object \n",
      " 28  service       3248 non-null   float64\n",
      " 29  date_term     3248 non-null   float64\n",
      " 30  reason_term   3248 non-null   float64\n",
      "dtypes: float64(5), int64(25), object(1)\n",
      "memory usage: 869.8+ KB\n"
     ]
    }
   ],
   "source": [
    "# Merge with psychdata, which will delete rows from non-prisoner cases\n",
    "dta = rec1data.merge(psychdata, on = \"id\", how = \"left\")\n",
    "dta.info()"
   ]
  },
  {
   "cell_type": "markdown",
   "metadata": {},
   "source": [
    "### Step 3: Process data"
   ]
  },
  {
   "cell_type": "code",
   "execution_count": 38,
   "metadata": {},
   "outputs": [
    {
     "data": {
      "text/plain": [
       "count    3155.000000\n",
       "mean       37.560697\n",
       "std       118.498069\n",
       "min         0.000000\n",
       "25%         0.000000\n",
       "50%         5.000000\n",
       "75%        16.000000\n",
       "max      2590.000000\n",
       "Name: length_treat, dtype: float64"
      ]
     },
     "execution_count": 38,
     "metadata": {},
     "output_type": "execute_result"
    }
   ],
   "source": [
    "# Create length of treatment variable\n",
    "dta[\"date_contact\"] = pd.to_datetime(dta[\"date_contact\"], format='%Y%m%d', errors = \"coerce\")\n",
    "dta[\"date_term\"] = pd.to_datetime(dta[\"date_term\"], format='%Y%m%d', errors = \"coerce\")\n",
    "dta[\"length_treat\"] = (dta[\"date_term\"] - dta[\"date_contact\"]).dt.days\n",
    "dta[\"length_treat\"].describe()"
   ]
  },
  {
   "cell_type": "code",
   "execution_count": 39,
   "metadata": {},
   "outputs": [
    {
     "data": {
      "text/plain": [
       "count    3479.000000\n",
       "mean        1.791894\n",
       "std         2.000096\n",
       "min         1.000000\n",
       "25%         1.000000\n",
       "50%         1.000000\n",
       "75%         2.000000\n",
       "max        13.000000\n",
       "Name: crime_num, dtype: float64"
      ]
     },
     "execution_count": 39,
     "metadata": {},
     "output_type": "execute_result"
    }
   ],
   "source": [
    "# Create number of crimes variable\n",
    "dta['crime_num'] = (dta.iloc[:,11:24] != 0).sum(axis=1)\n",
    "dta[\"crime_num\"].describe()"
   ]
  },
  {
   "cell_type": "code",
   "execution_count": 40,
   "metadata": {},
   "outputs": [],
   "source": [
    "dta.to_csv(\"processed_data.csv\")"
   ]
  },
  {
   "cell_type": "markdown",
   "metadata": {},
   "source": [
    "### Step 4: Wrangle data\n",
    "I already did this step earlier."
   ]
  },
  {
   "cell_type": "markdown",
   "metadata": {},
   "source": [
    "## Main Analysis"
   ]
  },
  {
   "cell_type": "code",
   "execution_count": 41,
   "metadata": {},
   "outputs": [],
   "source": [
    "# survival analysis libraries\n",
    "import matplotlib.pyplot as plt\n",
    "from lifelines import KaplanMeierFitter\n",
    "from lifelines import CoxPHFitter\n",
    "kmf = KaplanMeierFitter()\n",
    "cph = CoxPHFitter()"
   ]
  },
  {
   "cell_type": "code",
   "execution_count": 51,
   "metadata": {},
   "outputs": [
    {
     "name": "stdout",
     "output_type": "stream",
     "text": [
      "<class 'pandas.core.frame.DataFrame'>\n",
      "Int64Index: 4392 entries, 0 to 4553\n",
      "Data columns (total 31 columns):\n",
      " #   Column       Non-Null Count  Dtype         \n",
      "---  ------       --------------  -----         \n",
      " 0   id           4392 non-null   int64         \n",
      " 1   sex          407 non-null    float64       \n",
      " 2   birth        407 non-null    float64       \n",
      " 3   race         407 non-null    float64       \n",
      " 4   educ         407 non-null    float64       \n",
      " 5   marital      407 non-null    float64       \n",
      " 6   children     407 non-null    float64       \n",
      " 7   occupat      407 non-null    float64       \n",
      " 8   arrests      407 non-null    float64       \n",
      " 9   jail         407 non-null    float64       \n",
      " 10  crime01      407 non-null    float64       \n",
      " 11  crime02      407 non-null    float64       \n",
      " 12  crime03      407 non-null    float64       \n",
      " 13  crime04      407 non-null    float64       \n",
      " 14  crime05      407 non-null    float64       \n",
      " 15  crime06      407 non-null    float64       \n",
      " 16  crime07      407 non-null    float64       \n",
      " 17  crime08      407 non-null    float64       \n",
      " 18  crime09      407 non-null    float64       \n",
      " 19  crime10      407 non-null    float64       \n",
      " 20  crime11      407 non-null    float64       \n",
      " 21  crime12      407 non-null    float64       \n",
      " 22  crime13      407 non-null    float64       \n",
      " 23  crime14      407 non-null    float64       \n",
      " 24  crime_num    407 non-null    float64       \n",
      " 25  diagnosis    4392 non-null   object        \n",
      " 26  service      4392 non-null   float64       \n",
      " 27  reason_term  4392 non-null   float64       \n",
      " 28  contact      4392 non-null   datetime64[ns]\n",
      " 29  term         4392 non-null   datetime64[ns]\n",
      " 30  length       4392 non-null   float64       \n",
      "dtypes: datetime64[ns](2), float64(27), int64(1), object(1)\n",
      "memory usage: 1.1+ MB\n"
     ]
    }
   ],
   "source": [
    "import project_functions1 # This is called a relative import\n",
    "data = project_functions1.load_and_process(\"../data/processed/rec1data.csv\", \"../data/processed/psychdata.csv\")\n",
    "data.info()"
   ]
  },
  {
   "cell_type": "code",
   "execution_count": 56,
   "metadata": {},
   "outputs": [],
   "source": [
    "# I need another column here indicating that they all got out of treatment \n",
    "data[\"event\"] = 1"
   ]
  },
  {
   "cell_type": "code",
   "execution_count": 57,
   "metadata": {},
   "outputs": [
    {
     "data": {
      "text/plain": [
       "<lifelines.KaplanMeierFitter:\"KM_estimate\", fitted with 4392 total observations, 0 right-censored observations>"
      ]
     },
     "execution_count": 57,
     "metadata": {},
     "output_type": "execute_result"
    }
   ],
   "source": [
    "# fitting model\n",
    "kmf.fit(durations =  data[\"length\"], event_observed = data[\"event\"])\n"
   ]
  },
  {
   "cell_type": "code",
   "execution_count": 60,
   "metadata": {},
   "outputs": [
    {
     "name": "stdout",
     "output_type": "stream",
     "text": [
      "          KM_estimate\n",
      "timeline             \n",
      "0.0          0.622723\n",
      "1.0          0.606102\n",
      "2.0          0.584472\n",
      "3.0          0.559426\n",
      "4.0          0.524818\n",
      "...               ...\n",
      "1852.0       0.000911\n",
      "1881.0       0.000683\n",
      "2155.0       0.000455\n",
      "2340.0       0.000228\n",
      "2590.0       0.000000\n",
      "\n",
      "[393 rows x 1 columns]\n"
     ]
    }
   ],
   "source": [
    "print(kmf.survival_function_)\n",
    "\n",
    "# This survival function indicates the likelihood of a prisoner remaining in treatment for a specified number of days. \n",
    "# The likelihood of a prisoner being in treatment for longer than 0 days is 62.3%, longer than 1 day is 60.6%, etc."
   ]
  },
  {
   "cell_type": "code",
   "execution_count": 65,
   "metadata": {},
   "outputs": [
    {
     "data": {
      "image/png": "[encoded data removed]",
      "text/plain": [
       "<Figure size 432x288 with 1 Axes>"
      ]
     },
     "metadata": {
      "needs_background": "light"
     },
     "output_type": "display_data"
    }
   ],
   "source": [
    "fig1 = kmf.plot()\n",
    "fig1.set(xlabel = \"Days in Treatment\", ylabel = \"Probability of Remaining in Treatment\",\n",
    "        title = \"Survival Function (Full Sample)\")\n",
    "fig1.legend_.remove()\n",
    "# This is the probability of remaining in treatment. There are no predictor \n",
    "# variables in the model yet."
   ]
  },
  {
   "cell_type": "code",
   "execution_count": 90,
   "metadata": {},
   "outputs": [
    {
     "data": {
      "text/plain": [
       "<lifelines.CoxPHFitter: fitted with 407 total observations, 0 right-censored observations>"
      ]
     },
     "execution_count": 90,
     "metadata": {},
     "output_type": "execute_result"
    }
   ],
   "source": [
    "# Adding predictor variables to the model\n",
    "cph_data = data[[\"arrests\", \"jail\", \"race\", \"crime_num\", \"length\", \"event\"]].dropna()\n",
    "cph.fit(cph_data, \"length\", event_col = \"event\")"
   ]
  },
  {
   "cell_type": "code",
   "execution_count": 89,
   "metadata": {},
   "outputs": [
    {
     "data": {
      "text/html": [
       "<div>\n",
       "<style scoped>\n",
       "    .dataframe tbody tr th:only-of-type {\n",
       "        vertical-align: middle;\n",
       "    }\n",
       "\n",
       "    .dataframe tbody tr th {\n",
       "        vertical-align: top;\n",
       "    }\n",
       "\n",
       "    .dataframe thead th {\n",
       "        text-align: right;\n",
       "    }\n",
       "</style>\n",
       "<table border=\"1\" class=\"dataframe\">\n",
       "  <tbody>\n",
       "    <tr>\n",
       "      <th>model</th>\n",
       "      <td>lifelines.CoxPHFitter</td>\n",
       "    </tr>\n",
       "    <tr>\n",
       "      <th>duration col</th>\n",
       "      <td>'length'</td>\n",
       "    </tr>\n",
       "    <tr>\n",
       "      <th>event col</th>\n",
       "      <td>'event'</td>\n",
       "    </tr>\n",
       "    <tr>\n",
       "      <th>baseline estimation</th>\n",
       "      <td>breslow</td>\n",
       "    </tr>\n",
       "    <tr>\n",
       "      <th>number of observations</th>\n",
       "      <td>407</td>\n",
       "    </tr>\n",
       "    <tr>\n",
       "      <th>number of events observed</th>\n",
       "      <td>407</td>\n",
       "    </tr>\n",
       "    <tr>\n",
       "      <th>partial log-likelihood</th>\n",
       "      <td>-2034.46</td>\n",
       "    </tr>\n",
       "    <tr>\n",
       "      <th>time fit was run</th>\n",
       "      <td>2021-11-24 17:29:35 UTC</td>\n",
       "    </tr>\n",
       "  </tbody>\n",
       "</table>\n",
       "</div><table border=\"1\" class=\"dataframe\">\n",
       "  <thead>\n",
       "    <tr style=\"text-align: right;\">\n",
       "      <th style=\"min-width: 12px;\"></th>\n",
       "      <th style=\"min-width: 12px;\">coef</th>\n",
       "      <th style=\"min-width: 12px;\">exp(coef)</th>\n",
       "      <th style=\"min-width: 12px;\">se(coef)</th>\n",
       "      <th style=\"min-width: 12px;\">coef lower 95%</th>\n",
       "      <th style=\"min-width: 12px;\">coef upper 95%</th>\n",
       "      <th style=\"min-width: 12px;\">exp(coef) lower 95%</th>\n",
       "      <th style=\"min-width: 12px;\">exp(coef) upper 95%</th>\n",
       "      <th style=\"min-width: 12px;\">z</th>\n",
       "      <th style=\"min-width: 12px;\">p</th>\n",
       "      <th style=\"min-width: 12px;\">-log2(p)</th>\n",
       "    </tr>\n",
       "  </thead>\n",
       "  <tbody>\n",
       "    <tr>\n",
       "      <th>arrests</th>\n",
       "      <td>-0.11</td>\n",
       "      <td>0.90</td>\n",
       "      <td>0.30</td>\n",
       "      <td>-0.70</td>\n",
       "      <td>0.48</td>\n",
       "      <td>0.50</td>\n",
       "      <td>1.62</td>\n",
       "      <td>-0.36</td>\n",
       "      <td>0.72</td>\n",
       "      <td>0.48</td>\n",
       "    </tr>\n",
       "    <tr>\n",
       "      <th>race</th>\n",
       "      <td>-0.25</td>\n",
       "      <td>0.78</td>\n",
       "      <td>0.12</td>\n",
       "      <td>-0.49</td>\n",
       "      <td>-0.01</td>\n",
       "      <td>0.61</td>\n",
       "      <td>0.99</td>\n",
       "      <td>-2.03</td>\n",
       "      <td>0.04</td>\n",
       "      <td>4.57</td>\n",
       "    </tr>\n",
       "    <tr>\n",
       "      <th>crime_num</th>\n",
       "      <td>0.18</td>\n",
       "      <td>1.19</td>\n",
       "      <td>0.31</td>\n",
       "      <td>-0.43</td>\n",
       "      <td>0.79</td>\n",
       "      <td>0.65</td>\n",
       "      <td>2.20</td>\n",
       "      <td>0.57</td>\n",
       "      <td>0.57</td>\n",
       "      <td>0.81</td>\n",
       "    </tr>\n",
       "  </tbody>\n",
       "</table><br><div>\n",
       "<style scoped>\n",
       "    .dataframe tbody tr th:only-of-type {\n",
       "        vertical-align: middle;\n",
       "    }\n",
       "\n",
       "    .dataframe tbody tr th {\n",
       "        vertical-align: top;\n",
       "    }\n",
       "\n",
       "    .dataframe thead th {\n",
       "        text-align: right;\n",
       "    }\n",
       "</style>\n",
       "<table border=\"1\" class=\"dataframe\">\n",
       "  <tbody>\n",
       "    <tr>\n",
       "      <th>Concordance</th>\n",
       "      <td>0.56</td>\n",
       "    </tr>\n",
       "    <tr>\n",
       "      <th>Partial AIC</th>\n",
       "      <td>4074.93</td>\n",
       "    </tr>\n",
       "    <tr>\n",
       "      <th>log-likelihood ratio test</th>\n",
       "      <td>16.09 on 3 df</td>\n",
       "    </tr>\n",
       "    <tr>\n",
       "      <th>-log2(p) of ll-ratio test</th>\n",
       "      <td>9.85</td>\n",
       "    </tr>\n",
       "  </tbody>\n",
       "</table>\n",
       "</div>"
      ],
      "text/latex": [
       "\\begin{tabular}{lrrrrrrrrrr}\n",
       "\\toprule\n",
       "{} &  coef &  exp(coef) &  se(coef) &  coef lower 95\\% &  coef upper 95\\% &  exp(coef) lower 95\\% &  exp(coef) upper 95\\% &     z &    p &  -log2(p) \\\\\n",
       "covariate &       &            &           &                 &                 &                      &                      &       &      &           \\\\\n",
       "\\midrule\n",
       "arrests   & -0.11 &       0.90 &      0.30 &           -0.70 &            0.48 &                 0.50 &                 1.62 & -0.36 & 0.72 &      0.48 \\\\\n",
       "race      & -0.25 &       0.78 &      0.12 &           -0.49 &           -0.01 &                 0.61 &                 0.99 & -2.03 & 0.04 &      4.57 \\\\\n",
       "crime\\_num &  0.18 &       1.19 &      0.31 &           -0.43 &            0.79 &                 0.65 &                 2.20 &  0.57 & 0.57 &      0.81 \\\\\n",
       "\\bottomrule\n",
       "\\end{tabular}\n"
      ],
      "text/plain": [
       "<lifelines.CoxPHFitter: fitted with 407 total observations, 0 right-censored observations>\n",
       "             duration col = 'length'\n",
       "                event col = 'event'\n",
       "      baseline estimation = breslow\n",
       "   number of observations = 407\n",
       "number of events observed = 407\n",
       "   partial log-likelihood = -2034.46\n",
       "         time fit was run = 2021-11-24 17:29:35 UTC\n",
       "\n",
       "---\n",
       "            coef  exp(coef)   se(coef)   coef lower 95%   coef upper 95%  exp(coef) lower 95%  exp(coef) upper 95%\n",
       "covariate                                                                                                         \n",
       "arrests    -0.11       0.90       0.30            -0.70             0.48                 0.50                 1.62\n",
       "race       -0.25       0.78       0.12            -0.49            -0.01                 0.61                 0.99\n",
       "crime_num   0.18       1.19       0.31            -0.43             0.79                 0.65                 2.20\n",
       "\n",
       "              z    p   -log2(p)\n",
       "covariate                      \n",
       "arrests   -0.36 0.72       0.48\n",
       "race      -2.03 0.04       4.57\n",
       "crime_num  0.57 0.57       0.81\n",
       "---\n",
       "Concordance = 0.56\n",
       "Partial AIC = 4074.93\n",
       "log-likelihood ratio test = 16.09 on 3 df\n",
       "-log2(p) of ll-ratio test = 9.85"
      ]
     },
     "metadata": {},
     "output_type": "display_data"
    }
   ],
   "source": [
    "cph.print_summary()"
   ]
  },
  {
   "cell_type": "markdown",
   "metadata": {},
   "source": [
    "Number of arrests doesn't significantly predict length of psychiatric treatment. \n",
    "\n",
    "Time in jail doesn't significantly predict length of psychiatric treatment.\n",
    "\n",
    "Race predicts length of psychiatric treatment, but this is a categorical variable so we will have to probe further.\n",
    "\n",
    "Number of crimes doesn't significantly predict length of psychiatric treatment."
   ]
  },
  {
   "cell_type": "code",
   "execution_count": 69,
   "metadata": {},
   "outputs": [
    {
     "name": "stdout",
     "output_type": "stream",
     "text": [
      "275\n",
      "59\n",
      "275    8.0\n",
      "59     3.0\n",
      "Name: arrests, dtype: float64\n"
     ]
    }
   ],
   "source": [
    "# looking for peolpe with highest and lowest values of arrests and jail variables\n",
    "print(np.argmax(data[\"arrests\"]))\n",
    "print(np.argmin(data[\"arrests\"]))\n",
    "print(data[\"arrests\"][[275,59]])"
   ]
  },
  {
   "cell_type": "code",
   "execution_count": 72,
   "metadata": {},
   "outputs": [
    {
     "data": {
      "text/plain": [
       "<matplotlib.legend.Legend at 0x7fa7debee2b0>"
      ]
     },
     "execution_count": 72,
     "metadata": {},
     "output_type": "execute_result"
    },
    {
     "data": {
      "image/png": "[encoded data removed]",
      "text/plain": [
       "<Figure size 432x288 with 1 Axes>"
      ]
     },
     "metadata": {
      "needs_background": "light"
     },
     "output_type": "display_data"
    }
   ],
   "source": [
    "d_data = data.iloc[[275,59],:]\n",
    "fig2 = cph.predict_survival_function(d_data).plot()\n",
    "fig2.set(xlabel = \"Days in Treatment\", ylabel = \"Probability of Remaining in Treatment\",\n",
    "        title = \"Survival Function by Number of Arrests\")\n",
    "fig2.legend([\"High arrests (8)\", \"Low arrests (3)\"])"
   ]
  },
  {
   "cell_type": "markdown",
   "metadata": {},
   "source": [
    "A prisoner with 8 arrests is likely to be in psychiatric treatment for a shorter amount of time than a prisoner with 8 arrests. This is very strange and the complete opposite of what I would have expected. At the same time, both have a very high probability of getting out of treatment very quickly (within 5 days). "
   ]
  },
  {
   "cell_type": "code",
   "execution_count": 73,
   "metadata": {},
   "outputs": [
    {
     "name": "stdout",
     "output_type": "stream",
     "text": [
      "(array([0, 0, 0, 0, 0, 0, 0, 0, 0, 0, 0, 0, 0, 0, 0, 0, 0, 0, 0]), array([ 83,  84,  85,  86,  87,  88,  89,  90,  91,  92,  93,  94,  95,\n",
      "        96,  97,  98,  99, 100, 274]))\n",
      "(array([0, 0, 0, 0, 0, 0, 0, 0, 0, 0, 0, 0, 0, 0, 0, 0, 0, 0, 0, 0, 0, 0,\n",
      "       0]), array([ 74,  75,  76,  77,  78, 298, 299, 300, 301, 302, 303, 304, 305,\n",
      "       306, 307, 308, 309, 310, 311, 312, 399, 400, 401]))\n"
     ]
    }
   ],
   "source": [
    "# Looking for participants of different races with the same number of arrests\n",
    "data[\"arrests\"].median()\n",
    "screen = [(data[\"arrests\"] == 7) & (data[\"race\"] == 1)]\n",
    "print(np.nonzero(screen))\n",
    "screen = [(data[\"arrests\"] == 7) & (data[\"race\"] == 2)]\n",
    "print(np.nonzero(screen))\n",
    "\n"
   ]
  },
  {
   "cell_type": "code",
   "execution_count": 76,
   "metadata": {},
   "outputs": [
    {
     "data": {
      "text/plain": [
       "<matplotlib.legend.Legend at 0x7fa7e07c4b20>"
      ]
     },
     "execution_count": 76,
     "metadata": {},
     "output_type": "execute_result"
    },
    {
     "data": {
      "image/png": "[encoded data removed]",
      "text/plain": [
       "<Figure size 432x288 with 1 Axes>"
      ]
     },
     "metadata": {
      "needs_background": "light"
     },
     "output_type": "display_data"
    }
   ],
   "source": [
    "d_data = data.iloc[[83,74],:]\n",
    "fig3 = cph.predict_survival_function(d_data).plot()\n",
    "fig3.set(xlabel = \"Days in Treatment\", ylabel = \"Probability of Remaining in Treatment\",\n",
    "        title = \"Survival Function by Race at Median Number of Arrests\")\n",
    "fig3.legend([\"White\", \"Black\"])"
   ]
  },
  {
   "cell_type": "code",
   "execution_count": 77,
   "metadata": {},
   "outputs": [
    {
     "name": "stdout",
     "output_type": "stream",
     "text": [
      "(array([0, 0, 0, 0, 0, 0, 0, 0, 0, 0, 0, 0, 0, 0, 0, 0, 0, 0, 0, 0, 0, 0,\n",
      "       0, 0, 0, 0, 0, 0, 0, 0, 0, 0, 0, 0, 0, 0, 0, 0, 0, 0, 0, 0, 0, 0,\n",
      "       0, 0, 0, 0, 0, 0, 0, 0, 0, 0, 0, 0, 0, 0, 0, 0, 0]), array([ 59,  60,  61,  73, 101, 102, 103, 104, 105, 106, 107, 108, 109,\n",
      "       110, 111, 112, 113, 114, 115, 116, 117, 118, 119, 120, 121, 293,\n",
      "       294, 295, 296, 297, 313, 314, 315, 316, 317, 318, 319, 320, 321,\n",
      "       322, 323, 324, 325, 326, 327, 328, 329, 330, 331, 332, 333, 334,\n",
      "       335, 336, 337, 338, 339, 340, 341, 342, 343]))\n",
      "(array([0, 0, 0, 0, 0, 0, 0, 0, 0, 0, 0, 0, 0]), array([ 79,  80,  81,  82, 357, 358, 359, 360, 361, 362, 363, 364, 365]))\n"
     ]
    }
   ],
   "source": [
    "# Looking for participants of different races with the same number of arrests - higher and lower values this time\n",
    "screen = [(data[\"arrests\"] == 3) & (data[\"race\"] == 1)]\n",
    "print(np.nonzero(screen))\n",
    "screen = [(data[\"arrests\"] == 3) & (data[\"race\"] == 2)]\n",
    "print(np.nonzero(screen))"
   ]
  },
  {
   "cell_type": "code",
   "execution_count": 79,
   "metadata": {},
   "outputs": [
    {
     "data": {
      "text/plain": [
       "<matplotlib.legend.Legend at 0x7fa7e0a79670>"
      ]
     },
     "execution_count": 79,
     "metadata": {},
     "output_type": "execute_result"
    },
    {
     "data": {
      "image/png": "[encoded data removed]",
      "text/plain": [
       "<Figure size 432x288 with 1 Axes>"
      ]
     },
     "metadata": {
      "needs_background": "light"
     },
     "output_type": "display_data"
    }
   ],
   "source": [
    "d_data = data.iloc[[83,74,59,79],:]\n",
    "fig4 = cph.predict_survival_function(d_data).plot()\n",
    "fig4.set(xlabel = \"Days in Treatment\", ylabel = \"Probability of Remaining in Treatment\",\n",
    "        title = \"Survival Function by Race and Number of Arrests\")\n",
    "fig4.legend([\"White, median arrests (7)\", \"Black, median arrests (7)\", \n",
    "             \"White, low arrests (3)\", \"Black, low arrests (3)\"])"
   ]
  },
  {
   "cell_type": "markdown",
   "metadata": {},
   "source": [
    "The difference within race between low and median arrests is larger for Black prisoners. Having fewer arrests is associated with longer treatment time for Black prisoners to a greater extent than it is for White prisoners. "
   ]
  },
  {
   "cell_type": "markdown",
   "metadata": {},
   "source": [
    "### Conclusions\n",
    "\n",
    "The Caplan-Meier survival function indicated a very steep dropoff in the probability of remaining in treatment. In other words, the majority of prisoners were in psychiatric creatment for a very short time; however, a few remained in treatment for years. \n",
    "\n",
    "I used Cox regression to add predictor variables to the model to see whether these variables influenced the length of treatment. There were no significant effects of number of arrests, B = -0.12, 95% CI [-0.71, 0.47], p = .70; time spent in jail, B = 0.00, 95% CI [-0.00, 0.00], p = .69; or number of crimes, B = 0.18, 95% CI [-0.43, 0.79], p = .56. There was a significant effect of race, B = -0.26, 95% CI [-0.50, -0.01], p = .04.\n",
    "\n",
    "Inspection of survival functions by number of arrests and race indicated that Black prisoners spent longer in psychatric treatment compared to White prisoners. Prisoners with fewer arrests also spent longer in treatment, perhaps because being in psychatric treatment prevents one from being arrested; however, this effect was very small.\n",
    "\n",
    "Overall, this analysis indicates that race was the only factor analyzed that had a significant effect on time spent in psychatric treatment. Further analysis is needed to identify reasons for Black prisoners spending longer in treatment, as well as treatment patterns for prisoners of other races."
   ]
  }
 ],
 "metadata": {
  "kernelspec": {
   "display_name": "Python 3",
   "language": "python",
   "name": "python3"
  },
  "language_info": {
   "codemirror_mode": {
    "name": "ipython",
    "version": 3
   },
   "file_extension": ".py",
   "mimetype": "text/x-python",
   "name": "python",
   "nbconvert_exporter": "python",
   "pygments_lexer": "ipython3",
   "version": "3.9.5"
  }
 },
 "nbformat": 4,
 "nbformat_minor": 2
}
