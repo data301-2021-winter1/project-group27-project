{
 "cells": [
  {
   "cell_type": "markdown",
   "id": "56a5f419",
   "metadata": {},
   "source": [
    "# Rebecca's Analysis"
   ]
  },
  {
   "cell_type": "code",
   "execution_count": 1,
   "id": "14f080ec",
   "metadata": {},
   "outputs": [
    {
     "name": "stdout",
     "output_type": "stream",
     "text": [
      "<class 'pandas.core.frame.DataFrame'>\n",
      "Int64Index: 4392 entries, 0 to 4553\n",
      "Data columns (total 31 columns):\n",
      " #   Column       Non-Null Count  Dtype         \n",
      "---  ------       --------------  -----         \n",
      " 0   id           4392 non-null   int64         \n",
      " 1   sex          407 non-null    float64       \n",
      " 2   birth        407 non-null    float64       \n",
      " 3   race         407 non-null    float64       \n",
      " 4   educ         407 non-null    float64       \n",
      " 5   marital      407 non-null    float64       \n",
      " 6   children     407 non-null    float64       \n",
      " 7   occupat      407 non-null    float64       \n",
      " 8   arrests      407 non-null    float64       \n",
      " 9   jail         407 non-null    float64       \n",
      " 10  crime01      407 non-null    float64       \n",
      " 11  crime02      407 non-null    float64       \n",
      " 12  crime03      407 non-null    float64       \n",
      " 13  crime04      407 non-null    float64       \n",
      " 14  crime05      407 non-null    float64       \n",
      " 15  crime06      407 non-null    float64       \n",
      " 16  crime07      407 non-null    float64       \n",
      " 17  crime08      407 non-null    float64       \n",
      " 18  crime09      407 non-null    float64       \n",
      " 19  crime10      407 non-null    float64       \n",
      " 20  crime11      407 non-null    float64       \n",
      " 21  crime12      407 non-null    float64       \n",
      " 22  crime13      407 non-null    float64       \n",
      " 23  crime14      407 non-null    float64       \n",
      " 24  crime_num    407 non-null    float64       \n",
      " 25  diagnosis    4392 non-null   object        \n",
      " 26  service      4392 non-null   float64       \n",
      " 27  reason_term  4392 non-null   float64       \n",
      " 28  contact      4392 non-null   datetime64[ns]\n",
      " 29  term         4392 non-null   datetime64[ns]\n",
      " 30  length       4392 non-null   float64       \n",
      "dtypes: datetime64[ns](2), float64(27), int64(1), object(1)\n",
      "memory usage: 1.1+ MB\n"
     ]
    }
   ],
   "source": [
    "import pandas as pd\n",
    "import numpy as np\n",
    "import project_functions1 # This is called a relative import\n",
    "data = project_functions1.load_and_process(\"../data/processed/rec1data.csv\", \"../data/processed/psychdata.csv\")\n",
    "data.info()"
   ]
  },
  {
   "cell_type": "code",
   "execution_count": 3,
   "id": "7185ac54",
   "metadata": {},
   "outputs": [],
   "source": [
    "# survival analysis libraries\n",
    "import matplotlib.pyplot as plt\n",
    "from lifelines import KaplanMeierFitter\n",
    "from lifelines import CoxPHFitter\n",
    "kmf = KaplanMeierFitter()\n",
    "cph = CoxPHFitter()"
   ]
  },
  {
   "cell_type": "code",
   "execution_count": 4,
   "id": "e0281aaf",
   "metadata": {},
   "outputs": [],
   "source": [
    "# I need another column here indicating that they all got out of treatment \n",
    "data[\"event\"] = 1\n"
   ]
  },
  {
   "cell_type": "code",
   "execution_count": 7,
   "id": "a5ddc4ba",
   "metadata": {},
   "outputs": [
    {
     "data": {
      "text/plain": [
       "<lifelines.KaplanMeierFitter:\"KM_estimate\", fitted with 4392 total observations, 0 right-censored observations>"
      ]
     },
     "execution_count": 7,
     "metadata": {},
     "output_type": "execute_result"
    }
   ],
   "source": [
    "# fitting model\n",
    "kmf.fit(durations =  data[\"length\"], event_observed = data[\"event\"])"
   ]
  },
  {
   "cell_type": "code",
   "execution_count": 8,
   "id": "d14caf54",
   "metadata": {},
   "outputs": [
    {
     "name": "stdout",
     "output_type": "stream",
     "text": [
      "          removed  observed  censored  entrance  at_risk\n",
      "event_at                                                \n",
      "0.0          1657      1657         0      4392     4392\n",
      "1.0            73        73         0         0     2735\n",
      "2.0            95        95         0         0     2662\n",
      "3.0           110       110         0         0     2567\n",
      "4.0           152       152         0         0     2457\n",
      "...           ...       ...       ...       ...      ...\n",
      "1852.0          1         1         0         0        5\n",
      "1881.0          1         1         0         0        4\n",
      "2155.0          1         1         0         0        3\n",
      "2340.0          1         1         0         0        2\n",
      "2590.0          1         1         0         0        1\n",
      "\n",
      "[393 rows x 5 columns]\n"
     ]
    }
   ],
   "source": [
    "print(kmf.event_table)"
   ]
  },
  {
   "cell_type": "code",
   "execution_count": 9,
   "id": "9d6cee63",
   "metadata": {},
   "outputs": [
    {
     "name": "stdout",
     "output_type": "stream",
     "text": [
      "          KM_estimate\n",
      "timeline             \n",
      "0.0          0.622723\n",
      "1.0          0.606102\n",
      "2.0          0.584472\n",
      "3.0          0.559426\n",
      "4.0          0.524818\n",
      "...               ...\n",
      "1852.0       0.000911\n",
      "1881.0       0.000683\n",
      "2155.0       0.000455\n",
      "2340.0       0.000228\n",
      "2590.0       0.000000\n",
      "\n",
      "[393 rows x 1 columns]\n"
     ]
    }
   ],
   "source": [
    "print(kmf.survival_function_)"
   ]
  },
  {
   "cell_type": "code",
   "execution_count": 11,
   "id": "efe84804",
   "metadata": {},
   "outputs": [
    {
     "data": {
      "text/plain": [
       "<AxesSubplot:xlabel='timeline'>"
      ]
     },
     "execution_count": 11,
     "metadata": {},
     "output_type": "execute_result"
    },
    {
     "data": {
      "image/png": "[encoded data removed]",
      "text/plain": [
       "<Figure size 432x288 with 1 Axes>"
      ]
     },
     "metadata": {
      "needs_background": "light"
     },
     "output_type": "display_data"
    }
   ],
   "source": [
    "kmf.plot()\n",
    "# This is the probability of remaining in treatment. There are no predictor \n",
    "# variables in the model yet."
   ]
  },
  {
   "cell_type": "code",
   "execution_count": 10,
   "id": "252579dd",
   "metadata": {},
   "outputs": [],
   "source": [
    "cph_data = data[[\"arrests\", \"jail\", \"race\", \"crime_num\", \"length\", \"event\"]].dropna()"
   ]
  },
  {
   "cell_type": "code",
   "execution_count": 11,
   "id": "79f69687",
   "metadata": {},
   "outputs": [
    {
     "data": {
      "text/plain": [
       "<lifelines.CoxPHFitter: fitted with 407 total observations, 0 right-censored observations>"
      ]
     },
     "execution_count": 11,
     "metadata": {},
     "output_type": "execute_result"
    }
   ],
   "source": [
    "cph.fit(cph_data, \"length\", event_col = \"event\")"
   ]
  },
  {
   "cell_type": "code",
   "execution_count": 12,
   "id": "2113929d",
   "metadata": {},
   "outputs": [
    {
     "data": {
      "text/html": [
       "<div>\n",
       "<style scoped>\n",
       "    .dataframe tbody tr th:only-of-type {\n",
       "        vertical-align: middle;\n",
       "    }\n",
       "\n",
       "    .dataframe tbody tr th {\n",
       "        vertical-align: top;\n",
       "    }\n",
       "\n",
       "    .dataframe thead th {\n",
       "        text-align: right;\n",
       "    }\n",
       "</style>\n",
       "<table border=\"1\" class=\"dataframe\">\n",
       "  <tbody>\n",
       "    <tr>\n",
       "      <th>model</th>\n",
       "      <td>lifelines.CoxPHFitter</td>\n",
       "    </tr>\n",
       "    <tr>\n",
       "      <th>duration col</th>\n",
       "      <td>'length'</td>\n",
       "    </tr>\n",
       "    <tr>\n",
       "      <th>event col</th>\n",
       "      <td>'event'</td>\n",
       "    </tr>\n",
       "    <tr>\n",
       "      <th>baseline estimation</th>\n",
       "      <td>breslow</td>\n",
       "    </tr>\n",
       "    <tr>\n",
       "      <th>number of observations</th>\n",
       "      <td>407</td>\n",
       "    </tr>\n",
       "    <tr>\n",
       "      <th>number of events observed</th>\n",
       "      <td>407</td>\n",
       "    </tr>\n",
       "    <tr>\n",
       "      <th>partial log-likelihood</th>\n",
       "      <td>-2034.39</td>\n",
       "    </tr>\n",
       "    <tr>\n",
       "      <th>time fit was run</th>\n",
       "      <td>2021-10-24 19:49:03 UTC</td>\n",
       "    </tr>\n",
       "  </tbody>\n",
       "</table>\n",
       "</div><table border=\"1\" class=\"dataframe\">\n",
       "  <thead>\n",
       "    <tr style=\"text-align: right;\">\n",
       "      <th style=\"min-width: 12px;\"></th>\n",
       "      <th style=\"min-width: 12px;\">coef</th>\n",
       "      <th style=\"min-width: 12px;\">exp(coef)</th>\n",
       "      <th style=\"min-width: 12px;\">se(coef)</th>\n",
       "      <th style=\"min-width: 12px;\">coef lower 95%</th>\n",
       "      <th style=\"min-width: 12px;\">coef upper 95%</th>\n",
       "      <th style=\"min-width: 12px;\">exp(coef) lower 95%</th>\n",
       "      <th style=\"min-width: 12px;\">exp(coef) upper 95%</th>\n",
       "      <th style=\"min-width: 12px;\">z</th>\n",
       "      <th style=\"min-width: 12px;\">p</th>\n",
       "      <th style=\"min-width: 12px;\">-log2(p)</th>\n",
       "    </tr>\n",
       "  </thead>\n",
       "  <tbody>\n",
       "    <tr>\n",
       "      <th>arrests</th>\n",
       "      <td>-0.12</td>\n",
       "      <td>0.89</td>\n",
       "      <td>0.30</td>\n",
       "      <td>-0.71</td>\n",
       "      <td>0.47</td>\n",
       "      <td>0.49</td>\n",
       "      <td>1.61</td>\n",
       "      <td>-0.38</td>\n",
       "      <td>0.70</td>\n",
       "      <td>0.51</td>\n",
       "    </tr>\n",
       "    <tr>\n",
       "      <th>jail</th>\n",
       "      <td>0.00</td>\n",
       "      <td>1.00</td>\n",
       "      <td>0.00</td>\n",
       "      <td>-0.00</td>\n",
       "      <td>0.00</td>\n",
       "      <td>1.00</td>\n",
       "      <td>1.00</td>\n",
       "      <td>0.40</td>\n",
       "      <td>0.69</td>\n",
       "      <td>0.53</td>\n",
       "    </tr>\n",
       "    <tr>\n",
       "      <th>race</th>\n",
       "      <td>-0.26</td>\n",
       "      <td>0.77</td>\n",
       "      <td>0.12</td>\n",
       "      <td>-0.50</td>\n",
       "      <td>-0.01</td>\n",
       "      <td>0.61</td>\n",
       "      <td>0.99</td>\n",
       "      <td>-2.06</td>\n",
       "      <td>0.04</td>\n",
       "      <td>4.66</td>\n",
       "    </tr>\n",
       "    <tr>\n",
       "      <th>crime_num</th>\n",
       "      <td>0.18</td>\n",
       "      <td>1.20</td>\n",
       "      <td>0.31</td>\n",
       "      <td>-0.43</td>\n",
       "      <td>0.79</td>\n",
       "      <td>0.65</td>\n",
       "      <td>2.21</td>\n",
       "      <td>0.58</td>\n",
       "      <td>0.56</td>\n",
       "      <td>0.83</td>\n",
       "    </tr>\n",
       "  </tbody>\n",
       "</table><br><div>\n",
       "<style scoped>\n",
       "    .dataframe tbody tr th:only-of-type {\n",
       "        vertical-align: middle;\n",
       "    }\n",
       "\n",
       "    .dataframe tbody tr th {\n",
       "        vertical-align: top;\n",
       "    }\n",
       "\n",
       "    .dataframe thead th {\n",
       "        text-align: right;\n",
       "    }\n",
       "</style>\n",
       "<table border=\"1\" class=\"dataframe\">\n",
       "  <tbody>\n",
       "    <tr>\n",
       "      <th>Concordance</th>\n",
       "      <td>0.56</td>\n",
       "    </tr>\n",
       "    <tr>\n",
       "      <th>Partial AIC</th>\n",
       "      <td>4076.77</td>\n",
       "    </tr>\n",
       "    <tr>\n",
       "      <th>log-likelihood ratio test</th>\n",
       "      <td>16.25 on 4 df</td>\n",
       "    </tr>\n",
       "    <tr>\n",
       "      <th>-log2(p) of ll-ratio test</th>\n",
       "      <td>8.53</td>\n",
       "    </tr>\n",
       "  </tbody>\n",
       "</table>\n",
       "</div>"
      ],
      "text/latex": [
       "\\begin{tabular}{lrrrrrrrrrr}\n",
       "\\toprule\n",
       "{} &  coef &  exp(coef) &  se(coef) &  coef lower 95\\% &  coef upper 95\\% &  exp(coef) lower 95\\% &  exp(coef) upper 95\\% &     z &    p &  -log2(p) \\\\\n",
       "covariate &       &            &           &                 &                 &                      &                      &       &      &           \\\\\n",
       "\\midrule\n",
       "arrests   & -0.12 &       0.89 &      0.30 &           -0.71 &            0.47 &                 0.49 &                 1.61 & -0.38 & 0.70 &      0.51 \\\\\n",
       "jail      &  0.00 &       1.00 &      0.00 &           -0.00 &            0.00 &                 1.00 &                 1.00 &  0.40 & 0.69 &      0.53 \\\\\n",
       "race      & -0.26 &       0.77 &      0.12 &           -0.50 &           -0.01 &                 0.61 &                 0.99 & -2.06 & 0.04 &      4.66 \\\\\n",
       "crime\\_num &  0.18 &       1.20 &      0.31 &           -0.43 &            0.79 &                 0.65 &                 2.21 &  0.58 & 0.56 &      0.83 \\\\\n",
       "\\bottomrule\n",
       "\\end{tabular}\n"
      ],
      "text/plain": [
       "<lifelines.CoxPHFitter: fitted with 407 total observations, 0 right-censored observations>\n",
       "             duration col = 'length'\n",
       "                event col = 'event'\n",
       "      baseline estimation = breslow\n",
       "   number of observations = 407\n",
       "number of events observed = 407\n",
       "   partial log-likelihood = -2034.39\n",
       "         time fit was run = 2021-10-24 19:49:03 UTC\n",
       "\n",
       "---\n",
       "            coef  exp(coef)   se(coef)   coef lower 95%   coef upper 95%  exp(coef) lower 95%  exp(coef) upper 95%\n",
       "covariate                                                                                                         \n",
       "arrests    -0.12       0.89       0.30            -0.71             0.47                 0.49                 1.61\n",
       "jail        0.00       1.00       0.00            -0.00             0.00                 1.00                 1.00\n",
       "race       -0.26       0.77       0.12            -0.50            -0.01                 0.61                 0.99\n",
       "crime_num   0.18       1.20       0.31            -0.43             0.79                 0.65                 2.21\n",
       "\n",
       "              z    p   -log2(p)\n",
       "covariate                      \n",
       "arrests   -0.38 0.70       0.51\n",
       "jail       0.40 0.69       0.53\n",
       "race      -2.06 0.04       4.66\n",
       "crime_num  0.58 0.56       0.83\n",
       "---\n",
       "Concordance = 0.56\n",
       "Partial AIC = 4076.77\n",
       "log-likelihood ratio test = 16.25 on 4 df\n",
       "-log2(p) of ll-ratio test = 8.53"
      ]
     },
     "metadata": {},
     "output_type": "display_data"
    }
   ],
   "source": [
    "cph.print_summary()"
   ]
  },
  {
   "cell_type": "markdown",
   "id": "d1fa8631",
   "metadata": {},
   "source": [
    "Number of arrests significantly predicts length of psychiatric treatment. This coefficient is positive though - very strange! More arrests mean higher likelihood of psychiatric treatment ending (shorter treatment duration). \n",
    "\n",
    "Time in jail doesn't significantly predict length of psychiatric treatment.\n",
    "\n",
    "Race predicts length of psychiatric treatment, but this is a categorical variable so we will have to probe further.\n",
    "\n",
    "Number of crimes doesn't significantly predict length of psychiatric treatment."
   ]
  },
  {
   "cell_type": "code",
   "execution_count": 49,
   "id": "b7afdae3",
   "metadata": {},
   "outputs": [
    {
     "name": "stdout",
     "output_type": "stream",
     "text": [
      "275\n",
      "59\n",
      "275    8.0\n",
      "59     3.0\n",
      "Name: arrests, dtype: float64\n"
     ]
    }
   ],
   "source": [
    "# looking for peolpe with highest and lowest values of arrests and jail variables\n",
    "print(np.argmax(data[\"arrests\"]))\n",
    "print(np.argmin(data[\"arrests\"]))\n",
    "print(data[\"arrests\"][[275,59]])"
   ]
  },
  {
   "cell_type": "code",
   "execution_count": 47,
   "id": "ce2d8049",
   "metadata": {},
   "outputs": [
    {
     "data": {
      "text/plain": [
       "<AxesSubplot:>"
      ]
     },
     "execution_count": 47,
     "metadata": {},
     "output_type": "execute_result"
    },
    {
     "data": {
      "image/png": "[encoded data removed]",
      "text/plain": [
       "<Figure size 432x288 with 1 Axes>"
      ]
     },
     "metadata": {
      "needs_background": "light"
     },
     "output_type": "display_data"
    }
   ],
   "source": [
    "d_data = data.iloc[[275,59],:]\n",
    "cph.predict_survival_function(d_data).plot()"
   ]
  },
  {
   "cell_type": "markdown",
   "id": "dfd5eb99",
   "metadata": {},
   "source": [
    "Participant 279 (8 arrests) is likely to be in psychiatric teratemnt for a shorter amount of time than participant 59 (3 arrests). This is very strange and the complete opposite of what I would have expected. At the same time, both have a very high probability of getting out of treatment very quickly (within 5 days). "
   ]
  },
  {
   "cell_type": "code",
   "execution_count": 74,
   "id": "c29f783a",
   "metadata": {},
   "outputs": [
    {
     "name": "stdout",
     "output_type": "stream",
     "text": [
      "(array([0, 0, 0, 0, 0, 0, 0, 0, 0, 0, 0, 0, 0, 0, 0, 0, 0, 0, 0]), array([ 83,  84,  85,  86,  87,  88,  89,  90,  91,  92,  93,  94,  95,\n",
      "        96,  97,  98,  99, 100, 274]))\n",
      "(array([0, 0, 0, 0, 0, 0, 0, 0, 0, 0, 0, 0, 0, 0, 0, 0, 0, 0, 0, 0, 0, 0,\n",
      "       0]), array([ 74,  75,  76,  77,  78, 298, 299, 300, 301, 302, 303, 304, 305,\n",
      "       306, 307, 308, 309, 310, 311, 312, 399, 400, 401]))\n"
     ]
    }
   ],
   "source": [
    "# Looking for participants of different races with the same number of arrests\n",
    "data[\"arrests\"].median()\n",
    "screen = [(data[\"arrests\"] == 7) & (data[\"race\"] == 1)]\n",
    "print(np.nonzero(screen))\n",
    "screen = [(data[\"arrests\"] == 7) & (data[\"race\"] == 2)]\n",
    "print(np.nonzero(screen))\n"
   ]
  },
  {
   "cell_type": "code",
   "execution_count": 75,
   "id": "88b13cec",
   "metadata": {},
   "outputs": [
    {
     "data": {
      "text/plain": [
       "<AxesSubplot:>"
      ]
     },
     "execution_count": 75,
     "metadata": {},
     "output_type": "execute_result"
    },
    {
     "data": {
      "image/png": "[encoded data removed]",
      "text/plain": [
       "<Figure size 432x288 with 1 Axes>"
      ]
     },
     "metadata": {
      "needs_background": "light"
     },
     "output_type": "display_data"
    }
   ],
   "source": [
    "d_data = data.iloc[[83,74],:]\n",
    "cph.predict_survival_function(d_data).plot()"
   ]
  },
  {
   "cell_type": "markdown",
   "id": "f7fd1394",
   "metadata": {},
   "source": [
    "White prisoners (race = 1) are more likely to get out of psychiatric treatment early than black prisoners (race = 2).\n",
    "\n",
    "Is there an interaction between arrests and race?"
   ]
  },
  {
   "cell_type": "code",
   "execution_count": 85,
   "id": "310f8c14",
   "metadata": {},
   "outputs": [
    {
     "name": "stdout",
     "output_type": "stream",
     "text": [
      "(array([0, 0, 0, 0, 0, 0, 0, 0, 0, 0, 0, 0, 0, 0, 0, 0, 0, 0, 0, 0, 0, 0,\n",
      "       0, 0, 0, 0, 0, 0, 0, 0, 0, 0, 0, 0, 0, 0, 0, 0, 0, 0, 0, 0, 0, 0,\n",
      "       0, 0, 0, 0, 0, 0, 0, 0, 0, 0, 0, 0, 0, 0, 0, 0, 0]), array([ 59,  60,  61,  73, 101, 102, 103, 104, 105, 106, 107, 108, 109,\n",
      "       110, 111, 112, 113, 114, 115, 116, 117, 118, 119, 120, 121, 293,\n",
      "       294, 295, 296, 297, 313, 314, 315, 316, 317, 318, 319, 320, 321,\n",
      "       322, 323, 324, 325, 326, 327, 328, 329, 330, 331, 332, 333, 334,\n",
      "       335, 336, 337, 338, 339, 340, 341, 342, 343]))\n",
      "(array([0, 0, 0, 0, 0, 0, 0, 0, 0, 0, 0, 0, 0]), array([ 79,  80,  81,  82, 357, 358, 359, 360, 361, 362, 363, 364, 365]))\n"
     ]
    }
   ],
   "source": [
    "# Looking for participants of different races with the same number of arrests - higher and lower values this time\n",
    "screen = [(data[\"arrests\"] == 3) & (data[\"race\"] == 1)]\n",
    "print(np.nonzero(screen))\n",
    "screen = [(data[\"arrests\"] == 3) & (data[\"race\"] == 2)]\n",
    "print(np.nonzero(screen))"
   ]
  },
  {
   "cell_type": "code",
   "execution_count": 86,
   "id": "66f0b202",
   "metadata": {},
   "outputs": [
    {
     "data": {
      "text/plain": [
       "<AxesSubplot:>"
      ]
     },
     "execution_count": 86,
     "metadata": {},
     "output_type": "execute_result"
    },
    {
     "data": {
      "image/png": "[encoded data removed]",
      "text/plain": [
       "<Figure size 432x288 with 1 Axes>"
      ]
     },
     "metadata": {
      "needs_background": "light"
     },
     "output_type": "display_data"
    }
   ],
   "source": [
    "d_data = data.iloc[[83,74,59,79],:]\n",
    "cph.predict_survival_function(d_data).plot()"
   ]
  },
  {
   "cell_type": "markdown",
   "id": "6c9d7dcc",
   "metadata": {},
   "source": [
    "83: White, median (7) arrests\n",
    "74: Black, median (7) arrests\n",
    "59: White, low (3) arrests\n",
    "79: Black, low (3) arrests\n",
    "\n",
    "The difference within race between low and median arrests is larger for Black prisoners. Having fewer arrests is associated with longer treatment time for Black prisoners to a greater extent than it is for White prisoners. \n",
    "\n",
    "How do arrest values differ by race?"
   ]
  },
  {
   "cell_type": "code",
   "execution_count": 92,
   "id": "f712c039",
   "metadata": {},
   "outputs": [
    {
     "data": {
      "text/plain": [
       "count    303.000000\n",
       "mean       6.339934\n",
       "std        2.453533\n",
       "min        3.000000\n",
       "25%        4.000000\n",
       "50%        7.000000\n",
       "75%        8.000000\n",
       "max       10.000000\n",
       "Name: arrests, dtype: float64"
      ]
     },
     "execution_count": 92,
     "metadata": {},
     "output_type": "execute_result"
    }
   ],
   "source": [
    "White = data[data[\"race\"] == 1]\n",
    "White[\"arrests\"].describe()"
   ]
  },
  {
   "cell_type": "code",
   "execution_count": 94,
   "id": "9f1bcb72",
   "metadata": {},
   "outputs": [
    {
     "data": {
      "text/plain": [
       "count    104.000000\n",
       "mean       7.038462\n",
       "std        3.785314\n",
       "min        3.000000\n",
       "25%        4.000000\n",
       "50%        5.000000\n",
       "75%        8.000000\n",
       "max       14.000000\n",
       "Name: arrests, dtype: float64"
      ]
     },
     "execution_count": 94,
     "metadata": {},
     "output_type": "execute_result"
    }
   ],
   "source": [
    "Black = data[data[\"race\"] == 2]\n",
    "Black[\"arrests\"].describe()"
   ]
  },
  {
   "cell_type": "code",
   "execution_count": 95,
   "id": "19d89760",
   "metadata": {},
   "outputs": [
    {
     "data": {
      "text/plain": [
       "array([[<AxesSubplot:title={'center':'arrests'}>]], dtype=object)"
      ]
     },
     "execution_count": 95,
     "metadata": {},
     "output_type": "execute_result"
    },
    {
     "data": {
      "image/png": "[encoded data removed]",
      "text/plain": [
       "<Figure size 432x288 with 1 Axes>"
      ]
     },
     "metadata": {
      "needs_background": "light"
     },
     "output_type": "display_data"
    }
   ],
   "source": [
    "White.hist(column = \"arrests\")"
   ]
  },
  {
   "cell_type": "code",
   "execution_count": 96,
   "id": "5a8bef2c",
   "metadata": {},
   "outputs": [
    {
     "data": {
      "text/plain": [
       "array([[<AxesSubplot:title={'center':'arrests'}>]], dtype=object)"
      ]
     },
     "execution_count": 96,
     "metadata": {},
     "output_type": "execute_result"
    },
    {
     "data": {
      "image/png": "[encoded data removed]",
      "text/plain": [
       "<Figure size 432x288 with 1 Axes>"
      ]
     },
     "metadata": {
      "needs_background": "light"
     },
     "output_type": "display_data"
    }
   ],
   "source": [
    "Black.hist(column = \"arrests\")"
   ]
  },
  {
   "cell_type": "markdown",
   "id": "ff8b7c4b",
   "metadata": {},
   "source": [
    "Number of arrests looks fairly similar for the two racial groups."
   ]
  }
 ],
 "metadata": {
  "kernelspec": {
   "display_name": "Python 3",
   "language": "python",
   "name": "python3"
  },
  "language_info": {
   "codemirror_mode": {
    "name": "ipython",
    "version": 3
   },
   "file_extension": ".py",
   "mimetype": "text/x-python",
   "name": "python",
   "nbconvert_exporter": "python",
   "pygments_lexer": "ipython3",
   "version": "3.9.5"
  }
 },
 "nbformat": 4,
 "nbformat_minor": 5
}
