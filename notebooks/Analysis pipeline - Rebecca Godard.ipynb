{
 "cells": [
  {
   "cell_type": "markdown",
   "id": "7a7926bf",
   "metadata": {},
   "source": [
    "# Step 1: Load data"
   ]
  },
  {
   "cell_type": "code",
   "execution_count": 1,
   "id": "64075765",
   "metadata": {},
   "outputs": [],
   "source": [
    "import pandas as pd\n",
    "import numpy as np"
   ]
  },
  {
   "cell_type": "code",
   "execution_count": 28,
   "id": "6054e424",
   "metadata": {},
   "outputs": [],
   "source": [
    "rec1data = pd.read_csv(\"../data/processed/rec1data.csv\")\n",
    "rec2data = pd.read_csv(\"../data/processed/rec2data.csv\")\n",
    "psychdata = pd.read_csv(\"../data/processed/psychdata.csv\")"
   ]
  },
  {
   "cell_type": "markdown",
   "id": "e47ab60a",
   "metadata": {},
   "source": [
    "# Step 2: Clean data"
   ]
  },
  {
   "cell_type": "code",
   "execution_count": 29,
   "id": "09e6ab0e",
   "metadata": {},
   "outputs": [
    {
     "name": "stderr",
     "output_type": "stream",
     "text": [
      "<ipython-input-29-4450631df2b6>:2: SettingWithCopyWarning: \n",
      "A value is trying to be set on a copy of a slice from a DataFrame\n",
      "\n",
      "See the caveats in the documentation: https://pandas.pydata.org/pandas-docs/stable/user_guide/indexing.html#returning-a-view-versus-a-copy\n",
      "  psychdata[\"date_contact\"][3597] = None\n",
      "<ipython-input-29-4450631df2b6>:3: SettingWithCopyWarning: \n",
      "A value is trying to be set on a copy of a slice from a DataFrame\n",
      "\n",
      "See the caveats in the documentation: https://pandas.pydata.org/pandas-docs/stable/user_guide/indexing.html#returning-a-view-versus-a-copy\n",
      "  psychdata[\"date_term\"][3597] = None\n"
     ]
    }
   ],
   "source": [
    "# Incorrect data\n",
    "psychdata[\"date_contact\"][3597] = None\n",
    "psychdata[\"date_term\"][3597] = None"
   ]
  },
  {
   "cell_type": "code",
   "execution_count": 30,
   "id": "2cd2d4e1",
   "metadata": {},
   "outputs": [],
   "source": [
    "# Convert dates to usable format\n",
    "psychdata[\"date_contact\"] = psychdata[\"date_contact\"] + 19000000\n",
    "psychdata[\"date_term\"] = psychdata[\"date_term\"] + 19000000"
   ]
  },
  {
   "cell_type": "code",
   "execution_count": 31,
   "id": "982dc3c9",
   "metadata": {},
   "outputs": [],
   "source": [
    "# Remove unneeded columns\n",
    "psychdata = psychdata[[\"id\", \"contact\", \"date_contact\", \"diagnosis\", \"service\", \"date_term\", \"reason_term\"]]\n",
    "del rec1data[\"rid\"]\n",
    "del rec2data[\"rid\"]"
   ]
  },
  {
   "cell_type": "code",
   "execution_count": 44,
   "id": "8b7c81ca",
   "metadata": {},
   "outputs": [],
   "source": [
    "# Remove unneeded rows from matched non-prisoner cases\n",
    "rec1data = rec1data[rec1data[\"crime01\"] > 0]\n",
    "rec2data = rec2data.loc[range(616),:]"
   ]
  },
  {
   "cell_type": "code",
   "execution_count": 47,
   "id": "5cd8ce56",
   "metadata": {},
   "outputs": [],
   "source": [
    "# Merge rec1 and rec2 data frames\n",
    "comb_data = rec1data.merge(rec2data, on = \"id\", how = \"outer\")\n",
    "del comb_data[\"Unnamed: 0_x\"]"
   ]
  },
  {
   "cell_type": "code",
   "execution_count": 50,
   "id": "e1a1a707",
   "metadata": {},
   "outputs": [
    {
     "name": "stdout",
     "output_type": "stream",
     "text": [
      "<class 'pandas.core.frame.DataFrame'>\n",
      "Int64Index: 3479 entries, 0 to 3478\n",
      "Data columns (total 58 columns):\n",
      " #   Column            Non-Null Count  Dtype  \n",
      "---  ------            --------------  -----  \n",
      " 0   id                3479 non-null   int64  \n",
      " 1   sex               3479 non-null   int64  \n",
      " 2   birth             3479 non-null   int64  \n",
      " 3   race              3479 non-null   int64  \n",
      " 4   educ              3479 non-null   int64  \n",
      " 5   marital           3479 non-null   int64  \n",
      " 6   children          3479 non-null   int64  \n",
      " 7   occupat           3479 non-null   int64  \n",
      " 8   arrests           3479 non-null   int64  \n",
      " 9   jail              3479 non-null   int64  \n",
      " 10  crime01           3479 non-null   int64  \n",
      " 11  crime02           3479 non-null   int64  \n",
      " 12  crime03           3479 non-null   int64  \n",
      " 13  crime04           3479 non-null   int64  \n",
      " 14  crime05           3479 non-null   int64  \n",
      " 15  crime06           3479 non-null   int64  \n",
      " 16  crime07           3479 non-null   int64  \n",
      " 17  crime08           3479 non-null   int64  \n",
      " 18  crime09           3479 non-null   int64  \n",
      " 19  crime10           3479 non-null   int64  \n",
      " 20  crime11           3479 non-null   int64  \n",
      " 21  crime12           3479 non-null   int64  \n",
      " 22  crime13           3479 non-null   int64  \n",
      " 23  crime14           3479 non-null   int64  \n",
      " 24  Unnamed: 0_y      3478 non-null   float64\n",
      " 25  pub_intox         3478 non-null   float64\n",
      " 26  pet_larc          3478 non-null   float64\n",
      " 27  misc              3478 non-null   float64\n",
      " 28  assault           3478 non-null   float64\n",
      " 29  arson             3478 non-null   float64\n",
      " 30  rape              3478 non-null   float64\n",
      " 31  forgery           3478 non-null   float64\n",
      " 32  consp             3478 non-null   float64\n",
      " 33  mvv               3478 non-null   float64\n",
      " 34  narc              3478 non-null   float64\n",
      " 35  viol_prob         3478 non-null   float64\n",
      " 36  viol_parole       3478 non-null   float64\n",
      " 37  gambling          3478 non-null   float64\n",
      " 38  grand_larc        3478 non-null   float64\n",
      " 39  robbery           3478 non-null   float64\n",
      " 40  burglary          3478 non-null   float64\n",
      " 41  sex_off           3478 non-null   float64\n",
      " 42  crim_poss_weap    3478 non-null   float64\n",
      " 43  crim_poss_instr   3478 non-null   float64\n",
      " 44  obst_gov          3478 non-null   float64\n",
      " 45  res_arrest        3478 non-null   float64\n",
      " 46  escape            3478 non-null   float64\n",
      " 47  crim_poss_stolen  3478 non-null   float64\n",
      " 48  reck_endanger     3478 non-null   float64\n",
      " 49  crim_neg_hom      3478 non-null   float64\n",
      " 50  youth_off         3478 non-null   float64\n",
      " 51  crim_tresspasss   3478 non-null   float64\n",
      " 52  contact           3248 non-null   float64\n",
      " 53  date_contact      3248 non-null   float64\n",
      " 54  diagnosis         3248 non-null   object \n",
      " 55  service           3248 non-null   float64\n",
      " 56  date_term         3248 non-null   float64\n",
      " 57  reason_term       3248 non-null   float64\n",
      "dtypes: float64(33), int64(24), object(1)\n",
      "memory usage: 1.6+ MB\n"
     ]
    }
   ],
   "source": [
    "# Merge with psychdata, which will delete rows from non-prisoner cases\n",
    "dta = comb_data.merge(psychdata, on = \"id\", how = \"left\")\n",
    "dta.info()"
   ]
  },
  {
   "cell_type": "markdown",
   "id": "ad7e1ce1",
   "metadata": {},
   "source": [
    "# Step 3: Process data"
   ]
  },
  {
   "cell_type": "code",
   "execution_count": null,
   "id": "38828241",
   "metadata": {},
   "outputs": [],
   "source": [
    "# Create length of treatment variable\n",
    "dta[\"date_contact\"] = pd.to_datetime(dta[\"date_contact\"], format='%Y%m%d', errors = \"coerce\")\n",
    "dta[\"date_term\"] = pd.to_datetime(dta[\"date_term\"], format='%Y%m%d', errors = \"coerce\")\n",
    "dta[\"length_treat\"] = (dta[\"date_term\"] - dta[\"date_contact\"]).dt.days\n",
    "dta[\"length_treat\"].describe()"
   ]
  },
  {
   "cell_type": "markdown",
   "id": "e6bce1c9",
   "metadata": {},
   "source": [
    "# Step 4: Wrangle data"
   ]
  },
  {
   "cell_type": "markdown",
   "id": "6fffddf1",
   "metadata": {},
   "source": [
    "I had to do this step earlier to remove the rows that I'm not using."
   ]
  }
 ],
 "metadata": {
  "kernelspec": {
   "display_name": "Python 3",
   "language": "python",
   "name": "python3"
  },
  "language_info": {
   "codemirror_mode": {
    "name": "ipython",
    "version": 3
   },
   "file_extension": ".py",
   "mimetype": "text/x-python",
   "name": "python",
   "nbconvert_exporter": "python",
   "pygments_lexer": "ipython3",
   "version": "3.9.5"
  }
 },
 "nbformat": 4,
 "nbformat_minor": 5
}
