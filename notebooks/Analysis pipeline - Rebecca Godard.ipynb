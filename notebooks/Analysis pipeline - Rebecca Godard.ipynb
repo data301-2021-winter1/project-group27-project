{
 "cells": [
  {
   "cell_type": "markdown",
   "id": "7a7926bf",
   "metadata": {},
   "source": [
    "# Step 1: Load data"
   ]
  },
  {
   "cell_type": "code",
   "execution_count": 2,
   "id": "64075765",
   "metadata": {},
   "outputs": [],
   "source": [
    "import pandas as pd\n",
    "import numpy as np"
   ]
  },
  {
   "cell_type": "code",
   "execution_count": 3,
   "id": "6054e424",
   "metadata": {},
   "outputs": [],
   "source": [
    "rec1data = pd.read_csv(\"../data/processed/rec1data.csv\")\n",
    "psychdata = pd.read_csv(\"../data/processed/psychdata.csv\")"
   ]
  },
  {
   "cell_type": "markdown",
   "id": "e47ab60a",
   "metadata": {},
   "source": [
    "# Step 2: Clean data"
   ]
  },
  {
   "cell_type": "code",
   "execution_count": 4,
   "id": "09e6ab0e",
   "metadata": {},
   "outputs": [
    {
     "name": "stderr",
     "output_type": "stream",
     "text": [
      "<ipython-input-4-4450631df2b6>:2: SettingWithCopyWarning: \n",
      "A value is trying to be set on a copy of a slice from a DataFrame\n",
      "\n",
      "See the caveats in the documentation: https://pandas.pydata.org/pandas-docs/stable/user_guide/indexing.html#returning-a-view-versus-a-copy\n",
      "  psychdata[\"date_contact\"][3597] = None\n",
      "<ipython-input-4-4450631df2b6>:3: SettingWithCopyWarning: \n",
      "A value is trying to be set on a copy of a slice from a DataFrame\n",
      "\n",
      "See the caveats in the documentation: https://pandas.pydata.org/pandas-docs/stable/user_guide/indexing.html#returning-a-view-versus-a-copy\n",
      "  psychdata[\"date_term\"][3597] = None\n"
     ]
    }
   ],
   "source": [
    "# Incorrect data\n",
    "psychdata[\"date_contact\"][3597] = None\n",
    "psychdata[\"date_term\"][3597] = None"
   ]
  },
  {
   "cell_type": "code",
   "execution_count": 5,
   "id": "2cd2d4e1",
   "metadata": {},
   "outputs": [],
   "source": [
    "# Convert dates to usable format\n",
    "psychdata[\"date_contact\"] = psychdata[\"date_contact\"] + 19000000\n",
    "psychdata[\"date_term\"] = psychdata[\"date_term\"] + 19000000"
   ]
  },
  {
   "cell_type": "code",
   "execution_count": 6,
   "id": "982dc3c9",
   "metadata": {},
   "outputs": [],
   "source": [
    "# Remove unneeded columns\n",
    "psychdata = psychdata[[\"id\", \"contact\", \"date_contact\", \"diagnosis\", \"service\", \"date_term\", \"reason_term\"]]\n",
    "del rec1data[\"rid\"]"
   ]
  },
  {
   "cell_type": "code",
   "execution_count": 7,
   "id": "8b7c81ca",
   "metadata": {},
   "outputs": [],
   "source": [
    "# Remove unneeded rows from matched non-prisoner cases\n",
    "rec1data = rec1data[rec1data[\"crime01\"] > 0]"
   ]
  },
  {
   "cell_type": "code",
   "execution_count": 9,
   "id": "e1a1a707",
   "metadata": {},
   "outputs": [
    {
     "name": "stdout",
     "output_type": "stream",
     "text": [
      "<class 'pandas.core.frame.DataFrame'>\n",
      "Int64Index: 3479 entries, 0 to 3478\n",
      "Data columns (total 31 columns):\n",
      " #   Column        Non-Null Count  Dtype  \n",
      "---  ------        --------------  -----  \n",
      " 0   Unnamed: 0    3479 non-null   int64  \n",
      " 1   id            3479 non-null   int64  \n",
      " 2   sex           3479 non-null   int64  \n",
      " 3   birth         3479 non-null   int64  \n",
      " 4   race          3479 non-null   int64  \n",
      " 5   educ          3479 non-null   int64  \n",
      " 6   marital       3479 non-null   int64  \n",
      " 7   children      3479 non-null   int64  \n",
      " 8   occupat       3479 non-null   int64  \n",
      " 9   arrests       3479 non-null   int64  \n",
      " 10  jail          3479 non-null   int64  \n",
      " 11  crime01       3479 non-null   int64  \n",
      " 12  crime02       3479 non-null   int64  \n",
      " 13  crime03       3479 non-null   int64  \n",
      " 14  crime04       3479 non-null   int64  \n",
      " 15  crime05       3479 non-null   int64  \n",
      " 16  crime06       3479 non-null   int64  \n",
      " 17  crime07       3479 non-null   int64  \n",
      " 18  crime08       3479 non-null   int64  \n",
      " 19  crime09       3479 non-null   int64  \n",
      " 20  crime10       3479 non-null   int64  \n",
      " 21  crime11       3479 non-null   int64  \n",
      " 22  crime12       3479 non-null   int64  \n",
      " 23  crime13       3479 non-null   int64  \n",
      " 24  crime14       3479 non-null   int64  \n",
      " 25  contact       3248 non-null   float64\n",
      " 26  date_contact  3248 non-null   float64\n",
      " 27  diagnosis     3248 non-null   object \n",
      " 28  service       3248 non-null   float64\n",
      " 29  date_term     3248 non-null   float64\n",
      " 30  reason_term   3248 non-null   float64\n",
      "dtypes: float64(5), int64(25), object(1)\n",
      "memory usage: 869.8+ KB\n"
     ]
    }
   ],
   "source": [
    "# Merge with psychdata, which will delete rows from non-prisoner cases\n",
    "dta = rec1data.merge(psychdata, on = \"id\", how = \"left\")\n",
    "dta.info()"
   ]
  },
  {
   "cell_type": "markdown",
   "id": "ad7e1ce1",
   "metadata": {},
   "source": [
    "# Step 3: Process data"
   ]
  },
  {
   "cell_type": "code",
   "execution_count": 11,
   "id": "38828241",
   "metadata": {},
   "outputs": [
    {
     "data": {
      "text/plain": [
       "count    3155.000000\n",
       "mean       37.560697\n",
       "std       118.498069\n",
       "min         0.000000\n",
       "25%         0.000000\n",
       "50%         5.000000\n",
       "75%        16.000000\n",
       "max      2590.000000\n",
       "Name: length_treat, dtype: float64"
      ]
     },
     "execution_count": 11,
     "metadata": {},
     "output_type": "execute_result"
    }
   ],
   "source": [
    "# Create length of treatment variable\n",
    "dta[\"date_contact\"] = pd.to_datetime(dta[\"date_contact\"], format='%Y%m%d', errors = \"coerce\")\n",
    "dta[\"date_term\"] = pd.to_datetime(dta[\"date_term\"], format='%Y%m%d', errors = \"coerce\")\n",
    "dta[\"length_treat\"] = (dta[\"date_term\"] - dta[\"date_contact\"]).dt.days\n",
    "dta[\"length_treat\"].describe()"
   ]
  },
  {
   "cell_type": "code",
   "execution_count": 10,
   "id": "416730b4",
   "metadata": {},
   "outputs": [
    {
     "data": {
      "text/plain": [
       "count    3479.000000\n",
       "mean        1.791894\n",
       "std         2.000096\n",
       "min         1.000000\n",
       "25%         1.000000\n",
       "50%         1.000000\n",
       "75%         2.000000\n",
       "max        13.000000\n",
       "Name: crime_num, dtype: float64"
      ]
     },
     "execution_count": 10,
     "metadata": {},
     "output_type": "execute_result"
    }
   ],
   "source": [
    "# Create number of crimes variable\n",
    "dta['crime_num'] = (dta.iloc[:,11:24] != 0).sum(axis=1)\n",
    "dta[\"crime_num\"].describe()"
   ]
  },
  {
   "cell_type": "markdown",
   "id": "e6bce1c9",
   "metadata": {},
   "source": [
    "# Step 4: Wrangle data"
   ]
  },
  {
   "cell_type": "markdown",
   "id": "6fffddf1",
   "metadata": {},
   "source": [
    "I had to do this step earlier to remove the rows that I'm not using."
   ]
  }
 ],
 "metadata": {
  "kernelspec": {
   "display_name": "Python 3",
   "language": "python",
   "name": "python3"
  },
  "language_info": {
   "codemirror_mode": {
    "name": "ipython",
    "version": 3
   },
   "file_extension": ".py",
   "mimetype": "text/x-python",
   "name": "python",
   "nbconvert_exporter": "python",
   "pygments_lexer": "ipython3",
   "version": "3.9.5"
  }
 },
 "nbformat": 4,
 "nbformat_minor": 5
}
